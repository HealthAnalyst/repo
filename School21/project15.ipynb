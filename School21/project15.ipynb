{
 "cells": [
  {
   "cell_type": "code",
   "execution_count": 1,
   "id": "de51d165",
   "metadata": {},
   "outputs": [],
   "source": [
    "import pandas as pd"
   ]
  },
  {
   "cell_type": "code",
   "execution_count": 2,
   "id": "eaec53d9",
   "metadata": {},
   "outputs": [
    {
     "name": "stdout",
     "output_type": "stream",
     "text": [
      "<class 'pandas.core.frame.DataFrame'>\n",
      "RangeIndex: 16999 entries, 0 to 16998\n",
      "Data columns (total 6 columns):\n",
      " #   Column       Non-Null Count  Dtype \n",
      "---  ------       --------------  ----- \n",
      " 0   username     16999 non-null  object\n",
      " 1   register_ts  16999 non-null  object\n",
      " 2   device_os    16999 non-null  object\n",
      " 3   lang         16999 non-null  object\n",
      " 4   country      16999 non-null  object\n",
      " 5   day_reg      16999 non-null  object\n",
      "dtypes: object(6)\n",
      "memory usage: 797.0+ KB\n"
     ]
    }
   ],
   "source": [
    "installs=pd.read_csv('app_installs_processed.csv')\n",
    "installs.info()"
   ]
  },
  {
   "cell_type": "code",
   "execution_count": 3,
   "id": "e0befb8c",
   "metadata": {},
   "outputs": [],
   "source": [
    "#change format\n",
    "installs['day_reg'] = pd.to_datetime(installs['day_reg'])"
   ]
  },
  {
   "cell_type": "code",
   "execution_count": 4,
   "id": "138679bf",
   "metadata": {},
   "outputs": [],
   "source": [
    "# drop duplicates\n",
    "installs = installs.drop_duplicates(subset=['username'],keep=False)"
   ]
  },
  {
   "cell_type": "code",
   "execution_count": 5,
   "id": "f72bfe55",
   "metadata": {},
   "outputs": [],
   "source": [
    "# drop unwanted columns\n",
    "installs.drop(['register_ts', 'device_os'], axis= 1 , inplace= True ) "
   ]
  },
  {
   "cell_type": "code",
   "execution_count": 6,
   "id": "cf731069",
   "metadata": {},
   "outputs": [
    {
     "name": "stdout",
     "output_type": "stream",
     "text": [
      "<class 'pandas.core.frame.DataFrame'>\n",
      "Int64Index: 15777 entries, 0 to 16998\n",
      "Data columns (total 4 columns):\n",
      " #   Column    Non-Null Count  Dtype         \n",
      "---  ------    --------------  -----         \n",
      " 0   username  15777 non-null  object        \n",
      " 1   lang      15777 non-null  object        \n",
      " 2   country   15777 non-null  object        \n",
      " 3   day_reg   15777 non-null  datetime64[ns]\n",
      "dtypes: datetime64[ns](1), object(3)\n",
      "memory usage: 616.3+ KB\n"
     ]
    }
   ],
   "source": [
    "installs.info()"
   ]
  },
  {
   "cell_type": "code",
   "execution_count": 7,
   "id": "7f9cf832",
   "metadata": {},
   "outputs": [
    {
     "data": {
      "text/plain": [
       "username                 zyoder\n",
       "lang                      lang2\n",
       "country                country3\n",
       "day_reg     2023-06-24 00:00:00\n",
       "dtype: object"
      ]
     },
     "execution_count": 7,
     "metadata": {},
     "output_type": "execute_result"
    }
   ],
   "source": [
    "maxValues = installs.max(skipna=False)\n",
    "maxValues"
   ]
  },
  {
   "cell_type": "code",
   "execution_count": 8,
   "id": "a7568130",
   "metadata": {},
   "outputs": [
    {
     "data": {
      "text/plain": [
       "username                aabbott\n",
       "lang                      lang1\n",
       "country                country1\n",
       "day_reg     2022-03-25 00:00:00\n",
       "dtype: object"
      ]
     },
     "execution_count": 8,
     "metadata": {},
     "output_type": "execute_result"
    }
   ],
   "source": [
    "minValues = installs.min(skipna=False)\n",
    "minValues"
   ]
  },
  {
   "cell_type": "markdown",
   "id": "b16dbd80",
   "metadata": {},
   "source": [
    "#  # TASK 2"
   ]
  },
  {
   "cell_type": "code",
   "execution_count": 9,
   "id": "71797625",
   "metadata": {},
   "outputs": [
    {
     "data": {
      "text/html": [
       "<div>\n",
       "<style scoped>\n",
       "    .dataframe tbody tr th:only-of-type {\n",
       "        vertical-align: middle;\n",
       "    }\n",
       "\n",
       "    .dataframe tbody tr th {\n",
       "        vertical-align: top;\n",
       "    }\n",
       "\n",
       "    .dataframe thead th {\n",
       "        text-align: right;\n",
       "    }\n",
       "</style>\n",
       "<table border=\"1\" class=\"dataframe\">\n",
       "  <thead>\n",
       "    <tr style=\"text-align: right;\">\n",
       "      <th></th>\n",
       "      <th>username</th>\n",
       "      <th>lang</th>\n",
       "      <th>day_reg</th>\n",
       "    </tr>\n",
       "    <tr>\n",
       "      <th>country</th>\n",
       "      <th></th>\n",
       "      <th></th>\n",
       "      <th></th>\n",
       "    </tr>\n",
       "  </thead>\n",
       "  <tbody>\n",
       "    <tr>\n",
       "      <th>country1</th>\n",
       "      <td>1698</td>\n",
       "      <td>1698</td>\n",
       "      <td>1698</td>\n",
       "    </tr>\n",
       "    <tr>\n",
       "      <th>country2</th>\n",
       "      <td>9841</td>\n",
       "      <td>9841</td>\n",
       "      <td>9841</td>\n",
       "    </tr>\n",
       "    <tr>\n",
       "      <th>country3</th>\n",
       "      <td>4238</td>\n",
       "      <td>4238</td>\n",
       "      <td>4238</td>\n",
       "    </tr>\n",
       "  </tbody>\n",
       "</table>\n",
       "</div>"
      ],
      "text/plain": [
       "          username  lang  day_reg\n",
       "country                          \n",
       "country1      1698  1698     1698\n",
       "country2      9841  9841     9841\n",
       "country3      4238  4238     4238"
      ]
     },
     "execution_count": 9,
     "metadata": {},
     "output_type": "execute_result"
    }
   ],
   "source": [
    "# number users by countries\n",
    "installs.groupby(['country']).count()\n"
   ]
  },
  {
   "cell_type": "code",
   "execution_count": 10,
   "id": "6d38d301",
   "metadata": {},
   "outputs": [
    {
     "name": "stdout",
     "output_type": "stream",
     "text": [
      "<class 'pandas.core.frame.DataFrame'>\n",
      "Int64Index: 9841 entries, 0 to 16998\n",
      "Data columns (total 4 columns):\n",
      " #   Column    Non-Null Count  Dtype         \n",
      "---  ------    --------------  -----         \n",
      " 0   username  9841 non-null   object        \n",
      " 1   lang      9841 non-null   object        \n",
      " 2   country   9841 non-null   object        \n",
      " 3   day_reg   9841 non-null   datetime64[ns]\n",
      "dtypes: datetime64[ns](1), object(3)\n",
      "memory usage: 384.4+ KB\n"
     ]
    }
   ],
   "source": [
    "# country 2 loc\n",
    "lang=installs.loc[(installs['country']=='country2')]\n",
    "lang.info()"
   ]
  },
  {
   "cell_type": "code",
   "execution_count": 11,
   "id": "597e668f",
   "metadata": {},
   "outputs": [
    {
     "data": {
      "text/html": [
       "<div>\n",
       "<style scoped>\n",
       "    .dataframe tbody tr th:only-of-type {\n",
       "        vertical-align: middle;\n",
       "    }\n",
       "\n",
       "    .dataframe tbody tr th {\n",
       "        vertical-align: top;\n",
       "    }\n",
       "\n",
       "    .dataframe thead th {\n",
       "        text-align: right;\n",
       "    }\n",
       "</style>\n",
       "<table border=\"1\" class=\"dataframe\">\n",
       "  <thead>\n",
       "    <tr style=\"text-align: right;\">\n",
       "      <th></th>\n",
       "      <th>username</th>\n",
       "      <th>country</th>\n",
       "      <th>day_reg</th>\n",
       "    </tr>\n",
       "    <tr>\n",
       "      <th>lang</th>\n",
       "      <th></th>\n",
       "      <th></th>\n",
       "      <th></th>\n",
       "    </tr>\n",
       "  </thead>\n",
       "  <tbody>\n",
       "    <tr>\n",
       "      <th>lang1</th>\n",
       "      <td>3403</td>\n",
       "      <td>3403</td>\n",
       "      <td>3403</td>\n",
       "    </tr>\n",
       "    <tr>\n",
       "      <th>lang2</th>\n",
       "      <td>6438</td>\n",
       "      <td>6438</td>\n",
       "      <td>6438</td>\n",
       "    </tr>\n",
       "  </tbody>\n",
       "</table>\n",
       "</div>"
      ],
      "text/plain": [
       "       username  country  day_reg\n",
       "lang                             \n",
       "lang1      3403     3403     3403\n",
       "lang2      6438     6438     6438"
      ]
     },
     "execution_count": 11,
     "metadata": {},
     "output_type": "execute_result"
    }
   ],
   "source": [
    "# coutry 2 users counts\n",
    "lang.groupby(['lang']).count()"
   ]
  },
  {
   "cell_type": "code",
   "execution_count": 12,
   "id": "98419fa3",
   "metadata": {},
   "outputs": [
    {
     "name": "stdout",
     "output_type": "stream",
     "text": [
      "<class 'pandas.core.frame.DataFrame'>\n",
      "Int64Index: 9349 entries, 0 to 16998\n",
      "Data columns (total 4 columns):\n",
      " #   Column    Non-Null Count  Dtype         \n",
      "---  ------    --------------  -----         \n",
      " 0   username  9349 non-null   object        \n",
      " 1   lang      9349 non-null   object        \n",
      " 2   country   9349 non-null   object        \n",
      " 3   day_reg   9349 non-null   datetime64[ns]\n",
      "dtypes: datetime64[ns](1), object(3)\n",
      "memory usage: 365.2+ KB\n"
     ]
    }
   ],
   "source": [
    "# lock by dates for retention\n",
    "lang_common = lang.loc[(lang['day_reg']<='2023-05-27')]\n",
    "lang_common.info()"
   ]
  },
  {
   "cell_type": "code",
   "execution_count": 13,
   "id": "d47f256f",
   "metadata": {},
   "outputs": [
    {
     "name": "stdout",
     "output_type": "stream",
     "text": [
      "<class 'pandas.core.frame.DataFrame'>\n",
      "Int64Index: 6704 entries, 0 to 16998\n",
      "Data columns (total 4 columns):\n",
      " #   Column    Non-Null Count  Dtype         \n",
      "---  ------    --------------  -----         \n",
      " 0   username  6704 non-null   object        \n",
      " 1   lang      6704 non-null   object        \n",
      " 2   country   6704 non-null   object        \n",
      " 3   day_reg   6704 non-null   datetime64[ns]\n",
      "dtypes: datetime64[ns](1), object(3)\n",
      "memory usage: 261.9+ KB\n"
     ]
    }
   ],
   "source": [
    "# lock by dates for LTV\n",
    "lang_common1 = lang.loc[(lang['day_reg']<='2022-12-27')]\n",
    "lang_common1.info()"
   ]
  },
  {
   "cell_type": "markdown",
   "id": "3e87eded",
   "metadata": {},
   "source": [
    "# TASK5"
   ]
  },
  {
   "cell_type": "code",
   "execution_count": 14,
   "id": "8450a68c",
   "metadata": {},
   "outputs": [
    {
     "data": {
      "text/plain": [
       "lang1    3403\n",
       "lang2    3301\n",
       "Name: lang, dtype: int64"
      ]
     },
     "execution_count": 14,
     "metadata": {},
     "output_type": "execute_result"
    }
   ],
   "source": [
    "# users  numbers for  LTV\n",
    "lang_common1['lang'].value_counts()"
   ]
  },
  {
   "cell_type": "markdown",
   "id": "623050a0",
   "metadata": {},
   "source": [
    "# TASK 3"
   ]
  },
  {
   "cell_type": "code",
   "execution_count": 15,
   "id": "a4914de8",
   "metadata": {},
   "outputs": [
    {
     "data": {
      "text/plain": [
       "lang2    5946\n",
       "lang1    3403\n",
       "Name: lang, dtype: int64"
      ]
     },
     "execution_count": 15,
     "metadata": {},
     "output_type": "execute_result"
    }
   ],
   "source": [
    "lang_common['lang'].value_counts()"
   ]
  },
  {
   "cell_type": "code",
   "execution_count": 16,
   "id": "aa5c694d",
   "metadata": {},
   "outputs": [
    {
     "data": {
      "text/html": [
       "<div>\n",
       "<style scoped>\n",
       "    .dataframe tbody tr th:only-of-type {\n",
       "        vertical-align: middle;\n",
       "    }\n",
       "\n",
       "    .dataframe tbody tr th {\n",
       "        vertical-align: top;\n",
       "    }\n",
       "\n",
       "    .dataframe thead th {\n",
       "        text-align: right;\n",
       "    }\n",
       "</style>\n",
       "<table border=\"1\" class=\"dataframe\">\n",
       "  <thead>\n",
       "    <tr style=\"text-align: right;\">\n",
       "      <th></th>\n",
       "      <th>username</th>\n",
       "      <th>login_dt</th>\n",
       "      <th>login_ts</th>\n",
       "      <th>logout_ts</th>\n",
       "    </tr>\n",
       "  </thead>\n",
       "  <tbody>\n",
       "    <tr>\n",
       "      <th>0</th>\n",
       "      <td>richarddavid</td>\n",
       "      <td>2022-06-22 00:00:00</td>\n",
       "      <td>2022-06-22 06:00:28</td>\n",
       "      <td>2022-06-22 06:04:33</td>\n",
       "    </tr>\n",
       "    <tr>\n",
       "      <th>1</th>\n",
       "      <td>richarddavid</td>\n",
       "      <td>2022-04-05 00:00:00</td>\n",
       "      <td>2022-04-05 19:12:24</td>\n",
       "      <td>2022-04-05 20:14:19</td>\n",
       "    </tr>\n",
       "    <tr>\n",
       "      <th>2</th>\n",
       "      <td>richarddavid</td>\n",
       "      <td>2022-04-05 00:00:00</td>\n",
       "      <td>2022-04-05 18:38:36</td>\n",
       "      <td>2022-04-05 18:43:15</td>\n",
       "    </tr>\n",
       "    <tr>\n",
       "      <th>3</th>\n",
       "      <td>richarddavid</td>\n",
       "      <td>2022-04-05 00:00:00</td>\n",
       "      <td>2022-04-05 04:27:37</td>\n",
       "      <td>2022-04-05 04:31:33</td>\n",
       "    </tr>\n",
       "    <tr>\n",
       "      <th>4</th>\n",
       "      <td>richarddavid</td>\n",
       "      <td>2022-06-14 00:00:00</td>\n",
       "      <td>2022-06-14 18:01:18</td>\n",
       "      <td>2022-06-14 19:37:17</td>\n",
       "    </tr>\n",
       "    <tr>\n",
       "      <th>...</th>\n",
       "      <td>...</td>\n",
       "      <td>...</td>\n",
       "      <td>...</td>\n",
       "      <td>...</td>\n",
       "    </tr>\n",
       "    <tr>\n",
       "      <th>1031792</th>\n",
       "      <td>brandonfarmer</td>\n",
       "      <td>2022-10-24 00:00:00</td>\n",
       "      <td>2022-10-24 14:09:57</td>\n",
       "      <td>2022-10-24 17:09:06</td>\n",
       "    </tr>\n",
       "    <tr>\n",
       "      <th>1031793</th>\n",
       "      <td>jason00</td>\n",
       "      <td>2023-05-28 00:00:00</td>\n",
       "      <td>2023-05-28 12:20:40</td>\n",
       "      <td>2023-05-28 12:20:44</td>\n",
       "    </tr>\n",
       "    <tr>\n",
       "      <th>1031794</th>\n",
       "      <td>bhess</td>\n",
       "      <td>2023-03-26 00:00:00</td>\n",
       "      <td>2023-03-26 21:29:57</td>\n",
       "      <td>2023-03-26 23:40:36</td>\n",
       "    </tr>\n",
       "    <tr>\n",
       "      <th>1031795</th>\n",
       "      <td>timothy26</td>\n",
       "      <td>2022-10-28 00:00:00</td>\n",
       "      <td>2022-10-28 18:40:20</td>\n",
       "      <td>2022-10-28 19:20:25</td>\n",
       "    </tr>\n",
       "    <tr>\n",
       "      <th>1031796</th>\n",
       "      <td>lauratorres</td>\n",
       "      <td>2023-06-25 00:00:00</td>\n",
       "      <td>2023-06-25 11:05:02</td>\n",
       "      <td>2023-06-25 22:08:15</td>\n",
       "    </tr>\n",
       "  </tbody>\n",
       "</table>\n",
       "<p>1031797 rows × 4 columns</p>\n",
       "</div>"
      ],
      "text/plain": [
       "              username             login_dt             login_ts  \\\n",
       "0         richarddavid  2022-06-22 00:00:00  2022-06-22 06:00:28   \n",
       "1         richarddavid  2022-04-05 00:00:00  2022-04-05 19:12:24   \n",
       "2         richarddavid  2022-04-05 00:00:00  2022-04-05 18:38:36   \n",
       "3         richarddavid  2022-04-05 00:00:00  2022-04-05 04:27:37   \n",
       "4         richarddavid  2022-06-14 00:00:00  2022-06-14 18:01:18   \n",
       "...                ...                  ...                  ...   \n",
       "1031792  brandonfarmer  2022-10-24 00:00:00  2022-10-24 14:09:57   \n",
       "1031793        jason00  2023-05-28 00:00:00  2023-05-28 12:20:40   \n",
       "1031794          bhess  2023-03-26 00:00:00  2023-03-26 21:29:57   \n",
       "1031795      timothy26  2022-10-28 00:00:00  2022-10-28 18:40:20   \n",
       "1031796    lauratorres  2023-06-25 00:00:00  2023-06-25 11:05:02   \n",
       "\n",
       "                   logout_ts  \n",
       "0        2022-06-22 06:04:33  \n",
       "1        2022-04-05 20:14:19  \n",
       "2        2022-04-05 18:43:15  \n",
       "3        2022-04-05 04:31:33  \n",
       "4        2022-06-14 19:37:17  \n",
       "...                      ...  \n",
       "1031792  2022-10-24 17:09:06  \n",
       "1031793  2023-05-28 12:20:44  \n",
       "1031794  2023-03-26 23:40:36  \n",
       "1031795  2022-10-28 19:20:25  \n",
       "1031796  2023-06-25 22:08:15  \n",
       "\n",
       "[1031797 rows x 4 columns]"
      ]
     },
     "execution_count": 16,
     "metadata": {},
     "output_type": "execute_result"
    }
   ],
   "source": [
    "logins=pd.read_csv('logins_processed.csv')\n",
    "logins"
   ]
  },
  {
   "cell_type": "code",
   "execution_count": 17,
   "id": "35187d0a",
   "metadata": {},
   "outputs": [
    {
     "data": {
      "text/plain": [
       "70289"
      ]
     },
     "execution_count": 17,
     "metadata": {},
     "output_type": "execute_result"
    }
   ],
   "source": [
    "# count duplicates\n",
    "len(logins)- len(logins.drop_duplicates ())"
   ]
  },
  {
   "cell_type": "code",
   "execution_count": 18,
   "id": "c392a0f4",
   "metadata": {},
   "outputs": [],
   "source": [
    "# drop duplicates\n",
    "logins.drop_duplicates (inplace=True)"
   ]
  },
  {
   "cell_type": "code",
   "execution_count": 19,
   "id": "e5015ae4",
   "metadata": {},
   "outputs": [],
   "source": [
    "# drop unwanted columns\n",
    "logins.drop(['login_ts', 'logout_ts'], axis= 1 , inplace= True ) "
   ]
  },
  {
   "cell_type": "code",
   "execution_count": 20,
   "id": "ba24696c",
   "metadata": {},
   "outputs": [
    {
     "name": "stdout",
     "output_type": "stream",
     "text": [
      "<class 'pandas.core.frame.DataFrame'>\n",
      "Int64Index: 961508 entries, 0 to 1031796\n",
      "Data columns (total 2 columns):\n",
      " #   Column    Non-Null Count   Dtype \n",
      "---  ------    --------------   ----- \n",
      " 0   username  961508 non-null  object\n",
      " 1   login_dt  961001 non-null  object\n",
      "dtypes: object(2)\n",
      "memory usage: 22.0+ MB\n"
     ]
    }
   ],
   "source": [
    "logins.info()"
   ]
  },
  {
   "cell_type": "code",
   "execution_count": 21,
   "id": "9b42f05e",
   "metadata": {},
   "outputs": [],
   "source": [
    "# format change\n",
    "logins['login_dt'] = pd.to_datetime(logins['login_dt'])"
   ]
  },
  {
   "cell_type": "code",
   "execution_count": 22,
   "id": "1efc843c",
   "metadata": {},
   "outputs": [
    {
     "name": "stdout",
     "output_type": "stream",
     "text": [
      "<class 'pandas.core.frame.DataFrame'>\n",
      "Int64Index: 961508 entries, 0 to 1031796\n",
      "Data columns (total 2 columns):\n",
      " #   Column    Non-Null Count   Dtype         \n",
      "---  ------    --------------   -----         \n",
      " 0   username  961508 non-null  object        \n",
      " 1   login_dt  961001 non-null  datetime64[ns]\n",
      "dtypes: datetime64[ns](1), object(1)\n",
      "memory usage: 22.0+ MB\n"
     ]
    }
   ],
   "source": [
    "logins.info()"
   ]
  },
  {
   "cell_type": "code",
   "execution_count": 23,
   "id": "a9099704",
   "metadata": {},
   "outputs": [],
   "source": [
    "\n",
    "# Объединение датафреймов\n",
    "joined_df = lang_common.merge(logins, on='username')"
   ]
  },
  {
   "cell_type": "code",
   "execution_count": 24,
   "id": "c5c8ea03",
   "metadata": {},
   "outputs": [
    {
     "data": {
      "text/plain": [
       "9349"
      ]
     },
     "execution_count": 24,
     "metadata": {},
     "output_type": "execute_result"
    }
   ],
   "source": [
    "joined_df['username'].nunique()"
   ]
  },
  {
   "cell_type": "code",
   "execution_count": 25,
   "id": "fe46b95e",
   "metadata": {},
   "outputs": [
    {
     "name": "stdout",
     "output_type": "stream",
     "text": [
      "0\n"
     ]
    }
   ],
   "source": [
    "joined_df['login_dt'] = joined_df['login_dt'].fillna(joined_df['day_reg'])\n",
    "\n",
    "# Проверка на наличие пустых значений\n",
    "print(joined_df['login_dt'].isnull().sum())"
   ]
  },
  {
   "cell_type": "code",
   "execution_count": 26,
   "id": "a7e8896d",
   "metadata": {},
   "outputs": [
    {
     "data": {
      "text/plain": [
       "username                zwright\n",
       "lang                      lang2\n",
       "country                country2\n",
       "day_reg     2023-05-27 00:00:00\n",
       "login_dt    2023-06-26 00:00:00\n",
       "dtype: object"
      ]
     },
     "execution_count": 26,
     "metadata": {},
     "output_type": "execute_result"
    }
   ],
   "source": [
    "maxValues = joined_df.max(skipna=False)\n",
    "maxValues"
   ]
  },
  {
   "cell_type": "code",
   "execution_count": 27,
   "id": "b64473ac",
   "metadata": {},
   "outputs": [],
   "source": [
    "joined_df1 = joined_df[(joined_df['day_reg'] >= '2022-03-25') & (joined_df['day_reg'] <= '2023-05-27')]\n"
   ]
  },
  {
   "cell_type": "code",
   "execution_count": 28,
   "id": "40112378",
   "metadata": {},
   "outputs": [
    {
     "name": "stdout",
     "output_type": "stream",
     "text": [
      "<class 'pandas.core.frame.DataFrame'>\n",
      "Int64Index: 591472 entries, 0 to 591471\n",
      "Data columns (total 5 columns):\n",
      " #   Column    Non-Null Count   Dtype         \n",
      "---  ------    --------------   -----         \n",
      " 0   username  591472 non-null  object        \n",
      " 1   lang      591472 non-null  object        \n",
      " 2   country   591472 non-null  object        \n",
      " 3   day_reg   591472 non-null  datetime64[ns]\n",
      " 4   login_dt  591472 non-null  datetime64[ns]\n",
      "dtypes: datetime64[ns](2), object(3)\n",
      "memory usage: 27.1+ MB\n"
     ]
    }
   ],
   "source": [
    "joined_df1.info()"
   ]
  },
  {
   "cell_type": "code",
   "execution_count": 29,
   "id": "a843baf4",
   "metadata": {},
   "outputs": [
    {
     "data": {
      "text/plain": [
       "3403"
      ]
     },
     "execution_count": 29,
     "metadata": {},
     "output_type": "execute_result"
    }
   ],
   "source": [
    "l1=joined_df[joined_df['lang']=='lang1']\n",
    "\n",
    "l1['username'].nunique()"
   ]
  },
  {
   "cell_type": "code",
   "execution_count": 30,
   "id": "7ab9aff3",
   "metadata": {},
   "outputs": [
    {
     "data": {
      "text/plain": [
       "5946"
      ]
     },
     "execution_count": 30,
     "metadata": {},
     "output_type": "execute_result"
    }
   ],
   "source": [
    "l2=joined_df[joined_df['lang']=='lang2']\n",
    "\n",
    "l2['username'].nunique()"
   ]
  },
  {
   "cell_type": "code",
   "execution_count": 31,
   "id": "fea3d1a2",
   "metadata": {},
   "outputs": [],
   "source": [
    "# Рассчитываем разницу в днях между днем регистрации и первым входом для каждого пользователя\n",
    "joined_df1['days_between_reg_and_login'] = (joined_df1['login_dt'] - joined_df1['day_reg']).dt.days\n"
   ]
  },
  {
   "cell_type": "code",
   "execution_count": 32,
   "id": "ec345945",
   "metadata": {},
   "outputs": [
    {
     "name": "stdout",
     "output_type": "stream",
     "text": [
      "<class 'pandas.core.frame.DataFrame'>\n",
      "Int64Index: 591472 entries, 0 to 591471\n",
      "Data columns (total 6 columns):\n",
      " #   Column                      Non-Null Count   Dtype         \n",
      "---  ------                      --------------   -----         \n",
      " 0   username                    591472 non-null  object        \n",
      " 1   lang                        591472 non-null  object        \n",
      " 2   country                     591472 non-null  object        \n",
      " 3   day_reg                     591472 non-null  datetime64[ns]\n",
      " 4   login_dt                    591472 non-null  datetime64[ns]\n",
      " 5   days_between_reg_and_login  591472 non-null  int64         \n",
      "dtypes: datetime64[ns](2), int64(1), object(3)\n",
      "memory usage: 31.6+ MB\n"
     ]
    }
   ],
   "source": [
    "joined_df1.info()"
   ]
  },
  {
   "cell_type": "code",
   "execution_count": 33,
   "id": "92990471",
   "metadata": {},
   "outputs": [
    {
     "data": {
      "text/plain": [
       "457"
      ]
     },
     "execution_count": 33,
     "metadata": {},
     "output_type": "execute_result"
    }
   ],
   "source": [
    "joined_df1['days_between_reg_and_login'].max()"
   ]
  },
  {
   "cell_type": "code",
   "execution_count": 34,
   "id": "890deb71",
   "metadata": {},
   "outputs": [
    {
     "name": "stdout",
     "output_type": "stream",
     "text": [
      "<class 'pandas.core.frame.DataFrame'>\n",
      "Int64Index: 202853 entries, 1 to 591471\n",
      "Data columns (total 6 columns):\n",
      " #   Column                      Non-Null Count   Dtype         \n",
      "---  ------                      --------------   -----         \n",
      " 0   username                    202853 non-null  object        \n",
      " 1   lang                        202853 non-null  object        \n",
      " 2   country                     202853 non-null  object        \n",
      " 3   day_reg                     202853 non-null  datetime64[ns]\n",
      " 4   login_dt                    202853 non-null  datetime64[ns]\n",
      " 5   days_between_reg_and_login  202853 non-null  int64         \n",
      "dtypes: datetime64[ns](2), int64(1), object(3)\n",
      "memory usage: 10.8+ MB\n"
     ]
    }
   ],
   "source": [
    "filtered = joined_df1[joined_df1['days_between_reg_and_login'] <=30]\n",
    "filtered.info()"
   ]
  },
  {
   "cell_type": "code",
   "execution_count": 35,
   "id": "d7e23598",
   "metadata": {},
   "outputs": [
    {
     "data": {
      "text/plain": [
       "9198"
      ]
     },
     "execution_count": 35,
     "metadata": {},
     "output_type": "execute_result"
    }
   ],
   "source": [
    "filtered['username'].nunique()"
   ]
  },
  {
   "cell_type": "code",
   "execution_count": 36,
   "id": "edd76206",
   "metadata": {},
   "outputs": [],
   "source": [
    "# Разделите пользователей на группы\n",
    "lang1 = filtered[filtered[\"lang\"] == \"lang1\"]\n",
    "lang2 = filtered[filtered[\"lang\"] == \"lang2\"]"
   ]
  },
  {
   "cell_type": "code",
   "execution_count": 37,
   "id": "6f11da11",
   "metadata": {},
   "outputs": [
    {
     "data": {
      "text/plain": [
       "3326"
      ]
     },
     "execution_count": 37,
     "metadata": {},
     "output_type": "execute_result"
    }
   ],
   "source": [
    "lang1['username'].nunique()"
   ]
  },
  {
   "cell_type": "code",
   "execution_count": 38,
   "id": "d5cf13fb",
   "metadata": {},
   "outputs": [
    {
     "data": {
      "text/plain": [
       "5872"
      ]
     },
     "execution_count": 38,
     "metadata": {},
     "output_type": "execute_result"
    }
   ],
   "source": [
    "lang2['username'].nunique()"
   ]
  },
  {
   "cell_type": "code",
   "execution_count": 39,
   "id": "a40d90f6",
   "metadata": {},
   "outputs": [
    {
     "data": {
      "text/plain": [
       "days_between_reg_and_login\n",
       "0     0.929345\n",
       "1     0.504510\n",
       "2     0.390559\n",
       "3     0.326218\n",
       "4     0.289236\n",
       "5     0.259771\n",
       "6     0.252255\n",
       "7     0.236320\n",
       "8     0.218280\n",
       "9     0.205051\n",
       "10    0.186109\n",
       "11    0.182802\n",
       "12    0.171377\n",
       "13    0.172279\n",
       "14    0.166566\n",
       "15    0.158749\n",
       "16    0.154239\n",
       "17    0.150331\n",
       "18    0.146121\n",
       "19    0.148527\n",
       "20    0.144919\n",
       "21    0.146422\n",
       "22    0.141311\n",
       "23    0.137102\n",
       "24    0.133193\n",
       "25    0.128082\n",
       "26    0.129284\n",
       "27    0.125075\n",
       "28    0.123873\n",
       "29    0.120265\n",
       "30    0.119062\n",
       "Name: username, dtype: float64"
      ]
     },
     "execution_count": 39,
     "metadata": {},
     "output_type": "execute_result"
    }
   ],
   "source": [
    "lang1.groupby(['days_between_reg_and_login'])['username'].nunique() / lang1['username'].nunique()\n"
   ]
  },
  {
   "cell_type": "code",
   "execution_count": 40,
   "id": "62dae862",
   "metadata": {},
   "outputs": [
    {
     "data": {
      "text/plain": [
       "6.697233914612146"
      ]
     },
     "execution_count": 40,
     "metadata": {},
     "output_type": "execute_result"
    }
   ],
   "source": [
    "ret=lang1.groupby(['days_between_reg_and_login'])['username'].nunique() / lang1['username'].nunique()\n",
    "ret.reset_index(drop= True , inplace= True )\n",
    "\n",
    "ret.sum()\n"
   ]
  },
  {
   "cell_type": "code",
   "execution_count": 41,
   "id": "bd54a6c9",
   "metadata": {},
   "outputs": [],
   "source": [
    "whole_retention1 = lang1.groupby(['days_between_reg_and_login'])['username'].nunique() / lang1['username'].nunique()\n"
   ]
  },
  {
   "cell_type": "code",
   "execution_count": 42,
   "id": "75cc8e75",
   "metadata": {},
   "outputs": [
    {
     "data": {
      "text/plain": [
       "days_between_reg_and_login\n",
       "0     0.935116\n",
       "1     0.700272\n",
       "2     0.435456\n",
       "3     0.358651\n",
       "4     0.311819\n",
       "5     0.285763\n",
       "6     0.267881\n",
       "7     0.253917\n",
       "8     0.237398\n",
       "9     0.219346\n",
       "10    0.212193\n",
       "11    0.199251\n",
       "12    0.192439\n",
       "13    0.189884\n",
       "14    0.185967\n",
       "15    0.178304\n",
       "16    0.174387\n",
       "17    0.171151\n",
       "18    0.165702\n",
       "19    0.157868\n",
       "20    0.158379\n",
       "21    0.158719\n",
       "22    0.150886\n",
       "23    0.150715\n",
       "24    0.149864\n",
       "25    0.144925\n",
       "26    0.139816\n",
       "27    0.135559\n",
       "28    0.135048\n",
       "29    0.136410\n",
       "30    0.129939\n",
       "Name: username, dtype: float64"
      ]
     },
     "execution_count": 42,
     "metadata": {},
     "output_type": "execute_result"
    }
   ],
   "source": [
    "lang2.groupby(['days_between_reg_and_login'])['username'].nunique() / lang2['username'].nunique()"
   ]
  },
  {
   "cell_type": "markdown",
   "id": "b688803d",
   "metadata": {},
   "source": [
    "# TASK 3"
   ]
  },
  {
   "cell_type": "code",
   "execution_count": 43,
   "id": "898dc9f7",
   "metadata": {},
   "outputs": [
    {
     "name": "stdout",
     "output_type": "stream",
     "text": [
      "square lang1 6.697233914612146\n",
      "square lang1 7.4230245231607626\n"
     ]
    }
   ],
   "source": [
    "ret2=lang2.groupby(['days_between_reg_and_login'])['username'].nunique() / lang2['username'].nunique()\n",
    "ret2.reset_index(drop= True , inplace= True )\n",
    "print('square lang1', ret.sum())\n",
    "print('square lang1', ret2.sum())"
   ]
  },
  {
   "cell_type": "code",
   "execution_count": 44,
   "id": "7a8e428c",
   "metadata": {},
   "outputs": [],
   "source": [
    "whole_retention2 = lang2.groupby(['days_between_reg_and_login'])['username'].nunique() / lang2['username'].nunique()\n"
   ]
  },
  {
   "cell_type": "code",
   "execution_count": 157,
   "id": "0257bdaa",
   "metadata": {},
   "outputs": [
    {
     "data": {
      "application/javascript": [
       "\n",
       "        if (window._pyforest_update_imports_cell) { window._pyforest_update_imports_cell('import numpy as np\\nimport matplotlib.pyplot as plt'); }\n",
       "    "
      ],
      "text/plain": [
       "<IPython.core.display.Javascript object>"
      ]
     },
     "metadata": {},
     "output_type": "display_data"
    },
    {
     "data": {
      "application/javascript": [
       "\n",
       "        if (window._pyforest_update_imports_cell) { window._pyforest_update_imports_cell('import numpy as np\\nimport matplotlib.pyplot as plt'); }\n",
       "    "
      ],
      "text/plain": [
       "<IPython.core.display.Javascript object>"
      ]
     },
     "metadata": {},
     "output_type": "display_data"
    },
    {
     "data": {
      "application/javascript": [
       "\n",
       "        if (window._pyforest_update_imports_cell) { window._pyforest_update_imports_cell('import numpy as np\\nimport matplotlib.pyplot as plt'); }\n",
       "    "
      ],
      "text/plain": [
       "<IPython.core.display.Javascript object>"
      ]
     },
     "metadata": {},
     "output_type": "display_data"
    },
    {
     "data": {
      "application/javascript": [
       "\n",
       "        if (window._pyforest_update_imports_cell) { window._pyforest_update_imports_cell('import numpy as np\\nimport matplotlib.pyplot as plt'); }\n",
       "    "
      ],
      "text/plain": [
       "<IPython.core.display.Javascript object>"
      ]
     },
     "metadata": {},
     "output_type": "display_data"
    },
    {
     "data": {
      "application/javascript": [
       "\n",
       "        if (window._pyforest_update_imports_cell) { window._pyforest_update_imports_cell('import numpy as np\\nimport matplotlib.pyplot as plt'); }\n",
       "    "
      ],
      "text/plain": [
       "<IPython.core.display.Javascript object>"
      ]
     },
     "metadata": {},
     "output_type": "display_data"
    },
    {
     "data": {
      "application/javascript": [
       "\n",
       "        if (window._pyforest_update_imports_cell) { window._pyforest_update_imports_cell('import numpy as np\\nimport matplotlib.pyplot as plt'); }\n",
       "    "
      ],
      "text/plain": [
       "<IPython.core.display.Javascript object>"
      ]
     },
     "metadata": {},
     "output_type": "display_data"
    },
    {
     "data": {
      "application/javascript": [
       "\n",
       "        if (window._pyforest_update_imports_cell) { window._pyforest_update_imports_cell('import numpy as np\\nimport matplotlib.pyplot as plt'); }\n",
       "    "
      ],
      "text/plain": [
       "<IPython.core.display.Javascript object>"
      ]
     },
     "metadata": {},
     "output_type": "display_data"
    },
    {
     "data": {
      "application/javascript": [
       "\n",
       "        if (window._pyforest_update_imports_cell) { window._pyforest_update_imports_cell('import numpy as np\\nimport matplotlib.pyplot as plt'); }\n",
       "    "
      ],
      "text/plain": [
       "<IPython.core.display.Javascript object>"
      ]
     },
     "metadata": {},
     "output_type": "display_data"
    },
    {
     "data": {
      "image/png": "[encoded data removed]",
      "text/plain": [
       "<Figure size 640x480 with 1 Axes>"
      ]
     },
     "metadata": {},
     "output_type": "display_data"
    }
   ],
   "source": [
    "plt.plot(whole_retention1)\n",
    "plt.plot(whole_retention2)\n",
    "plt.title(\"30-Day Daily Retention\")\n",
    "plt.xlabel(\"Days Since User First Started\")\n",
    "plt.ylabel(\" Retention rate\")\n",
    "plt.ylim(0,1.05)\n",
    "\n",
    "#plt.hlines(y=whole_retention1.loc[30], xmin=0, xmax=30, linestyles='dotted')\n",
    "#plt.vlines(x=20, ymin=0, ymax=whole_retention2.loc[30], linestyles='dotted')\n",
    "plt.text(s=(\" Lang 1 {:.2%} users retained on Day 30\".format(whole_retention1.loc[30])),\n",
    "      x=10, y=whole_retention1.loc[30] + .05);\n",
    "plt.text(s=(\" Lang 2 {:.2%} users retained on Day 30\".format(whole_retention2.loc[30])),\n",
    "       x=10, y=whole_retention2.loc[10] + .05);"
   ]
  },
  {
   "cell_type": "code",
   "execution_count": 46,
   "id": "4d42f5a1",
   "metadata": {},
   "outputs": [
    {
     "name": "stdout",
     "output_type": "stream",
     "text": [
      "<class 'pandas.core.frame.DataFrame'>\n",
      "RangeIndex: 19483 entries, 0 to 19482\n",
      "Data columns (total 5 columns):\n",
      " #   Column         Non-Null Count  Dtype  \n",
      "---  ------         --------------  -----  \n",
      " 0   username       19483 non-null  object \n",
      " 1   pay_dt         19483 non-null  object \n",
      " 2   pay_time_dttm  19483 non-null  object \n",
      " 3   pay_amt        19483 non-null  float64\n",
      " 4   currency       19483 non-null  object \n",
      "dtypes: float64(1), object(4)\n",
      "memory usage: 761.2+ KB\n"
     ]
    }
   ],
   "source": [
    "payments=pd.read_csv('payments_processed.csv')\n",
    "payments.info()"
   ]
  },
  {
   "cell_type": "code",
   "execution_count": 47,
   "id": "e8ba39d4",
   "metadata": {},
   "outputs": [
    {
     "data": {
      "text/plain": [
       "username                     zwright\n",
       "pay_dt                    2023-06-25\n",
       "pay_time_dttm    2023-06-25 23:47:48\n",
       "pay_amt                      14999.0\n",
       "currency                         usd\n",
       "dtype: object"
      ]
     },
     "execution_count": 47,
     "metadata": {},
     "output_type": "execute_result"
    }
   ],
   "source": [
    "maxValues = payments.max(skipna=False)\n",
    "maxValues"
   ]
  },
  {
   "cell_type": "code",
   "execution_count": 48,
   "id": "d5a42a2a",
   "metadata": {},
   "outputs": [
    {
     "data": {
      "text/plain": [
       "username                     aabbott\n",
       "pay_dt                    2022-03-26\n",
       "pay_time_dttm    2022-03-26 18:02:14\n",
       "pay_amt                       0.0088\n",
       "currency                         rub\n",
       "dtype: object"
      ]
     },
     "execution_count": 48,
     "metadata": {},
     "output_type": "execute_result"
    }
   ],
   "source": [
    "minValues = payments.min(skipna=False)\n",
    "minValues"
   ]
  },
  {
   "cell_type": "code",
   "execution_count": 49,
   "id": "d3c48f7a",
   "metadata": {},
   "outputs": [
    {
     "data": {
      "text/html": [
       "<div>\n",
       "<style scoped>\n",
       "    .dataframe tbody tr th:only-of-type {\n",
       "        vertical-align: middle;\n",
       "    }\n",
       "\n",
       "    .dataframe tbody tr th {\n",
       "        vertical-align: top;\n",
       "    }\n",
       "\n",
       "    .dataframe thead th {\n",
       "        text-align: right;\n",
       "    }\n",
       "</style>\n",
       "<table border=\"1\" class=\"dataframe\">\n",
       "  <thead>\n",
       "    <tr style=\"text-align: right;\">\n",
       "      <th></th>\n",
       "      <th>username</th>\n",
       "      <th>pay_dt</th>\n",
       "      <th>pay_time_dttm</th>\n",
       "      <th>pay_amt</th>\n",
       "      <th>currency</th>\n",
       "    </tr>\n",
       "  </thead>\n",
       "  <tbody>\n",
       "    <tr>\n",
       "      <th>0</th>\n",
       "      <td>richarddavid</td>\n",
       "      <td>2022-03-27</td>\n",
       "      <td>2022-03-27 16:54:20</td>\n",
       "      <td>1.7537</td>\n",
       "      <td>usd</td>\n",
       "    </tr>\n",
       "    <tr>\n",
       "      <th>1</th>\n",
       "      <td>richarddavid</td>\n",
       "      <td>2022-03-27</td>\n",
       "      <td>2022-03-27 16:27:28</td>\n",
       "      <td>0.1622</td>\n",
       "      <td>usd</td>\n",
       "    </tr>\n",
       "    <tr>\n",
       "      <th>2</th>\n",
       "      <td>richarddavid</td>\n",
       "      <td>2022-03-26</td>\n",
       "      <td>2022-03-26 21:38:06</td>\n",
       "      <td>1.7573</td>\n",
       "      <td>usd</td>\n",
       "    </tr>\n",
       "    <tr>\n",
       "      <th>3</th>\n",
       "      <td>josephromero</td>\n",
       "      <td>2023-06-09</td>\n",
       "      <td>2023-06-09 11:39:09</td>\n",
       "      <td>1.6040</td>\n",
       "      <td>usd</td>\n",
       "    </tr>\n",
       "    <tr>\n",
       "      <th>4</th>\n",
       "      <td>josephromero</td>\n",
       "      <td>2023-06-09</td>\n",
       "      <td>2023-06-09 11:45:54</td>\n",
       "      <td>1.6040</td>\n",
       "      <td>usd</td>\n",
       "    </tr>\n",
       "    <tr>\n",
       "      <th>...</th>\n",
       "      <td>...</td>\n",
       "      <td>...</td>\n",
       "      <td>...</td>\n",
       "      <td>...</td>\n",
       "      <td>...</td>\n",
       "    </tr>\n",
       "    <tr>\n",
       "      <th>19478</th>\n",
       "      <td>ubrooks</td>\n",
       "      <td>2023-03-13</td>\n",
       "      <td>2023-03-13 06:57:27</td>\n",
       "      <td>25.0000</td>\n",
       "      <td>rub</td>\n",
       "    </tr>\n",
       "    <tr>\n",
       "      <th>19479</th>\n",
       "      <td>ubrooks</td>\n",
       "      <td>2022-11-19</td>\n",
       "      <td>2022-11-19 13:32:56</td>\n",
       "      <td>340.0000</td>\n",
       "      <td>rub</td>\n",
       "    </tr>\n",
       "    <tr>\n",
       "      <th>19480</th>\n",
       "      <td>ericasmith</td>\n",
       "      <td>2022-10-26</td>\n",
       "      <td>2022-10-26 22:04:59</td>\n",
       "      <td>100.0000</td>\n",
       "      <td>rub</td>\n",
       "    </tr>\n",
       "    <tr>\n",
       "      <th>19481</th>\n",
       "      <td>ericasmith</td>\n",
       "      <td>2023-03-16</td>\n",
       "      <td>2023-03-16 12:30:16</td>\n",
       "      <td>150.0000</td>\n",
       "      <td>rub</td>\n",
       "    </tr>\n",
       "    <tr>\n",
       "      <th>19482</th>\n",
       "      <td>jeffreyhernandez</td>\n",
       "      <td>2023-06-07</td>\n",
       "      <td>2023-06-07 07:48:38</td>\n",
       "      <td>0.8089</td>\n",
       "      <td>usd</td>\n",
       "    </tr>\n",
       "  </tbody>\n",
       "</table>\n",
       "<p>19483 rows × 5 columns</p>\n",
       "</div>"
      ],
      "text/plain": [
       "               username      pay_dt        pay_time_dttm   pay_amt currency\n",
       "0          richarddavid  2022-03-27  2022-03-27 16:54:20    1.7537      usd\n",
       "1          richarddavid  2022-03-27  2022-03-27 16:27:28    0.1622      usd\n",
       "2          richarddavid  2022-03-26  2022-03-26 21:38:06    1.7573      usd\n",
       "3          josephromero  2023-06-09  2023-06-09 11:39:09    1.6040      usd\n",
       "4          josephromero  2023-06-09  2023-06-09 11:45:54    1.6040      usd\n",
       "...                 ...         ...                  ...       ...      ...\n",
       "19478           ubrooks  2023-03-13  2023-03-13 06:57:27   25.0000      rub\n",
       "19479           ubrooks  2022-11-19  2022-11-19 13:32:56  340.0000      rub\n",
       "19480        ericasmith  2022-10-26  2022-10-26 22:04:59  100.0000      rub\n",
       "19481        ericasmith  2023-03-16  2023-03-16 12:30:16  150.0000      rub\n",
       "19482  jeffreyhernandez  2023-06-07  2023-06-07 07:48:38    0.8089      usd\n",
       "\n",
       "[19483 rows x 5 columns]"
      ]
     },
     "execution_count": 49,
     "metadata": {},
     "output_type": "execute_result"
    }
   ],
   "source": [
    "payments"
   ]
  },
  {
   "cell_type": "code",
   "execution_count": 50,
   "id": "fb174903",
   "metadata": {},
   "outputs": [],
   "source": [
    "payments.drop(['pay_time_dttm'], axis= 1 , inplace= True ) "
   ]
  },
  {
   "cell_type": "code",
   "execution_count": 51,
   "id": "c5748409",
   "metadata": {},
   "outputs": [
    {
     "name": "stdout",
     "output_type": "stream",
     "text": [
      "<class 'pandas.core.frame.DataFrame'>\n",
      "RangeIndex: 19483 entries, 0 to 19482\n",
      "Data columns (total 4 columns):\n",
      " #   Column    Non-Null Count  Dtype  \n",
      "---  ------    --------------  -----  \n",
      " 0   username  19483 non-null  object \n",
      " 1   pay_dt    19483 non-null  object \n",
      " 2   pay_amt   19483 non-null  float64\n",
      " 3   currency  19483 non-null  object \n",
      "dtypes: float64(1), object(3)\n",
      "memory usage: 609.0+ KB\n"
     ]
    }
   ],
   "source": [
    "payments.info()"
   ]
  },
  {
   "cell_type": "code",
   "execution_count": 52,
   "id": "4644e526",
   "metadata": {},
   "outputs": [
    {
     "data": {
      "text/plain": [
       "array(['usd', 'rub'], dtype=object)"
      ]
     },
     "execution_count": 52,
     "metadata": {},
     "output_type": "execute_result"
    }
   ],
   "source": [
    "payments['currency'].unique()"
   ]
  },
  {
   "cell_type": "code",
   "execution_count": 53,
   "id": "c670357c",
   "metadata": {},
   "outputs": [
    {
     "data": {
      "text/html": [
       "<div>\n",
       "<style scoped>\n",
       "    .dataframe tbody tr th:only-of-type {\n",
       "        vertical-align: middle;\n",
       "    }\n",
       "\n",
       "    .dataframe tbody tr th {\n",
       "        vertical-align: top;\n",
       "    }\n",
       "\n",
       "    .dataframe thead th {\n",
       "        text-align: right;\n",
       "    }\n",
       "</style>\n",
       "<table border=\"1\" class=\"dataframe\">\n",
       "  <thead>\n",
       "    <tr style=\"text-align: right;\">\n",
       "      <th></th>\n",
       "      <th>date</th>\n",
       "      <th>valute</th>\n",
       "      <th>numcode</th>\n",
       "      <th>charcode</th>\n",
       "      <th>nominal</th>\n",
       "      <th>name</th>\n",
       "      <th>value</th>\n",
       "      <th>rate_dt</th>\n",
       "    </tr>\n",
       "  </thead>\n",
       "  <tbody>\n",
       "    <tr>\n",
       "      <th>0</th>\n",
       "      <td>2022-10-14 00:00:00</td>\n",
       "      <td>R01239</td>\n",
       "      <td>978</td>\n",
       "      <td>EUR</td>\n",
       "      <td>1</td>\n",
       "      <td>Евро</td>\n",
       "      <td>62.5903</td>\n",
       "      <td>2022-10-14</td>\n",
       "    </tr>\n",
       "    <tr>\n",
       "      <th>1</th>\n",
       "      <td>2022-10-14 00:00:00</td>\n",
       "      <td>R01235</td>\n",
       "      <td>840</td>\n",
       "      <td>USD</td>\n",
       "      <td>1</td>\n",
       "      <td>Доллар США</td>\n",
       "      <td>63.4917</td>\n",
       "      <td>2022-10-14</td>\n",
       "    </tr>\n",
       "    <tr>\n",
       "      <th>2</th>\n",
       "      <td>2023-03-11 00:00:00</td>\n",
       "      <td>R01239</td>\n",
       "      <td>978</td>\n",
       "      <td>EUR</td>\n",
       "      <td>1</td>\n",
       "      <td>Евро</td>\n",
       "      <td>80.4009</td>\n",
       "      <td>2023-03-11</td>\n",
       "    </tr>\n",
       "    <tr>\n",
       "      <th>3</th>\n",
       "      <td>2023-03-11 00:00:00</td>\n",
       "      <td>R01235</td>\n",
       "      <td>840</td>\n",
       "      <td>USD</td>\n",
       "      <td>1</td>\n",
       "      <td>Доллар США</td>\n",
       "      <td>75.9406</td>\n",
       "      <td>2023-03-11</td>\n",
       "    </tr>\n",
       "    <tr>\n",
       "      <th>4</th>\n",
       "      <td>2022-11-19 00:00:00</td>\n",
       "      <td>R01239</td>\n",
       "      <td>978</td>\n",
       "      <td>EUR</td>\n",
       "      <td>1</td>\n",
       "      <td>Евро</td>\n",
       "      <td>62.4484</td>\n",
       "      <td>2022-11-19</td>\n",
       "    </tr>\n",
       "    <tr>\n",
       "      <th>...</th>\n",
       "      <td>...</td>\n",
       "      <td>...</td>\n",
       "      <td>...</td>\n",
       "      <td>...</td>\n",
       "      <td>...</td>\n",
       "      <td>...</td>\n",
       "      <td>...</td>\n",
       "      <td>...</td>\n",
       "    </tr>\n",
       "    <tr>\n",
       "      <th>911</th>\n",
       "      <td>2022-09-13 00:00:00</td>\n",
       "      <td>R01235</td>\n",
       "      <td>840</td>\n",
       "      <td>USD</td>\n",
       "      <td>1</td>\n",
       "      <td>Доллар США</td>\n",
       "      <td>60.4568</td>\n",
       "      <td>2022-09-13</td>\n",
       "    </tr>\n",
       "    <tr>\n",
       "      <th>912</th>\n",
       "      <td>2023-01-21 00:00:00</td>\n",
       "      <td>R01239</td>\n",
       "      <td>978</td>\n",
       "      <td>EUR</td>\n",
       "      <td>1</td>\n",
       "      <td>Евро</td>\n",
       "      <td>74.3434</td>\n",
       "      <td>2023-01-22</td>\n",
       "    </tr>\n",
       "    <tr>\n",
       "      <th>913</th>\n",
       "      <td>2023-01-21 00:00:00</td>\n",
       "      <td>R01235</td>\n",
       "      <td>840</td>\n",
       "      <td>USD</td>\n",
       "      <td>1</td>\n",
       "      <td>Доллар США</td>\n",
       "      <td>68.6656</td>\n",
       "      <td>2023-01-22</td>\n",
       "    </tr>\n",
       "    <tr>\n",
       "      <th>914</th>\n",
       "      <td>2023-04-15 00:00:00</td>\n",
       "      <td>R01239</td>\n",
       "      <td>978</td>\n",
       "      <td>EUR</td>\n",
       "      <td>1</td>\n",
       "      <td>Евро</td>\n",
       "      <td>90.1637</td>\n",
       "      <td>2023-04-17</td>\n",
       "    </tr>\n",
       "    <tr>\n",
       "      <th>915</th>\n",
       "      <td>2023-04-15 00:00:00</td>\n",
       "      <td>R01235</td>\n",
       "      <td>840</td>\n",
       "      <td>USD</td>\n",
       "      <td>1</td>\n",
       "      <td>Доллар США</td>\n",
       "      <td>81.5045</td>\n",
       "      <td>2023-04-17</td>\n",
       "    </tr>\n",
       "  </tbody>\n",
       "</table>\n",
       "<p>916 rows × 8 columns</p>\n",
       "</div>"
      ],
      "text/plain": [
       "                    date  valute  numcode charcode  nominal        name  \\\n",
       "0    2022-10-14 00:00:00  R01239      978      EUR        1        Евро   \n",
       "1    2022-10-14 00:00:00  R01235      840      USD        1  Доллар США   \n",
       "2    2023-03-11 00:00:00  R01239      978      EUR        1        Евро   \n",
       "3    2023-03-11 00:00:00  R01235      840      USD        1  Доллар США   \n",
       "4    2022-11-19 00:00:00  R01239      978      EUR        1        Евро   \n",
       "..                   ...     ...      ...      ...      ...         ...   \n",
       "911  2022-09-13 00:00:00  R01235      840      USD        1  Доллар США   \n",
       "912  2023-01-21 00:00:00  R01239      978      EUR        1        Евро   \n",
       "913  2023-01-21 00:00:00  R01235      840      USD        1  Доллар США   \n",
       "914  2023-04-15 00:00:00  R01239      978      EUR        1        Евро   \n",
       "915  2023-04-15 00:00:00  R01235      840      USD        1  Доллар США   \n",
       "\n",
       "       value     rate_dt  \n",
       "0    62.5903  2022-10-14  \n",
       "1    63.4917  2022-10-14  \n",
       "2    80.4009  2023-03-11  \n",
       "3    75.9406  2023-03-11  \n",
       "4    62.4484  2022-11-19  \n",
       "..       ...         ...  \n",
       "911  60.4568  2022-09-13  \n",
       "912  74.3434  2023-01-22  \n",
       "913  68.6656  2023-01-22  \n",
       "914  90.1637  2023-04-17  \n",
       "915  81.5045  2023-04-17  \n",
       "\n",
       "[916 rows x 8 columns]"
      ]
     },
     "execution_count": 53,
     "metadata": {},
     "output_type": "execute_result"
    }
   ],
   "source": [
    "rates=pd.read_excel('cbr_rates.xlsx')\n",
    "rates"
   ]
  },
  {
   "cell_type": "code",
   "execution_count": 54,
   "id": "9576ba74",
   "metadata": {},
   "outputs": [
    {
     "name": "stdout",
     "output_type": "stream",
     "text": [
      "<class 'pandas.core.frame.DataFrame'>\n",
      "RangeIndex: 916 entries, 0 to 915\n",
      "Data columns (total 8 columns):\n",
      " #   Column    Non-Null Count  Dtype  \n",
      "---  ------    --------------  -----  \n",
      " 0   date      916 non-null    object \n",
      " 1   valute    916 non-null    object \n",
      " 2   numcode   916 non-null    int64  \n",
      " 3   charcode  916 non-null    object \n",
      " 4   nominal   916 non-null    int64  \n",
      " 5   name      916 non-null    object \n",
      " 6   value     916 non-null    float64\n",
      " 7   rate_dt   916 non-null    object \n",
      "dtypes: float64(1), int64(2), object(5)\n",
      "memory usage: 57.4+ KB\n"
     ]
    }
   ],
   "source": [
    "rates.info()"
   ]
  },
  {
   "cell_type": "code",
   "execution_count": 55,
   "id": "c1049c31",
   "metadata": {},
   "outputs": [],
   "source": [
    "rates.drop(['date','valute','numcode', 'charcode','nominal'], axis= 1 , inplace= True ) "
   ]
  },
  {
   "cell_type": "code",
   "execution_count": 56,
   "id": "84e302d0",
   "metadata": {},
   "outputs": [
    {
     "data": {
      "text/html": [
       "<div>\n",
       "<style scoped>\n",
       "    .dataframe tbody tr th:only-of-type {\n",
       "        vertical-align: middle;\n",
       "    }\n",
       "\n",
       "    .dataframe tbody tr th {\n",
       "        vertical-align: top;\n",
       "    }\n",
       "\n",
       "    .dataframe thead th {\n",
       "        text-align: right;\n",
       "    }\n",
       "</style>\n",
       "<table border=\"1\" class=\"dataframe\">\n",
       "  <thead>\n",
       "    <tr style=\"text-align: right;\">\n",
       "      <th></th>\n",
       "      <th>name</th>\n",
       "      <th>value</th>\n",
       "      <th>rate_dt</th>\n",
       "    </tr>\n",
       "  </thead>\n",
       "  <tbody>\n",
       "    <tr>\n",
       "      <th>0</th>\n",
       "      <td>Евро</td>\n",
       "      <td>62.5903</td>\n",
       "      <td>2022-10-14</td>\n",
       "    </tr>\n",
       "    <tr>\n",
       "      <th>1</th>\n",
       "      <td>Доллар США</td>\n",
       "      <td>63.4917</td>\n",
       "      <td>2022-10-14</td>\n",
       "    </tr>\n",
       "    <tr>\n",
       "      <th>2</th>\n",
       "      <td>Евро</td>\n",
       "      <td>80.4009</td>\n",
       "      <td>2023-03-11</td>\n",
       "    </tr>\n",
       "    <tr>\n",
       "      <th>3</th>\n",
       "      <td>Доллар США</td>\n",
       "      <td>75.9406</td>\n",
       "      <td>2023-03-11</td>\n",
       "    </tr>\n",
       "    <tr>\n",
       "      <th>4</th>\n",
       "      <td>Евро</td>\n",
       "      <td>62.4484</td>\n",
       "      <td>2022-11-19</td>\n",
       "    </tr>\n",
       "    <tr>\n",
       "      <th>...</th>\n",
       "      <td>...</td>\n",
       "      <td>...</td>\n",
       "      <td>...</td>\n",
       "    </tr>\n",
       "    <tr>\n",
       "      <th>911</th>\n",
       "      <td>Доллар США</td>\n",
       "      <td>60.4568</td>\n",
       "      <td>2022-09-13</td>\n",
       "    </tr>\n",
       "    <tr>\n",
       "      <th>912</th>\n",
       "      <td>Евро</td>\n",
       "      <td>74.3434</td>\n",
       "      <td>2023-01-22</td>\n",
       "    </tr>\n",
       "    <tr>\n",
       "      <th>913</th>\n",
       "      <td>Доллар США</td>\n",
       "      <td>68.6656</td>\n",
       "      <td>2023-01-22</td>\n",
       "    </tr>\n",
       "    <tr>\n",
       "      <th>914</th>\n",
       "      <td>Евро</td>\n",
       "      <td>90.1637</td>\n",
       "      <td>2023-04-17</td>\n",
       "    </tr>\n",
       "    <tr>\n",
       "      <th>915</th>\n",
       "      <td>Доллар США</td>\n",
       "      <td>81.5045</td>\n",
       "      <td>2023-04-17</td>\n",
       "    </tr>\n",
       "  </tbody>\n",
       "</table>\n",
       "<p>916 rows × 3 columns</p>\n",
       "</div>"
      ],
      "text/plain": [
       "           name    value     rate_dt\n",
       "0          Евро  62.5903  2022-10-14\n",
       "1    Доллар США  63.4917  2022-10-14\n",
       "2          Евро  80.4009  2023-03-11\n",
       "3    Доллар США  75.9406  2023-03-11\n",
       "4          Евро  62.4484  2022-11-19\n",
       "..          ...      ...         ...\n",
       "911  Доллар США  60.4568  2022-09-13\n",
       "912        Евро  74.3434  2023-01-22\n",
       "913  Доллар США  68.6656  2023-01-22\n",
       "914        Евро  90.1637  2023-04-17\n",
       "915  Доллар США  81.5045  2023-04-17\n",
       "\n",
       "[916 rows x 3 columns]"
      ]
     },
     "execution_count": 56,
     "metadata": {},
     "output_type": "execute_result"
    }
   ],
   "source": [
    "rates"
   ]
  },
  {
   "cell_type": "code",
   "execution_count": 57,
   "id": "2bc7ddd7",
   "metadata": {},
   "outputs": [],
   "source": [
    "rates=rates[rates['name']=='Доллар США']"
   ]
  },
  {
   "cell_type": "code",
   "execution_count": 58,
   "id": "16065f58",
   "metadata": {},
   "outputs": [
    {
     "name": "stdout",
     "output_type": "stream",
     "text": [
      "<class 'pandas.core.frame.DataFrame'>\n",
      "Int64Index: 458 entries, 1 to 915\n",
      "Data columns (total 3 columns):\n",
      " #   Column   Non-Null Count  Dtype  \n",
      "---  ------   --------------  -----  \n",
      " 0   name     458 non-null    object \n",
      " 1   value    458 non-null    float64\n",
      " 2   rate_dt  458 non-null    object \n",
      "dtypes: float64(1), object(2)\n",
      "memory usage: 14.3+ KB\n"
     ]
    }
   ],
   "source": [
    "rates.info()"
   ]
  },
  {
   "cell_type": "code",
   "execution_count": 59,
   "id": "bfd64fb6",
   "metadata": {},
   "outputs": [
    {
     "data": {
      "text/plain": [
       "array(['Доллар США'], dtype=object)"
      ]
     },
     "execution_count": 59,
     "metadata": {},
     "output_type": "execute_result"
    }
   ],
   "source": [
    "rates['name'].unique()"
   ]
  },
  {
   "cell_type": "code",
   "execution_count": 60,
   "id": "16870dde",
   "metadata": {},
   "outputs": [
    {
     "name": "stderr",
     "output_type": "stream",
     "text": [
      "C:\\Users\\Professional\\AppData\\Local\\Temp\\ipykernel_4696\\1841798742.py:1: SettingWithCopyWarning: \n",
      "A value is trying to be set on a copy of a slice from a DataFrame\n",
      "\n",
      "See the caveats in the documentation: https://pandas.pydata.org/pandas-docs/stable/user_guide/indexing.html#returning-a-view-versus-a-copy\n",
      "  rates.rename(columns = {'name':'currency','rate_dt':'pay_dt' }, inplace = True )\n"
     ]
    }
   ],
   "source": [
    "rates.rename(columns = {'name':'currency','rate_dt':'pay_dt' }, inplace = True )"
   ]
  },
  {
   "cell_type": "code",
   "execution_count": 61,
   "id": "c5afeb83",
   "metadata": {},
   "outputs": [
    {
     "name": "stderr",
     "output_type": "stream",
     "text": [
      "C:\\Users\\Professional\\AppData\\Local\\Temp\\ipykernel_4696\\2972365783.py:1: SettingWithCopyWarning: \n",
      "A value is trying to be set on a copy of a slice from a DataFrame.\n",
      "Try using .loc[row_indexer,col_indexer] = value instead\n",
      "\n",
      "See the caveats in the documentation: https://pandas.pydata.org/pandas-docs/stable/user_guide/indexing.html#returning-a-view-versus-a-copy\n",
      "  rates['currency'] = rates['currency']. replace ('Доллар США', 'usd')\n"
     ]
    }
   ],
   "source": [
    "rates['currency'] = rates['currency']. replace ('Доллар США', 'usd')"
   ]
  },
  {
   "cell_type": "code",
   "execution_count": 62,
   "id": "873b9614",
   "metadata": {},
   "outputs": [
    {
     "data": {
      "text/html": [
       "<div>\n",
       "<style scoped>\n",
       "    .dataframe tbody tr th:only-of-type {\n",
       "        vertical-align: middle;\n",
       "    }\n",
       "\n",
       "    .dataframe tbody tr th {\n",
       "        vertical-align: top;\n",
       "    }\n",
       "\n",
       "    .dataframe thead th {\n",
       "        text-align: right;\n",
       "    }\n",
       "</style>\n",
       "<table border=\"1\" class=\"dataframe\">\n",
       "  <thead>\n",
       "    <tr style=\"text-align: right;\">\n",
       "      <th></th>\n",
       "      <th>currency</th>\n",
       "      <th>value</th>\n",
       "      <th>pay_dt</th>\n",
       "    </tr>\n",
       "  </thead>\n",
       "  <tbody>\n",
       "    <tr>\n",
       "      <th>1</th>\n",
       "      <td>usd</td>\n",
       "      <td>63.4917</td>\n",
       "      <td>2022-10-14</td>\n",
       "    </tr>\n",
       "    <tr>\n",
       "      <th>3</th>\n",
       "      <td>usd</td>\n",
       "      <td>75.9406</td>\n",
       "      <td>2023-03-11</td>\n",
       "    </tr>\n",
       "    <tr>\n",
       "      <th>5</th>\n",
       "      <td>usd</td>\n",
       "      <td>60.3741</td>\n",
       "      <td>2022-11-19</td>\n",
       "    </tr>\n",
       "    <tr>\n",
       "      <th>7</th>\n",
       "      <td>usd</td>\n",
       "      <td>61.0611</td>\n",
       "      <td>2022-11-10</td>\n",
       "    </tr>\n",
       "    <tr>\n",
       "      <th>9</th>\n",
       "      <td>usd</td>\n",
       "      <td>57.3917</td>\n",
       "      <td>2022-07-23</td>\n",
       "    </tr>\n",
       "    <tr>\n",
       "      <th>...</th>\n",
       "      <td>...</td>\n",
       "      <td>...</td>\n",
       "      <td>...</td>\n",
       "    </tr>\n",
       "    <tr>\n",
       "      <th>907</th>\n",
       "      <td>usd</td>\n",
       "      <td>62.0955</td>\n",
       "      <td>2022-11-05</td>\n",
       "    </tr>\n",
       "    <tr>\n",
       "      <th>909</th>\n",
       "      <td>usd</td>\n",
       "      <td>69.0202</td>\n",
       "      <td>2023-01-12</td>\n",
       "    </tr>\n",
       "    <tr>\n",
       "      <th>911</th>\n",
       "      <td>usd</td>\n",
       "      <td>60.4568</td>\n",
       "      <td>2022-09-13</td>\n",
       "    </tr>\n",
       "    <tr>\n",
       "      <th>913</th>\n",
       "      <td>usd</td>\n",
       "      <td>68.6656</td>\n",
       "      <td>2023-01-22</td>\n",
       "    </tr>\n",
       "    <tr>\n",
       "      <th>915</th>\n",
       "      <td>usd</td>\n",
       "      <td>81.5045</td>\n",
       "      <td>2023-04-17</td>\n",
       "    </tr>\n",
       "  </tbody>\n",
       "</table>\n",
       "<p>458 rows × 3 columns</p>\n",
       "</div>"
      ],
      "text/plain": [
       "    currency    value      pay_dt\n",
       "1        usd  63.4917  2022-10-14\n",
       "3        usd  75.9406  2023-03-11\n",
       "5        usd  60.3741  2022-11-19\n",
       "7        usd  61.0611  2022-11-10\n",
       "9        usd  57.3917  2022-07-23\n",
       "..       ...      ...         ...\n",
       "907      usd  62.0955  2022-11-05\n",
       "909      usd  69.0202  2023-01-12\n",
       "911      usd  60.4568  2022-09-13\n",
       "913      usd  68.6656  2023-01-22\n",
       "915      usd  81.5045  2023-04-17\n",
       "\n",
       "[458 rows x 3 columns]"
      ]
     },
     "execution_count": 62,
     "metadata": {},
     "output_type": "execute_result"
    }
   ],
   "source": [
    "rates"
   ]
  },
  {
   "cell_type": "code",
   "execution_count": 63,
   "id": "e9ecab5f",
   "metadata": {},
   "outputs": [
    {
     "data": {
      "text/plain": [
       "3513"
      ]
     },
     "execution_count": 63,
     "metadata": {},
     "output_type": "execute_result"
    }
   ],
   "source": [
    "payments['username'].nunique()"
   ]
  },
  {
   "cell_type": "code",
   "execution_count": 64,
   "id": "1daa5f82",
   "metadata": {},
   "outputs": [],
   "source": [
    "roubles = pd.merge(payments, rates, how='left', on=['currency', 'pay_dt'])\n",
    "\n",
    "# Расчет суммы в рублях\n",
    "roubles['pay_rub'] = roubles['pay_amt'] * roubles['value']\n",
    "\n",
    "# Обработка пропусков\n",
    "#roubles['pay_amt'].fillna(0, inplace=True)\n",
    "\n",
    "# Обработка рублёвых платежей\n",
    "roubles.loc[roubles['currency'] == 'RUB', 'pay_rub'] = roubles['pay_amt']\n",
    "\n",
    "# Сортировка\n",
    "roubles = roubles.sort_values(by=['username', 'pay_dt'])\n",
    "\n",
    "# Вывод результата\n",
    "#print(df_merged.to_string())"
   ]
  },
  {
   "cell_type": "code",
   "execution_count": 65,
   "id": "163aea0b",
   "metadata": {},
   "outputs": [
    {
     "data": {
      "text/html": [
       "<div>\n",
       "<style scoped>\n",
       "    .dataframe tbody tr th:only-of-type {\n",
       "        vertical-align: middle;\n",
       "    }\n",
       "\n",
       "    .dataframe tbody tr th {\n",
       "        vertical-align: top;\n",
       "    }\n",
       "\n",
       "    .dataframe thead th {\n",
       "        text-align: right;\n",
       "    }\n",
       "</style>\n",
       "<table border=\"1\" class=\"dataframe\">\n",
       "  <thead>\n",
       "    <tr style=\"text-align: right;\">\n",
       "      <th></th>\n",
       "      <th>username</th>\n",
       "      <th>pay_dt</th>\n",
       "      <th>pay_amt</th>\n",
       "      <th>currency</th>\n",
       "      <th>value</th>\n",
       "      <th>pay_rub</th>\n",
       "    </tr>\n",
       "  </thead>\n",
       "  <tbody>\n",
       "    <tr>\n",
       "      <th>12291</th>\n",
       "      <td>aabbott</td>\n",
       "      <td>2023-05-19</td>\n",
       "      <td>1.2916</td>\n",
       "      <td>usd</td>\n",
       "      <td>80.0366</td>\n",
       "      <td>103.375273</td>\n",
       "    </tr>\n",
       "    <tr>\n",
       "      <th>1914</th>\n",
       "      <td>aaron15</td>\n",
       "      <td>2023-05-21</td>\n",
       "      <td>63.7800</td>\n",
       "      <td>rub</td>\n",
       "      <td>NaN</td>\n",
       "      <td>NaN</td>\n",
       "    </tr>\n",
       "    <tr>\n",
       "      <th>15288</th>\n",
       "      <td>aaron54</td>\n",
       "      <td>2022-09-02</td>\n",
       "      <td>25.0000</td>\n",
       "      <td>rub</td>\n",
       "      <td>NaN</td>\n",
       "      <td>NaN</td>\n",
       "    </tr>\n",
       "    <tr>\n",
       "      <th>2837</th>\n",
       "      <td>aaronbishop</td>\n",
       "      <td>2022-05-11</td>\n",
       "      <td>2.6262</td>\n",
       "      <td>usd</td>\n",
       "      <td>67.3843</td>\n",
       "      <td>176.964649</td>\n",
       "    </tr>\n",
       "    <tr>\n",
       "      <th>2804</th>\n",
       "      <td>aaronbishop</td>\n",
       "      <td>2022-05-26</td>\n",
       "      <td>1.7619</td>\n",
       "      <td>usd</td>\n",
       "      <td>56.2996</td>\n",
       "      <td>99.194265</td>\n",
       "    </tr>\n",
       "    <tr>\n",
       "      <th>...</th>\n",
       "      <td>...</td>\n",
       "      <td>...</td>\n",
       "      <td>...</td>\n",
       "      <td>...</td>\n",
       "      <td>...</td>\n",
       "      <td>...</td>\n",
       "    </tr>\n",
       "    <tr>\n",
       "      <th>19297</th>\n",
       "      <td>zwilliams</td>\n",
       "      <td>2022-12-22</td>\n",
       "      <td>0.8574</td>\n",
       "      <td>usd</td>\n",
       "      <td>70.5256</td>\n",
       "      <td>60.468649</td>\n",
       "    </tr>\n",
       "    <tr>\n",
       "      <th>5611</th>\n",
       "      <td>zwilliams</td>\n",
       "      <td>2023-01-06</td>\n",
       "      <td>0.8681</td>\n",
       "      <td>usd</td>\n",
       "      <td>70.3375</td>\n",
       "      <td>61.059984</td>\n",
       "    </tr>\n",
       "    <tr>\n",
       "      <th>19294</th>\n",
       "      <td>zwilliams</td>\n",
       "      <td>2023-01-06</td>\n",
       "      <td>0.8681</td>\n",
       "      <td>usd</td>\n",
       "      <td>70.3375</td>\n",
       "      <td>61.059984</td>\n",
       "    </tr>\n",
       "    <tr>\n",
       "      <th>19065</th>\n",
       "      <td>zwilson</td>\n",
       "      <td>2022-06-07</td>\n",
       "      <td>279.0000</td>\n",
       "      <td>rub</td>\n",
       "      <td>NaN</td>\n",
       "      <td>NaN</td>\n",
       "    </tr>\n",
       "    <tr>\n",
       "      <th>17427</th>\n",
       "      <td>zwright</td>\n",
       "      <td>2023-06-04</td>\n",
       "      <td>1.0012</td>\n",
       "      <td>usd</td>\n",
       "      <td>80.8756</td>\n",
       "      <td>80.972651</td>\n",
       "    </tr>\n",
       "  </tbody>\n",
       "</table>\n",
       "<p>19483 rows × 6 columns</p>\n",
       "</div>"
      ],
      "text/plain": [
       "          username      pay_dt   pay_amt currency    value     pay_rub\n",
       "12291      aabbott  2023-05-19    1.2916      usd  80.0366  103.375273\n",
       "1914       aaron15  2023-05-21   63.7800      rub      NaN         NaN\n",
       "15288      aaron54  2022-09-02   25.0000      rub      NaN         NaN\n",
       "2837   aaronbishop  2022-05-11    2.6262      usd  67.3843  176.964649\n",
       "2804   aaronbishop  2022-05-26    1.7619      usd  56.2996   99.194265\n",
       "...            ...         ...       ...      ...      ...         ...\n",
       "19297    zwilliams  2022-12-22    0.8574      usd  70.5256   60.468649\n",
       "5611     zwilliams  2023-01-06    0.8681      usd  70.3375   61.059984\n",
       "19294    zwilliams  2023-01-06    0.8681      usd  70.3375   61.059984\n",
       "19065      zwilson  2022-06-07  279.0000      rub      NaN         NaN\n",
       "17427      zwright  2023-06-04    1.0012      usd  80.8756   80.972651\n",
       "\n",
       "[19483 rows x 6 columns]"
      ]
     },
     "execution_count": 65,
     "metadata": {},
     "output_type": "execute_result"
    }
   ],
   "source": [
    "roubles"
   ]
  },
  {
   "cell_type": "code",
   "execution_count": 66,
   "id": "bc268cf1",
   "metadata": {},
   "outputs": [],
   "source": [
    "roubles['pay_rub'].fillna(roubles['pay_amt'], inplace=True)"
   ]
  },
  {
   "cell_type": "code",
   "execution_count": 67,
   "id": "4e364af8",
   "metadata": {},
   "outputs": [
    {
     "data": {
      "text/html": [
       "<div>\n",
       "<style scoped>\n",
       "    .dataframe tbody tr th:only-of-type {\n",
       "        vertical-align: middle;\n",
       "    }\n",
       "\n",
       "    .dataframe tbody tr th {\n",
       "        vertical-align: top;\n",
       "    }\n",
       "\n",
       "    .dataframe thead th {\n",
       "        text-align: right;\n",
       "    }\n",
       "</style>\n",
       "<table border=\"1\" class=\"dataframe\">\n",
       "  <thead>\n",
       "    <tr style=\"text-align: right;\">\n",
       "      <th></th>\n",
       "      <th>username</th>\n",
       "      <th>pay_dt</th>\n",
       "      <th>pay_amt</th>\n",
       "      <th>currency</th>\n",
       "      <th>value</th>\n",
       "      <th>pay_rub</th>\n",
       "    </tr>\n",
       "  </thead>\n",
       "  <tbody>\n",
       "    <tr>\n",
       "      <th>12291</th>\n",
       "      <td>aabbott</td>\n",
       "      <td>2023-05-19</td>\n",
       "      <td>1.2916</td>\n",
       "      <td>usd</td>\n",
       "      <td>80.0366</td>\n",
       "      <td>103.375273</td>\n",
       "    </tr>\n",
       "    <tr>\n",
       "      <th>1914</th>\n",
       "      <td>aaron15</td>\n",
       "      <td>2023-05-21</td>\n",
       "      <td>63.7800</td>\n",
       "      <td>rub</td>\n",
       "      <td>NaN</td>\n",
       "      <td>63.780000</td>\n",
       "    </tr>\n",
       "    <tr>\n",
       "      <th>15288</th>\n",
       "      <td>aaron54</td>\n",
       "      <td>2022-09-02</td>\n",
       "      <td>25.0000</td>\n",
       "      <td>rub</td>\n",
       "      <td>NaN</td>\n",
       "      <td>25.000000</td>\n",
       "    </tr>\n",
       "    <tr>\n",
       "      <th>2837</th>\n",
       "      <td>aaronbishop</td>\n",
       "      <td>2022-05-11</td>\n",
       "      <td>2.6262</td>\n",
       "      <td>usd</td>\n",
       "      <td>67.3843</td>\n",
       "      <td>176.964649</td>\n",
       "    </tr>\n",
       "    <tr>\n",
       "      <th>2804</th>\n",
       "      <td>aaronbishop</td>\n",
       "      <td>2022-05-26</td>\n",
       "      <td>1.7619</td>\n",
       "      <td>usd</td>\n",
       "      <td>56.2996</td>\n",
       "      <td>99.194265</td>\n",
       "    </tr>\n",
       "    <tr>\n",
       "      <th>...</th>\n",
       "      <td>...</td>\n",
       "      <td>...</td>\n",
       "      <td>...</td>\n",
       "      <td>...</td>\n",
       "      <td>...</td>\n",
       "      <td>...</td>\n",
       "    </tr>\n",
       "    <tr>\n",
       "      <th>19297</th>\n",
       "      <td>zwilliams</td>\n",
       "      <td>2022-12-22</td>\n",
       "      <td>0.8574</td>\n",
       "      <td>usd</td>\n",
       "      <td>70.5256</td>\n",
       "      <td>60.468649</td>\n",
       "    </tr>\n",
       "    <tr>\n",
       "      <th>5611</th>\n",
       "      <td>zwilliams</td>\n",
       "      <td>2023-01-06</td>\n",
       "      <td>0.8681</td>\n",
       "      <td>usd</td>\n",
       "      <td>70.3375</td>\n",
       "      <td>61.059984</td>\n",
       "    </tr>\n",
       "    <tr>\n",
       "      <th>19294</th>\n",
       "      <td>zwilliams</td>\n",
       "      <td>2023-01-06</td>\n",
       "      <td>0.8681</td>\n",
       "      <td>usd</td>\n",
       "      <td>70.3375</td>\n",
       "      <td>61.059984</td>\n",
       "    </tr>\n",
       "    <tr>\n",
       "      <th>19065</th>\n",
       "      <td>zwilson</td>\n",
       "      <td>2022-06-07</td>\n",
       "      <td>279.0000</td>\n",
       "      <td>rub</td>\n",
       "      <td>NaN</td>\n",
       "      <td>279.000000</td>\n",
       "    </tr>\n",
       "    <tr>\n",
       "      <th>17427</th>\n",
       "      <td>zwright</td>\n",
       "      <td>2023-06-04</td>\n",
       "      <td>1.0012</td>\n",
       "      <td>usd</td>\n",
       "      <td>80.8756</td>\n",
       "      <td>80.972651</td>\n",
       "    </tr>\n",
       "  </tbody>\n",
       "</table>\n",
       "<p>19483 rows × 6 columns</p>\n",
       "</div>"
      ],
      "text/plain": [
       "          username      pay_dt   pay_amt currency    value     pay_rub\n",
       "12291      aabbott  2023-05-19    1.2916      usd  80.0366  103.375273\n",
       "1914       aaron15  2023-05-21   63.7800      rub      NaN   63.780000\n",
       "15288      aaron54  2022-09-02   25.0000      rub      NaN   25.000000\n",
       "2837   aaronbishop  2022-05-11    2.6262      usd  67.3843  176.964649\n",
       "2804   aaronbishop  2022-05-26    1.7619      usd  56.2996   99.194265\n",
       "...            ...         ...       ...      ...      ...         ...\n",
       "19297    zwilliams  2022-12-22    0.8574      usd  70.5256   60.468649\n",
       "5611     zwilliams  2023-01-06    0.8681      usd  70.3375   61.059984\n",
       "19294    zwilliams  2023-01-06    0.8681      usd  70.3375   61.059984\n",
       "19065      zwilson  2022-06-07  279.0000      rub      NaN  279.000000\n",
       "17427      zwright  2023-06-04    1.0012      usd  80.8756   80.972651\n",
       "\n",
       "[19483 rows x 6 columns]"
      ]
     },
     "execution_count": 67,
     "metadata": {},
     "output_type": "execute_result"
    }
   ],
   "source": [
    "roubles"
   ]
  },
  {
   "cell_type": "code",
   "execution_count": 68,
   "id": "b2f78873",
   "metadata": {},
   "outputs": [],
   "source": [
    "roubles.drop(['pay_amt','currency','value'], axis= 1 , inplace= True ) "
   ]
  },
  {
   "cell_type": "code",
   "execution_count": 69,
   "id": "41ce6c90",
   "metadata": {},
   "outputs": [
    {
     "data": {
      "text/html": [
       "<div>\n",
       "<style scoped>\n",
       "    .dataframe tbody tr th:only-of-type {\n",
       "        vertical-align: middle;\n",
       "    }\n",
       "\n",
       "    .dataframe tbody tr th {\n",
       "        vertical-align: top;\n",
       "    }\n",
       "\n",
       "    .dataframe thead th {\n",
       "        text-align: right;\n",
       "    }\n",
       "</style>\n",
       "<table border=\"1\" class=\"dataframe\">\n",
       "  <thead>\n",
       "    <tr style=\"text-align: right;\">\n",
       "      <th></th>\n",
       "      <th>username</th>\n",
       "      <th>pay_dt</th>\n",
       "      <th>pay_rub</th>\n",
       "    </tr>\n",
       "  </thead>\n",
       "  <tbody>\n",
       "    <tr>\n",
       "      <th>12291</th>\n",
       "      <td>aabbott</td>\n",
       "      <td>2023-05-19</td>\n",
       "      <td>103.375273</td>\n",
       "    </tr>\n",
       "    <tr>\n",
       "      <th>1914</th>\n",
       "      <td>aaron15</td>\n",
       "      <td>2023-05-21</td>\n",
       "      <td>63.780000</td>\n",
       "    </tr>\n",
       "    <tr>\n",
       "      <th>15288</th>\n",
       "      <td>aaron54</td>\n",
       "      <td>2022-09-02</td>\n",
       "      <td>25.000000</td>\n",
       "    </tr>\n",
       "    <tr>\n",
       "      <th>2837</th>\n",
       "      <td>aaronbishop</td>\n",
       "      <td>2022-05-11</td>\n",
       "      <td>176.964649</td>\n",
       "    </tr>\n",
       "    <tr>\n",
       "      <th>2804</th>\n",
       "      <td>aaronbishop</td>\n",
       "      <td>2022-05-26</td>\n",
       "      <td>99.194265</td>\n",
       "    </tr>\n",
       "    <tr>\n",
       "      <th>...</th>\n",
       "      <td>...</td>\n",
       "      <td>...</td>\n",
       "      <td>...</td>\n",
       "    </tr>\n",
       "    <tr>\n",
       "      <th>19297</th>\n",
       "      <td>zwilliams</td>\n",
       "      <td>2022-12-22</td>\n",
       "      <td>60.468649</td>\n",
       "    </tr>\n",
       "    <tr>\n",
       "      <th>5611</th>\n",
       "      <td>zwilliams</td>\n",
       "      <td>2023-01-06</td>\n",
       "      <td>61.059984</td>\n",
       "    </tr>\n",
       "    <tr>\n",
       "      <th>19294</th>\n",
       "      <td>zwilliams</td>\n",
       "      <td>2023-01-06</td>\n",
       "      <td>61.059984</td>\n",
       "    </tr>\n",
       "    <tr>\n",
       "      <th>19065</th>\n",
       "      <td>zwilson</td>\n",
       "      <td>2022-06-07</td>\n",
       "      <td>279.000000</td>\n",
       "    </tr>\n",
       "    <tr>\n",
       "      <th>17427</th>\n",
       "      <td>zwright</td>\n",
       "      <td>2023-06-04</td>\n",
       "      <td>80.972651</td>\n",
       "    </tr>\n",
       "  </tbody>\n",
       "</table>\n",
       "<p>19483 rows × 3 columns</p>\n",
       "</div>"
      ],
      "text/plain": [
       "          username      pay_dt     pay_rub\n",
       "12291      aabbott  2023-05-19  103.375273\n",
       "1914       aaron15  2023-05-21   63.780000\n",
       "15288      aaron54  2022-09-02   25.000000\n",
       "2837   aaronbishop  2022-05-11  176.964649\n",
       "2804   aaronbishop  2022-05-26   99.194265\n",
       "...            ...         ...         ...\n",
       "19297    zwilliams  2022-12-22   60.468649\n",
       "5611     zwilliams  2023-01-06   61.059984\n",
       "19294    zwilliams  2023-01-06   61.059984\n",
       "19065      zwilson  2022-06-07  279.000000\n",
       "17427      zwright  2023-06-04   80.972651\n",
       "\n",
       "[19483 rows x 3 columns]"
      ]
     },
     "execution_count": 69,
     "metadata": {},
     "output_type": "execute_result"
    }
   ],
   "source": [
    "roubles"
   ]
  },
  {
   "cell_type": "code",
   "execution_count": 70,
   "id": "bb6388d1",
   "metadata": {},
   "outputs": [
    {
     "data": {
      "text/plain": [
       "3513"
      ]
     },
     "execution_count": 70,
     "metadata": {},
     "output_type": "execute_result"
    }
   ],
   "source": [
    "roubles['username'].nunique()"
   ]
  },
  {
   "cell_type": "code",
   "execution_count": 71,
   "id": "cebda962",
   "metadata": {},
   "outputs": [
    {
     "data": {
      "text/plain": [
       "11162631.42142223"
      ]
     },
     "execution_count": 71,
     "metadata": {},
     "output_type": "execute_result"
    }
   ],
   "source": [
    "roubles['pay_rub'].sum() "
   ]
  },
  {
   "cell_type": "code",
   "execution_count": 72,
   "id": "207c8d99",
   "metadata": {
    "scrolled": true
   },
   "outputs": [
    {
     "data": {
      "text/html": [
       "<div>\n",
       "<style scoped>\n",
       "    .dataframe tbody tr th:only-of-type {\n",
       "        vertical-align: middle;\n",
       "    }\n",
       "\n",
       "    .dataframe tbody tr th {\n",
       "        vertical-align: top;\n",
       "    }\n",
       "\n",
       "    .dataframe thead th {\n",
       "        text-align: right;\n",
       "    }\n",
       "</style>\n",
       "<table border=\"1\" class=\"dataframe\">\n",
       "  <thead>\n",
       "    <tr style=\"text-align: right;\">\n",
       "      <th></th>\n",
       "      <th>username</th>\n",
       "      <th>country</th>\n",
       "      <th>day_reg</th>\n",
       "    </tr>\n",
       "    <tr>\n",
       "      <th>lang</th>\n",
       "      <th></th>\n",
       "      <th></th>\n",
       "      <th></th>\n",
       "    </tr>\n",
       "  </thead>\n",
       "  <tbody>\n",
       "    <tr>\n",
       "      <th>lang1</th>\n",
       "      <td>3403</td>\n",
       "      <td>3403</td>\n",
       "      <td>3403</td>\n",
       "    </tr>\n",
       "    <tr>\n",
       "      <th>lang2</th>\n",
       "      <td>3301</td>\n",
       "      <td>3301</td>\n",
       "      <td>3301</td>\n",
       "    </tr>\n",
       "  </tbody>\n",
       "</table>\n",
       "</div>"
      ],
      "text/plain": [
       "       username  country  day_reg\n",
       "lang                             \n",
       "lang1      3403     3403     3403\n",
       "lang2      3301     3301     3301"
      ]
     },
     "execution_count": 72,
     "metadata": {},
     "output_type": "execute_result"
    }
   ],
   "source": [
    "lang_common1.groupby(['lang']).count()"
   ]
  },
  {
   "cell_type": "code",
   "execution_count": 73,
   "id": "d8d4aa2d",
   "metadata": {},
   "outputs": [
    {
     "data": {
      "text/html": [
       "<div>\n",
       "<style scoped>\n",
       "    .dataframe tbody tr th:only-of-type {\n",
       "        vertical-align: middle;\n",
       "    }\n",
       "\n",
       "    .dataframe tbody tr th {\n",
       "        vertical-align: top;\n",
       "    }\n",
       "\n",
       "    .dataframe thead th {\n",
       "        text-align: right;\n",
       "    }\n",
       "</style>\n",
       "<table border=\"1\" class=\"dataframe\">\n",
       "  <thead>\n",
       "    <tr style=\"text-align: right;\">\n",
       "      <th></th>\n",
       "      <th>username</th>\n",
       "      <th>lang</th>\n",
       "      <th>country</th>\n",
       "      <th>day_reg</th>\n",
       "    </tr>\n",
       "  </thead>\n",
       "  <tbody>\n",
       "    <tr>\n",
       "      <th>0</th>\n",
       "      <td>richarddavid</td>\n",
       "      <td>lang1</td>\n",
       "      <td>country2</td>\n",
       "      <td>2022-03-26</td>\n",
       "    </tr>\n",
       "    <tr>\n",
       "      <th>1</th>\n",
       "      <td>josephromero</td>\n",
       "      <td>lang1</td>\n",
       "      <td>country2</td>\n",
       "      <td>2022-05-11</td>\n",
       "    </tr>\n",
       "    <tr>\n",
       "      <th>2</th>\n",
       "      <td>erica34</td>\n",
       "      <td>lang1</td>\n",
       "      <td>country2</td>\n",
       "      <td>2022-06-11</td>\n",
       "    </tr>\n",
       "    <tr>\n",
       "      <th>8</th>\n",
       "      <td>jennifer05</td>\n",
       "      <td>lang2</td>\n",
       "      <td>country2</td>\n",
       "      <td>2022-09-28</td>\n",
       "    </tr>\n",
       "    <tr>\n",
       "      <th>9</th>\n",
       "      <td>sheila90</td>\n",
       "      <td>lang1</td>\n",
       "      <td>country2</td>\n",
       "      <td>2022-06-18</td>\n",
       "    </tr>\n",
       "    <tr>\n",
       "      <th>...</th>\n",
       "      <td>...</td>\n",
       "      <td>...</td>\n",
       "      <td>...</td>\n",
       "      <td>...</td>\n",
       "    </tr>\n",
       "    <tr>\n",
       "      <th>16987</th>\n",
       "      <td>camposnatasha</td>\n",
       "      <td>lang1</td>\n",
       "      <td>country2</td>\n",
       "      <td>2022-05-24</td>\n",
       "    </tr>\n",
       "    <tr>\n",
       "      <th>16989</th>\n",
       "      <td>barbara06</td>\n",
       "      <td>lang1</td>\n",
       "      <td>country2</td>\n",
       "      <td>2022-07-05</td>\n",
       "    </tr>\n",
       "    <tr>\n",
       "      <th>16990</th>\n",
       "      <td>wguerra</td>\n",
       "      <td>lang1</td>\n",
       "      <td>country2</td>\n",
       "      <td>2022-03-28</td>\n",
       "    </tr>\n",
       "    <tr>\n",
       "      <th>16997</th>\n",
       "      <td>deborahhaley</td>\n",
       "      <td>lang1</td>\n",
       "      <td>country2</td>\n",
       "      <td>2022-04-17</td>\n",
       "    </tr>\n",
       "    <tr>\n",
       "      <th>16998</th>\n",
       "      <td>jill77</td>\n",
       "      <td>lang2</td>\n",
       "      <td>country2</td>\n",
       "      <td>2022-09-15</td>\n",
       "    </tr>\n",
       "  </tbody>\n",
       "</table>\n",
       "<p>6704 rows × 4 columns</p>\n",
       "</div>"
      ],
      "text/plain": [
       "            username   lang   country    day_reg\n",
       "0       richarddavid  lang1  country2 2022-03-26\n",
       "1       josephromero  lang1  country2 2022-05-11\n",
       "2            erica34  lang1  country2 2022-06-11\n",
       "8         jennifer05  lang2  country2 2022-09-28\n",
       "9           sheila90  lang1  country2 2022-06-18\n",
       "...              ...    ...       ...        ...\n",
       "16987  camposnatasha  lang1  country2 2022-05-24\n",
       "16989      barbara06  lang1  country2 2022-07-05\n",
       "16990        wguerra  lang1  country2 2022-03-28\n",
       "16997   deborahhaley  lang1  country2 2022-04-17\n",
       "16998         jill77  lang2  country2 2022-09-15\n",
       "\n",
       "[6704 rows x 4 columns]"
      ]
     },
     "execution_count": 73,
     "metadata": {},
     "output_type": "execute_result"
    }
   ],
   "source": [
    "lang_common1"
   ]
  },
  {
   "cell_type": "code",
   "execution_count": 74,
   "id": "8fa8977b",
   "metadata": {},
   "outputs": [
    {
     "data": {
      "text/plain": [
       "3301"
      ]
     },
     "execution_count": 74,
     "metadata": {},
     "output_type": "execute_result"
    }
   ],
   "source": [
    "l22=len(lang_common1[lang_common1['lang']=='lang2'])\n",
    "l22"
   ]
  },
  {
   "cell_type": "code",
   "execution_count": 75,
   "id": "9d7ec047",
   "metadata": {
    "scrolled": true
   },
   "outputs": [
    {
     "data": {
      "text/html": [
       "<div>\n",
       "<style scoped>\n",
       "    .dataframe tbody tr th:only-of-type {\n",
       "        vertical-align: middle;\n",
       "    }\n",
       "\n",
       "    .dataframe tbody tr th {\n",
       "        vertical-align: top;\n",
       "    }\n",
       "\n",
       "    .dataframe thead th {\n",
       "        text-align: right;\n",
       "    }\n",
       "</style>\n",
       "<table border=\"1\" class=\"dataframe\">\n",
       "  <thead>\n",
       "    <tr style=\"text-align: right;\">\n",
       "      <th></th>\n",
       "      <th>username</th>\n",
       "      <th>lang</th>\n",
       "      <th>country</th>\n",
       "      <th>day_reg</th>\n",
       "      <th>pay_dt</th>\n",
       "      <th>pay_rub</th>\n",
       "    </tr>\n",
       "  </thead>\n",
       "  <tbody>\n",
       "    <tr>\n",
       "      <th>0</th>\n",
       "      <td>richarddavid</td>\n",
       "      <td>lang1</td>\n",
       "      <td>country2</td>\n",
       "      <td>2022-03-26</td>\n",
       "      <td>2022-03-26</td>\n",
       "      <td>168.106481</td>\n",
       "    </tr>\n",
       "    <tr>\n",
       "      <th>1</th>\n",
       "      <td>richarddavid</td>\n",
       "      <td>lang1</td>\n",
       "      <td>country2</td>\n",
       "      <td>2022-03-26</td>\n",
       "      <td>2022-03-27</td>\n",
       "      <td>167.762099</td>\n",
       "    </tr>\n",
       "    <tr>\n",
       "      <th>2</th>\n",
       "      <td>richarddavid</td>\n",
       "      <td>lang1</td>\n",
       "      <td>country2</td>\n",
       "      <td>2022-03-26</td>\n",
       "      <td>2022-03-27</td>\n",
       "      <td>15.516344</td>\n",
       "    </tr>\n",
       "    <tr>\n",
       "      <th>3</th>\n",
       "      <td>josephromero</td>\n",
       "      <td>lang1</td>\n",
       "      <td>country2</td>\n",
       "      <td>2022-05-11</td>\n",
       "      <td>2023-03-19</td>\n",
       "      <td>332.761853</td>\n",
       "    </tr>\n",
       "    <tr>\n",
       "      <th>4</th>\n",
       "      <td>josephromero</td>\n",
       "      <td>lang1</td>\n",
       "      <td>country2</td>\n",
       "      <td>2022-05-11</td>\n",
       "      <td>2023-03-20</td>\n",
       "      <td>491.195073</td>\n",
       "    </tr>\n",
       "    <tr>\n",
       "      <th>...</th>\n",
       "      <td>...</td>\n",
       "      <td>...</td>\n",
       "      <td>...</td>\n",
       "      <td>...</td>\n",
       "      <td>...</td>\n",
       "      <td>...</td>\n",
       "    </tr>\n",
       "    <tr>\n",
       "      <th>8844</th>\n",
       "      <td>belldakota</td>\n",
       "      <td>lang1</td>\n",
       "      <td>country2</td>\n",
       "      <td>2022-05-10</td>\n",
       "      <td>2022-05-11</td>\n",
       "      <td>2949.444503</td>\n",
       "    </tr>\n",
       "    <tr>\n",
       "      <th>8845</th>\n",
       "      <td>belldakota</td>\n",
       "      <td>lang1</td>\n",
       "      <td>country2</td>\n",
       "      <td>2022-05-10</td>\n",
       "      <td>2022-05-11</td>\n",
       "      <td>589.888901</td>\n",
       "    </tr>\n",
       "    <tr>\n",
       "      <th>8846</th>\n",
       "      <td>jesse55</td>\n",
       "      <td>lang2</td>\n",
       "      <td>country2</td>\n",
       "      <td>2022-11-26</td>\n",
       "      <td>2023-02-08</td>\n",
       "      <td>122.913243</td>\n",
       "    </tr>\n",
       "    <tr>\n",
       "      <th>8847</th>\n",
       "      <td>alexis55</td>\n",
       "      <td>lang2</td>\n",
       "      <td>country2</td>\n",
       "      <td>2022-10-06</td>\n",
       "      <td>2023-06-03</td>\n",
       "      <td>1300.139970</td>\n",
       "    </tr>\n",
       "    <tr>\n",
       "      <th>8848</th>\n",
       "      <td>kathleenhoffman</td>\n",
       "      <td>lang1</td>\n",
       "      <td>country2</td>\n",
       "      <td>2022-07-20</td>\n",
       "      <td>2022-07-23</td>\n",
       "      <td>486.928400</td>\n",
       "    </tr>\n",
       "  </tbody>\n",
       "</table>\n",
       "<p>8849 rows × 6 columns</p>\n",
       "</div>"
      ],
      "text/plain": [
       "             username   lang   country    day_reg      pay_dt      pay_rub\n",
       "0        richarddavid  lang1  country2 2022-03-26  2022-03-26   168.106481\n",
       "1        richarddavid  lang1  country2 2022-03-26  2022-03-27   167.762099\n",
       "2        richarddavid  lang1  country2 2022-03-26  2022-03-27    15.516344\n",
       "3        josephromero  lang1  country2 2022-05-11  2023-03-19   332.761853\n",
       "4        josephromero  lang1  country2 2022-05-11  2023-03-20   491.195073\n",
       "...               ...    ...       ...        ...         ...          ...\n",
       "8844       belldakota  lang1  country2 2022-05-10  2022-05-11  2949.444503\n",
       "8845       belldakota  lang1  country2 2022-05-10  2022-05-11   589.888901\n",
       "8846          jesse55  lang2  country2 2022-11-26  2023-02-08   122.913243\n",
       "8847         alexis55  lang2  country2 2022-10-06  2023-06-03  1300.139970\n",
       "8848  kathleenhoffman  lang1  country2 2022-07-20  2022-07-23   486.928400\n",
       "\n",
       "[8849 rows x 6 columns]"
      ]
     },
     "execution_count": 75,
     "metadata": {},
     "output_type": "execute_result"
    }
   ],
   "source": [
    "merged_data2 = pd.merge(lang_common1, roubles, on='username', how='inner')\n",
    "merged_data2"
   ]
  },
  {
   "cell_type": "code",
   "execution_count": 76,
   "id": "3eaa29f9",
   "metadata": {},
   "outputs": [],
   "source": [
    "merged_data2['pay_dt'] = pd.to_datetime(merged_data2['pay_dt'])"
   ]
  },
  {
   "cell_type": "code",
   "execution_count": 77,
   "id": "d058bd41",
   "metadata": {},
   "outputs": [],
   "source": [
    "merged_data2['days_diff'] = (merged_data2['pay_dt'] - merged_data2['day_reg']).dt.days"
   ]
  },
  {
   "cell_type": "code",
   "execution_count": 78,
   "id": "8d2ef45d",
   "metadata": {},
   "outputs": [
    {
     "data": {
      "text/html": [
       "<div>\n",
       "<style scoped>\n",
       "    .dataframe tbody tr th:only-of-type {\n",
       "        vertical-align: middle;\n",
       "    }\n",
       "\n",
       "    .dataframe tbody tr th {\n",
       "        vertical-align: top;\n",
       "    }\n",
       "\n",
       "    .dataframe thead th {\n",
       "        text-align: right;\n",
       "    }\n",
       "</style>\n",
       "<table border=\"1\" class=\"dataframe\">\n",
       "  <thead>\n",
       "    <tr style=\"text-align: right;\">\n",
       "      <th></th>\n",
       "      <th>username</th>\n",
       "      <th>country</th>\n",
       "      <th>day_reg</th>\n",
       "      <th>pay_dt</th>\n",
       "      <th>pay_rub</th>\n",
       "      <th>days_diff</th>\n",
       "    </tr>\n",
       "    <tr>\n",
       "      <th>lang</th>\n",
       "      <th></th>\n",
       "      <th></th>\n",
       "      <th></th>\n",
       "      <th></th>\n",
       "      <th></th>\n",
       "      <th></th>\n",
       "    </tr>\n",
       "  </thead>\n",
       "  <tbody>\n",
       "    <tr>\n",
       "      <th>lang1</th>\n",
       "      <td>5169</td>\n",
       "      <td>5169</td>\n",
       "      <td>5169</td>\n",
       "      <td>5169</td>\n",
       "      <td>5169</td>\n",
       "      <td>5169</td>\n",
       "    </tr>\n",
       "    <tr>\n",
       "      <th>lang2</th>\n",
       "      <td>3680</td>\n",
       "      <td>3680</td>\n",
       "      <td>3680</td>\n",
       "      <td>3680</td>\n",
       "      <td>3680</td>\n",
       "      <td>3680</td>\n",
       "    </tr>\n",
       "  </tbody>\n",
       "</table>\n",
       "</div>"
      ],
      "text/plain": [
       "       username  country  day_reg  pay_dt  pay_rub  days_diff\n",
       "lang                                                         \n",
       "lang1      5169     5169     5169    5169     5169       5169\n",
       "lang2      3680     3680     3680    3680     3680       3680"
      ]
     },
     "execution_count": 78,
     "metadata": {},
     "output_type": "execute_result"
    }
   ],
   "source": [
    "merged_data2.groupby(['lang']).count()"
   ]
  },
  {
   "cell_type": "code",
   "execution_count": 79,
   "id": "ccba54f1",
   "metadata": {},
   "outputs": [
    {
     "data": {
      "text/html": [
       "<div>\n",
       "<style scoped>\n",
       "    .dataframe tbody tr th:only-of-type {\n",
       "        vertical-align: middle;\n",
       "    }\n",
       "\n",
       "    .dataframe tbody tr th {\n",
       "        vertical-align: top;\n",
       "    }\n",
       "\n",
       "    .dataframe thead th {\n",
       "        text-align: right;\n",
       "    }\n",
       "</style>\n",
       "<table border=\"1\" class=\"dataframe\">\n",
       "  <thead>\n",
       "    <tr style=\"text-align: right;\">\n",
       "      <th></th>\n",
       "      <th>username</th>\n",
       "      <th>lang</th>\n",
       "      <th>country</th>\n",
       "      <th>day_reg</th>\n",
       "      <th>pay_dt</th>\n",
       "      <th>pay_rub</th>\n",
       "      <th>days_diff</th>\n",
       "    </tr>\n",
       "  </thead>\n",
       "  <tbody>\n",
       "    <tr>\n",
       "      <th>0</th>\n",
       "      <td>richarddavid</td>\n",
       "      <td>lang1</td>\n",
       "      <td>country2</td>\n",
       "      <td>2022-03-26</td>\n",
       "      <td>2022-03-26</td>\n",
       "      <td>168.106481</td>\n",
       "      <td>0</td>\n",
       "    </tr>\n",
       "    <tr>\n",
       "      <th>1</th>\n",
       "      <td>richarddavid</td>\n",
       "      <td>lang1</td>\n",
       "      <td>country2</td>\n",
       "      <td>2022-03-26</td>\n",
       "      <td>2022-03-27</td>\n",
       "      <td>167.762099</td>\n",
       "      <td>1</td>\n",
       "    </tr>\n",
       "    <tr>\n",
       "      <th>2</th>\n",
       "      <td>richarddavid</td>\n",
       "      <td>lang1</td>\n",
       "      <td>country2</td>\n",
       "      <td>2022-03-26</td>\n",
       "      <td>2022-03-27</td>\n",
       "      <td>15.516344</td>\n",
       "      <td>1</td>\n",
       "    </tr>\n",
       "    <tr>\n",
       "      <th>15</th>\n",
       "      <td>erica34</td>\n",
       "      <td>lang1</td>\n",
       "      <td>country2</td>\n",
       "      <td>2022-06-11</td>\n",
       "      <td>2022-06-29</td>\n",
       "      <td>627.544999</td>\n",
       "      <td>18</td>\n",
       "    </tr>\n",
       "    <tr>\n",
       "      <th>16</th>\n",
       "      <td>erica34</td>\n",
       "      <td>lang1</td>\n",
       "      <td>country2</td>\n",
       "      <td>2022-06-11</td>\n",
       "      <td>2022-06-29</td>\n",
       "      <td>125.506881</td>\n",
       "      <td>18</td>\n",
       "    </tr>\n",
       "    <tr>\n",
       "      <th>...</th>\n",
       "      <td>...</td>\n",
       "      <td>...</td>\n",
       "      <td>...</td>\n",
       "      <td>...</td>\n",
       "      <td>...</td>\n",
       "      <td>...</td>\n",
       "      <td>...</td>\n",
       "    </tr>\n",
       "    <tr>\n",
       "      <th>8843</th>\n",
       "      <td>belldakota</td>\n",
       "      <td>lang1</td>\n",
       "      <td>country2</td>\n",
       "      <td>2022-05-10</td>\n",
       "      <td>2022-05-11</td>\n",
       "      <td>589.888901</td>\n",
       "      <td>1</td>\n",
       "    </tr>\n",
       "    <tr>\n",
       "      <th>8844</th>\n",
       "      <td>belldakota</td>\n",
       "      <td>lang1</td>\n",
       "      <td>country2</td>\n",
       "      <td>2022-05-10</td>\n",
       "      <td>2022-05-11</td>\n",
       "      <td>2949.444503</td>\n",
       "      <td>1</td>\n",
       "    </tr>\n",
       "    <tr>\n",
       "      <th>8845</th>\n",
       "      <td>belldakota</td>\n",
       "      <td>lang1</td>\n",
       "      <td>country2</td>\n",
       "      <td>2022-05-10</td>\n",
       "      <td>2022-05-11</td>\n",
       "      <td>589.888901</td>\n",
       "      <td>1</td>\n",
       "    </tr>\n",
       "    <tr>\n",
       "      <th>8846</th>\n",
       "      <td>jesse55</td>\n",
       "      <td>lang2</td>\n",
       "      <td>country2</td>\n",
       "      <td>2022-11-26</td>\n",
       "      <td>2023-02-08</td>\n",
       "      <td>122.913243</td>\n",
       "      <td>74</td>\n",
       "    </tr>\n",
       "    <tr>\n",
       "      <th>8848</th>\n",
       "      <td>kathleenhoffman</td>\n",
       "      <td>lang1</td>\n",
       "      <td>country2</td>\n",
       "      <td>2022-07-20</td>\n",
       "      <td>2022-07-23</td>\n",
       "      <td>486.928400</td>\n",
       "      <td>3</td>\n",
       "    </tr>\n",
       "  </tbody>\n",
       "</table>\n",
       "<p>6363 rows × 7 columns</p>\n",
       "</div>"
      ],
      "text/plain": [
       "             username   lang   country    day_reg     pay_dt      pay_rub  \\\n",
       "0        richarddavid  lang1  country2 2022-03-26 2022-03-26   168.106481   \n",
       "1        richarddavid  lang1  country2 2022-03-26 2022-03-27   167.762099   \n",
       "2        richarddavid  lang1  country2 2022-03-26 2022-03-27    15.516344   \n",
       "15            erica34  lang1  country2 2022-06-11 2022-06-29   627.544999   \n",
       "16            erica34  lang1  country2 2022-06-11 2022-06-29   125.506881   \n",
       "...               ...    ...       ...        ...        ...          ...   \n",
       "8843       belldakota  lang1  country2 2022-05-10 2022-05-11   589.888901   \n",
       "8844       belldakota  lang1  country2 2022-05-10 2022-05-11  2949.444503   \n",
       "8845       belldakota  lang1  country2 2022-05-10 2022-05-11   589.888901   \n",
       "8846          jesse55  lang2  country2 2022-11-26 2023-02-08   122.913243   \n",
       "8848  kathleenhoffman  lang1  country2 2022-07-20 2022-07-23   486.928400   \n",
       "\n",
       "      days_diff  \n",
       "0             0  \n",
       "1             1  \n",
       "2             1  \n",
       "15           18  \n",
       "16           18  \n",
       "...         ...  \n",
       "8843          1  \n",
       "8844          1  \n",
       "8845          1  \n",
       "8846         74  \n",
       "8848          3  \n",
       "\n",
       "[6363 rows x 7 columns]"
      ]
     },
     "execution_count": 79,
     "metadata": {},
     "output_type": "execute_result"
    }
   ],
   "source": [
    "merged_data_filtered = merged_data2[ (merged_data2['days_diff']>=0) &(merged_data2['days_diff']<=180)]\n",
    "merged_data_filtered"
   ]
  },
  {
   "cell_type": "code",
   "execution_count": 80,
   "id": "5e281b0b",
   "metadata": {},
   "outputs": [
    {
     "data": {
      "text/plain": [
       "Timestamp('2022-12-27 00:00:00')"
      ]
     },
     "execution_count": 80,
     "metadata": {},
     "output_type": "execute_result"
    }
   ],
   "source": [
    "merged_data_filtered['day_reg'].max()"
   ]
  },
  {
   "cell_type": "code",
   "execution_count": 81,
   "id": "157668dc",
   "metadata": {},
   "outputs": [
    {
     "data": {
      "text/html": [
       "<div>\n",
       "<style scoped>\n",
       "    .dataframe tbody tr th:only-of-type {\n",
       "        vertical-align: middle;\n",
       "    }\n",
       "\n",
       "    .dataframe tbody tr th {\n",
       "        vertical-align: top;\n",
       "    }\n",
       "\n",
       "    .dataframe thead th {\n",
       "        text-align: right;\n",
       "    }\n",
       "</style>\n",
       "<table border=\"1\" class=\"dataframe\">\n",
       "  <thead>\n",
       "    <tr style=\"text-align: right;\">\n",
       "      <th></th>\n",
       "      <th>username</th>\n",
       "      <th>country</th>\n",
       "      <th>day_reg</th>\n",
       "      <th>pay_dt</th>\n",
       "      <th>pay_rub</th>\n",
       "      <th>days_diff</th>\n",
       "    </tr>\n",
       "    <tr>\n",
       "      <th>lang</th>\n",
       "      <th></th>\n",
       "      <th></th>\n",
       "      <th></th>\n",
       "      <th></th>\n",
       "      <th></th>\n",
       "      <th></th>\n",
       "    </tr>\n",
       "  </thead>\n",
       "  <tbody>\n",
       "    <tr>\n",
       "      <th>lang1</th>\n",
       "      <td>3122</td>\n",
       "      <td>3122</td>\n",
       "      <td>3122</td>\n",
       "      <td>3122</td>\n",
       "      <td>3122</td>\n",
       "      <td>3122</td>\n",
       "    </tr>\n",
       "    <tr>\n",
       "      <th>lang2</th>\n",
       "      <td>3241</td>\n",
       "      <td>3241</td>\n",
       "      <td>3241</td>\n",
       "      <td>3241</td>\n",
       "      <td>3241</td>\n",
       "      <td>3241</td>\n",
       "    </tr>\n",
       "  </tbody>\n",
       "</table>\n",
       "</div>"
      ],
      "text/plain": [
       "       username  country  day_reg  pay_dt  pay_rub  days_diff\n",
       "lang                                                         \n",
       "lang1      3122     3122     3122    3122     3122       3122\n",
       "lang2      3241     3241     3241    3241     3241       3241"
      ]
     },
     "execution_count": 81,
     "metadata": {},
     "output_type": "execute_result"
    }
   ],
   "source": [
    "merged_data_filtered.groupby(['lang']).count()"
   ]
  },
  {
   "cell_type": "code",
   "execution_count": 82,
   "id": "153d1b1b",
   "metadata": {},
   "outputs": [],
   "source": [
    "lang_ltv1 = merged_data_filtered[merged_data_filtered[\"lang\"] == \"lang1\"]\n",
    "lang_ltv2 = merged_data_filtered[merged_data_filtered[\"lang\"] == \"lang2\"]"
   ]
  },
  {
   "cell_type": "code",
   "execution_count": 83,
   "id": "d22afd99",
   "metadata": {},
   "outputs": [
    {
     "data": {
      "text/html": [
       "<div>\n",
       "<style scoped>\n",
       "    .dataframe tbody tr th:only-of-type {\n",
       "        vertical-align: middle;\n",
       "    }\n",
       "\n",
       "    .dataframe tbody tr th {\n",
       "        vertical-align: top;\n",
       "    }\n",
       "\n",
       "    .dataframe thead th {\n",
       "        text-align: right;\n",
       "    }\n",
       "</style>\n",
       "<table border=\"1\" class=\"dataframe\">\n",
       "  <thead>\n",
       "    <tr style=\"text-align: right;\">\n",
       "      <th></th>\n",
       "      <th>username</th>\n",
       "      <th>lang</th>\n",
       "      <th>country</th>\n",
       "      <th>day_reg</th>\n",
       "      <th>pay_dt</th>\n",
       "      <th>pay_rub</th>\n",
       "      <th>days_diff</th>\n",
       "    </tr>\n",
       "  </thead>\n",
       "  <tbody>\n",
       "    <tr>\n",
       "      <th>0</th>\n",
       "      <td>richarddavid</td>\n",
       "      <td>lang1</td>\n",
       "      <td>country2</td>\n",
       "      <td>2022-03-26</td>\n",
       "      <td>2022-03-26</td>\n",
       "      <td>168.106481</td>\n",
       "      <td>0</td>\n",
       "    </tr>\n",
       "    <tr>\n",
       "      <th>1</th>\n",
       "      <td>richarddavid</td>\n",
       "      <td>lang1</td>\n",
       "      <td>country2</td>\n",
       "      <td>2022-03-26</td>\n",
       "      <td>2022-03-27</td>\n",
       "      <td>167.762099</td>\n",
       "      <td>1</td>\n",
       "    </tr>\n",
       "    <tr>\n",
       "      <th>2</th>\n",
       "      <td>richarddavid</td>\n",
       "      <td>lang1</td>\n",
       "      <td>country2</td>\n",
       "      <td>2022-03-26</td>\n",
       "      <td>2022-03-27</td>\n",
       "      <td>15.516344</td>\n",
       "      <td>1</td>\n",
       "    </tr>\n",
       "    <tr>\n",
       "      <th>15</th>\n",
       "      <td>erica34</td>\n",
       "      <td>lang1</td>\n",
       "      <td>country2</td>\n",
       "      <td>2022-06-11</td>\n",
       "      <td>2022-06-29</td>\n",
       "      <td>627.544999</td>\n",
       "      <td>18</td>\n",
       "    </tr>\n",
       "    <tr>\n",
       "      <th>16</th>\n",
       "      <td>erica34</td>\n",
       "      <td>lang1</td>\n",
       "      <td>country2</td>\n",
       "      <td>2022-06-11</td>\n",
       "      <td>2022-06-29</td>\n",
       "      <td>125.506881</td>\n",
       "      <td>18</td>\n",
       "    </tr>\n",
       "    <tr>\n",
       "      <th>...</th>\n",
       "      <td>...</td>\n",
       "      <td>...</td>\n",
       "      <td>...</td>\n",
       "      <td>...</td>\n",
       "      <td>...</td>\n",
       "      <td>...</td>\n",
       "      <td>...</td>\n",
       "    </tr>\n",
       "    <tr>\n",
       "      <th>8842</th>\n",
       "      <td>whitneygregory</td>\n",
       "      <td>lang1</td>\n",
       "      <td>country2</td>\n",
       "      <td>2022-06-28</td>\n",
       "      <td>2022-07-21</td>\n",
       "      <td>335.056697</td>\n",
       "      <td>23</td>\n",
       "    </tr>\n",
       "    <tr>\n",
       "      <th>8843</th>\n",
       "      <td>belldakota</td>\n",
       "      <td>lang1</td>\n",
       "      <td>country2</td>\n",
       "      <td>2022-05-10</td>\n",
       "      <td>2022-05-11</td>\n",
       "      <td>589.888901</td>\n",
       "      <td>1</td>\n",
       "    </tr>\n",
       "    <tr>\n",
       "      <th>8844</th>\n",
       "      <td>belldakota</td>\n",
       "      <td>lang1</td>\n",
       "      <td>country2</td>\n",
       "      <td>2022-05-10</td>\n",
       "      <td>2022-05-11</td>\n",
       "      <td>2949.444503</td>\n",
       "      <td>1</td>\n",
       "    </tr>\n",
       "    <tr>\n",
       "      <th>8845</th>\n",
       "      <td>belldakota</td>\n",
       "      <td>lang1</td>\n",
       "      <td>country2</td>\n",
       "      <td>2022-05-10</td>\n",
       "      <td>2022-05-11</td>\n",
       "      <td>589.888901</td>\n",
       "      <td>1</td>\n",
       "    </tr>\n",
       "    <tr>\n",
       "      <th>8848</th>\n",
       "      <td>kathleenhoffman</td>\n",
       "      <td>lang1</td>\n",
       "      <td>country2</td>\n",
       "      <td>2022-07-20</td>\n",
       "      <td>2022-07-23</td>\n",
       "      <td>486.928400</td>\n",
       "      <td>3</td>\n",
       "    </tr>\n",
       "  </tbody>\n",
       "</table>\n",
       "<p>3122 rows × 7 columns</p>\n",
       "</div>"
      ],
      "text/plain": [
       "             username   lang   country    day_reg     pay_dt      pay_rub  \\\n",
       "0        richarddavid  lang1  country2 2022-03-26 2022-03-26   168.106481   \n",
       "1        richarddavid  lang1  country2 2022-03-26 2022-03-27   167.762099   \n",
       "2        richarddavid  lang1  country2 2022-03-26 2022-03-27    15.516344   \n",
       "15            erica34  lang1  country2 2022-06-11 2022-06-29   627.544999   \n",
       "16            erica34  lang1  country2 2022-06-11 2022-06-29   125.506881   \n",
       "...               ...    ...       ...        ...        ...          ...   \n",
       "8842   whitneygregory  lang1  country2 2022-06-28 2022-07-21   335.056697   \n",
       "8843       belldakota  lang1  country2 2022-05-10 2022-05-11   589.888901   \n",
       "8844       belldakota  lang1  country2 2022-05-10 2022-05-11  2949.444503   \n",
       "8845       belldakota  lang1  country2 2022-05-10 2022-05-11   589.888901   \n",
       "8848  kathleenhoffman  lang1  country2 2022-07-20 2022-07-23   486.928400   \n",
       "\n",
       "      days_diff  \n",
       "0             0  \n",
       "1             1  \n",
       "2             1  \n",
       "15           18  \n",
       "16           18  \n",
       "...         ...  \n",
       "8842         23  \n",
       "8843          1  \n",
       "8844          1  \n",
       "8845          1  \n",
       "8848          3  \n",
       "\n",
       "[3122 rows x 7 columns]"
      ]
     },
     "execution_count": 83,
     "metadata": {},
     "output_type": "execute_result"
    }
   ],
   "source": [
    "lang_ltv1"
   ]
  },
  {
   "cell_type": "code",
   "execution_count": 84,
   "id": "2318b1f3",
   "metadata": {},
   "outputs": [
    {
     "name": "stderr",
     "output_type": "stream",
     "text": [
      "C:\\Users\\Professional\\AppData\\Local\\Temp\\ipykernel_4696\\1019024222.py:1: FutureWarning: The default value of numeric_only in DataFrameGroupBy.sum is deprecated. In a future version, numeric_only will default to False. Either specify numeric_only or select only columns which should be valid for the function.\n",
      "  ll1=lang_ltv1.groupby(['days_diff']).sum()\n"
     ]
    },
    {
     "data": {
      "text/html": [
       "<div>\n",
       "<style scoped>\n",
       "    .dataframe tbody tr th:only-of-type {\n",
       "        vertical-align: middle;\n",
       "    }\n",
       "\n",
       "    .dataframe tbody tr th {\n",
       "        vertical-align: top;\n",
       "    }\n",
       "\n",
       "    .dataframe thead th {\n",
       "        text-align: right;\n",
       "    }\n",
       "</style>\n",
       "<table border=\"1\" class=\"dataframe\">\n",
       "  <thead>\n",
       "    <tr style=\"text-align: right;\">\n",
       "      <th></th>\n",
       "      <th>pay_rub</th>\n",
       "    </tr>\n",
       "    <tr>\n",
       "      <th>days_diff</th>\n",
       "      <th></th>\n",
       "    </tr>\n",
       "  </thead>\n",
       "  <tbody>\n",
       "    <tr>\n",
       "      <th>0</th>\n",
       "      <td>110062.574235</td>\n",
       "    </tr>\n",
       "    <tr>\n",
       "      <th>1</th>\n",
       "      <td>58409.216673</td>\n",
       "    </tr>\n",
       "    <tr>\n",
       "      <th>2</th>\n",
       "      <td>34851.998026</td>\n",
       "    </tr>\n",
       "    <tr>\n",
       "      <th>3</th>\n",
       "      <td>29998.321197</td>\n",
       "    </tr>\n",
       "    <tr>\n",
       "      <th>4</th>\n",
       "      <td>12337.785797</td>\n",
       "    </tr>\n",
       "    <tr>\n",
       "      <th>...</th>\n",
       "      <td>...</td>\n",
       "    </tr>\n",
       "    <tr>\n",
       "      <th>176</th>\n",
       "      <td>3926.623145</td>\n",
       "    </tr>\n",
       "    <tr>\n",
       "      <th>177</th>\n",
       "      <td>2516.110603</td>\n",
       "    </tr>\n",
       "    <tr>\n",
       "      <th>178</th>\n",
       "      <td>3904.786055</td>\n",
       "    </tr>\n",
       "    <tr>\n",
       "      <th>179</th>\n",
       "      <td>4123.725895</td>\n",
       "    </tr>\n",
       "    <tr>\n",
       "      <th>180</th>\n",
       "      <td>4420.815216</td>\n",
       "    </tr>\n",
       "  </tbody>\n",
       "</table>\n",
       "<p>181 rows × 1 columns</p>\n",
       "</div>"
      ],
      "text/plain": [
       "                 pay_rub\n",
       "days_diff               \n",
       "0          110062.574235\n",
       "1           58409.216673\n",
       "2           34851.998026\n",
       "3           29998.321197\n",
       "4           12337.785797\n",
       "...                  ...\n",
       "176          3926.623145\n",
       "177          2516.110603\n",
       "178          3904.786055\n",
       "179          4123.725895\n",
       "180          4420.815216\n",
       "\n",
       "[181 rows x 1 columns]"
      ]
     },
     "execution_count": 84,
     "metadata": {},
     "output_type": "execute_result"
    }
   ],
   "source": [
    "ll1=lang_ltv1.groupby(['days_diff']).sum()\n",
    "ll1"
   ]
  },
  {
   "cell_type": "code",
   "execution_count": 85,
   "id": "01635212",
   "metadata": {},
   "outputs": [
    {
     "data": {
      "text/html": [
       "<div>\n",
       "<style scoped>\n",
       "    .dataframe tbody tr th:only-of-type {\n",
       "        vertical-align: middle;\n",
       "    }\n",
       "\n",
       "    .dataframe tbody tr th {\n",
       "        vertical-align: top;\n",
       "    }\n",
       "\n",
       "    .dataframe thead th {\n",
       "        text-align: right;\n",
       "    }\n",
       "</style>\n",
       "<table border=\"1\" class=\"dataframe\">\n",
       "  <thead>\n",
       "    <tr style=\"text-align: right;\">\n",
       "      <th></th>\n",
       "      <th>pay_rub</th>\n",
       "      <th>pay_rub_cumsum</th>\n",
       "    </tr>\n",
       "    <tr>\n",
       "      <th>days_diff</th>\n",
       "      <th></th>\n",
       "      <th></th>\n",
       "    </tr>\n",
       "  </thead>\n",
       "  <tbody>\n",
       "    <tr>\n",
       "      <th>0</th>\n",
       "      <td>110062.574235</td>\n",
       "      <td>1.100626e+05</td>\n",
       "    </tr>\n",
       "    <tr>\n",
       "      <th>1</th>\n",
       "      <td>58409.216673</td>\n",
       "      <td>1.684718e+05</td>\n",
       "    </tr>\n",
       "    <tr>\n",
       "      <th>2</th>\n",
       "      <td>34851.998026</td>\n",
       "      <td>2.033238e+05</td>\n",
       "    </tr>\n",
       "    <tr>\n",
       "      <th>3</th>\n",
       "      <td>29998.321197</td>\n",
       "      <td>2.333221e+05</td>\n",
       "    </tr>\n",
       "    <tr>\n",
       "      <th>4</th>\n",
       "      <td>12337.785797</td>\n",
       "      <td>2.456599e+05</td>\n",
       "    </tr>\n",
       "    <tr>\n",
       "      <th>...</th>\n",
       "      <td>...</td>\n",
       "      <td>...</td>\n",
       "    </tr>\n",
       "    <tr>\n",
       "      <th>176</th>\n",
       "      <td>3926.623145</td>\n",
       "      <td>1.376625e+06</td>\n",
       "    </tr>\n",
       "    <tr>\n",
       "      <th>177</th>\n",
       "      <td>2516.110603</td>\n",
       "      <td>1.379141e+06</td>\n",
       "    </tr>\n",
       "    <tr>\n",
       "      <th>178</th>\n",
       "      <td>3904.786055</td>\n",
       "      <td>1.383046e+06</td>\n",
       "    </tr>\n",
       "    <tr>\n",
       "      <th>179</th>\n",
       "      <td>4123.725895</td>\n",
       "      <td>1.387170e+06</td>\n",
       "    </tr>\n",
       "    <tr>\n",
       "      <th>180</th>\n",
       "      <td>4420.815216</td>\n",
       "      <td>1.391590e+06</td>\n",
       "    </tr>\n",
       "  </tbody>\n",
       "</table>\n",
       "<p>181 rows × 2 columns</p>\n",
       "</div>"
      ],
      "text/plain": [
       "                 pay_rub  pay_rub_cumsum\n",
       "days_diff                               \n",
       "0          110062.574235    1.100626e+05\n",
       "1           58409.216673    1.684718e+05\n",
       "2           34851.998026    2.033238e+05\n",
       "3           29998.321197    2.333221e+05\n",
       "4           12337.785797    2.456599e+05\n",
       "...                  ...             ...\n",
       "176          3926.623145    1.376625e+06\n",
       "177          2516.110603    1.379141e+06\n",
       "178          3904.786055    1.383046e+06\n",
       "179          4123.725895    1.387170e+06\n",
       "180          4420.815216    1.391590e+06\n",
       "\n",
       "[181 rows x 2 columns]"
      ]
     },
     "execution_count": 85,
     "metadata": {},
     "output_type": "execute_result"
    }
   ],
   "source": [
    "ll1['pay_rub_cumsum'] = ll1['pay_rub'].cumsum()\n",
    "ll1"
   ]
  },
  {
   "cell_type": "code",
   "execution_count": 86,
   "id": "5d1925a2",
   "metadata": {},
   "outputs": [
    {
     "data": {
      "text/html": [
       "<div>\n",
       "<style scoped>\n",
       "    .dataframe tbody tr th:only-of-type {\n",
       "        vertical-align: middle;\n",
       "    }\n",
       "\n",
       "    .dataframe tbody tr th {\n",
       "        vertical-align: top;\n",
       "    }\n",
       "\n",
       "    .dataframe thead th {\n",
       "        text-align: right;\n",
       "    }\n",
       "</style>\n",
       "<table border=\"1\" class=\"dataframe\">\n",
       "  <thead>\n",
       "    <tr style=\"text-align: right;\">\n",
       "      <th></th>\n",
       "      <th>pay_rub</th>\n",
       "      <th>pay_rub_cumsum</th>\n",
       "      <th>per_user</th>\n",
       "    </tr>\n",
       "    <tr>\n",
       "      <th>days_diff</th>\n",
       "      <th></th>\n",
       "      <th></th>\n",
       "      <th></th>\n",
       "    </tr>\n",
       "  </thead>\n",
       "  <tbody>\n",
       "    <tr>\n",
       "      <th>0</th>\n",
       "      <td>110062.574235</td>\n",
       "      <td>1.100626e+05</td>\n",
       "      <td>32.342808</td>\n",
       "    </tr>\n",
       "    <tr>\n",
       "      <th>1</th>\n",
       "      <td>58409.216673</td>\n",
       "      <td>1.684718e+05</td>\n",
       "      <td>49.506844</td>\n",
       "    </tr>\n",
       "    <tr>\n",
       "      <th>2</th>\n",
       "      <td>34851.998026</td>\n",
       "      <td>2.033238e+05</td>\n",
       "      <td>59.748395</td>\n",
       "    </tr>\n",
       "    <tr>\n",
       "      <th>3</th>\n",
       "      <td>29998.321197</td>\n",
       "      <td>2.333221e+05</td>\n",
       "      <td>68.563653</td>\n",
       "    </tr>\n",
       "    <tr>\n",
       "      <th>4</th>\n",
       "      <td>12337.785797</td>\n",
       "      <td>2.456599e+05</td>\n",
       "      <td>72.189214</td>\n",
       "    </tr>\n",
       "    <tr>\n",
       "      <th>...</th>\n",
       "      <td>...</td>\n",
       "      <td>...</td>\n",
       "      <td>...</td>\n",
       "    </tr>\n",
       "    <tr>\n",
       "      <th>176</th>\n",
       "      <td>3926.623145</td>\n",
       "      <td>1.376625e+06</td>\n",
       "      <td>404.532781</td>\n",
       "    </tr>\n",
       "    <tr>\n",
       "      <th>177</th>\n",
       "      <td>2516.110603</td>\n",
       "      <td>1.379141e+06</td>\n",
       "      <td>405.272162</td>\n",
       "    </tr>\n",
       "    <tr>\n",
       "      <th>178</th>\n",
       "      <td>3904.786055</td>\n",
       "      <td>1.383046e+06</td>\n",
       "      <td>406.419616</td>\n",
       "    </tr>\n",
       "    <tr>\n",
       "      <th>179</th>\n",
       "      <td>4123.725895</td>\n",
       "      <td>1.387170e+06</td>\n",
       "      <td>407.631407</td>\n",
       "    </tr>\n",
       "    <tr>\n",
       "      <th>180</th>\n",
       "      <td>4420.815216</td>\n",
       "      <td>1.391590e+06</td>\n",
       "      <td>408.930500</td>\n",
       "    </tr>\n",
       "  </tbody>\n",
       "</table>\n",
       "<p>181 rows × 3 columns</p>\n",
       "</div>"
      ],
      "text/plain": [
       "                 pay_rub  pay_rub_cumsum    per_user\n",
       "days_diff                                           \n",
       "0          110062.574235    1.100626e+05   32.342808\n",
       "1           58409.216673    1.684718e+05   49.506844\n",
       "2           34851.998026    2.033238e+05   59.748395\n",
       "3           29998.321197    2.333221e+05   68.563653\n",
       "4           12337.785797    2.456599e+05   72.189214\n",
       "...                  ...             ...         ...\n",
       "176          3926.623145    1.376625e+06  404.532781\n",
       "177          2516.110603    1.379141e+06  405.272162\n",
       "178          3904.786055    1.383046e+06  406.419616\n",
       "179          4123.725895    1.387170e+06  407.631407\n",
       "180          4420.815216    1.391590e+06  408.930500\n",
       "\n",
       "[181 rows x 3 columns]"
      ]
     },
     "execution_count": 86,
     "metadata": {},
     "output_type": "execute_result"
    }
   ],
   "source": [
    "ll1['per_user']=ll1['pay_rub'].cumsum()/3403\n",
    "ll1"
   ]
  },
  {
   "cell_type": "code",
   "execution_count": 87,
   "id": "bb6dad56",
   "metadata": {},
   "outputs": [
    {
     "data": {
      "text/html": [
       "<div>\n",
       "<style scoped>\n",
       "    .dataframe tbody tr th:only-of-type {\n",
       "        vertical-align: middle;\n",
       "    }\n",
       "\n",
       "    .dataframe tbody tr th {\n",
       "        vertical-align: top;\n",
       "    }\n",
       "\n",
       "    .dataframe thead th {\n",
       "        text-align: right;\n",
       "    }\n",
       "</style>\n",
       "<table border=\"1\" class=\"dataframe\">\n",
       "  <thead>\n",
       "    <tr style=\"text-align: right;\">\n",
       "      <th></th>\n",
       "      <th>per_user</th>\n",
       "    </tr>\n",
       "    <tr>\n",
       "      <th>days_diff</th>\n",
       "      <th></th>\n",
       "    </tr>\n",
       "  </thead>\n",
       "  <tbody>\n",
       "    <tr>\n",
       "      <th>0</th>\n",
       "      <td>32.342808</td>\n",
       "    </tr>\n",
       "    <tr>\n",
       "      <th>1</th>\n",
       "      <td>49.506844</td>\n",
       "    </tr>\n",
       "    <tr>\n",
       "      <th>2</th>\n",
       "      <td>59.748395</td>\n",
       "    </tr>\n",
       "    <tr>\n",
       "      <th>3</th>\n",
       "      <td>68.563653</td>\n",
       "    </tr>\n",
       "    <tr>\n",
       "      <th>4</th>\n",
       "      <td>72.189214</td>\n",
       "    </tr>\n",
       "    <tr>\n",
       "      <th>...</th>\n",
       "      <td>...</td>\n",
       "    </tr>\n",
       "    <tr>\n",
       "      <th>176</th>\n",
       "      <td>404.532781</td>\n",
       "    </tr>\n",
       "    <tr>\n",
       "      <th>177</th>\n",
       "      <td>405.272162</td>\n",
       "    </tr>\n",
       "    <tr>\n",
       "      <th>178</th>\n",
       "      <td>406.419616</td>\n",
       "    </tr>\n",
       "    <tr>\n",
       "      <th>179</th>\n",
       "      <td>407.631407</td>\n",
       "    </tr>\n",
       "    <tr>\n",
       "      <th>180</th>\n",
       "      <td>408.930500</td>\n",
       "    </tr>\n",
       "  </tbody>\n",
       "</table>\n",
       "<p>181 rows × 1 columns</p>\n",
       "</div>"
      ],
      "text/plain": [
       "             per_user\n",
       "days_diff            \n",
       "0           32.342808\n",
       "1           49.506844\n",
       "2           59.748395\n",
       "3           68.563653\n",
       "4           72.189214\n",
       "...               ...\n",
       "176        404.532781\n",
       "177        405.272162\n",
       "178        406.419616\n",
       "179        407.631407\n",
       "180        408.930500\n",
       "\n",
       "[181 rows x 1 columns]"
      ]
     },
     "execution_count": 87,
     "metadata": {},
     "output_type": "execute_result"
    }
   ],
   "source": [
    "ll1.drop(['pay_rub', 'pay_rub_cumsum'], axis= 1 , inplace= True ) \n",
    "ll1"
   ]
  },
  {
   "cell_type": "code",
   "execution_count": null,
   "id": "bb66823c",
   "metadata": {},
   "outputs": [],
   "source": []
  },
  {
   "cell_type": "code",
   "execution_count": null,
   "id": "f3d75a9f",
   "metadata": {},
   "outputs": [],
   "source": []
  },
  {
   "cell_type": "code",
   "execution_count": 88,
   "id": "86f326ca",
   "metadata": {},
   "outputs": [
    {
     "data": {
      "text/html": [
       "<div>\n",
       "<style scoped>\n",
       "    .dataframe tbody tr th:only-of-type {\n",
       "        vertical-align: middle;\n",
       "    }\n",
       "\n",
       "    .dataframe tbody tr th {\n",
       "        vertical-align: top;\n",
       "    }\n",
       "\n",
       "    .dataframe thead th {\n",
       "        text-align: right;\n",
       "    }\n",
       "</style>\n",
       "<table border=\"1\" class=\"dataframe\">\n",
       "  <thead>\n",
       "    <tr style=\"text-align: right;\">\n",
       "      <th></th>\n",
       "      <th>username</th>\n",
       "      <th>lang</th>\n",
       "      <th>country</th>\n",
       "      <th>day_reg</th>\n",
       "      <th>pay_dt</th>\n",
       "      <th>pay_rub</th>\n",
       "      <th>days_diff</th>\n",
       "    </tr>\n",
       "  </thead>\n",
       "  <tbody>\n",
       "    <tr>\n",
       "      <th>27</th>\n",
       "      <td>jennifer05</td>\n",
       "      <td>lang2</td>\n",
       "      <td>country2</td>\n",
       "      <td>2022-09-28</td>\n",
       "      <td>2022-11-24</td>\n",
       "      <td>51.682773</td>\n",
       "      <td>57</td>\n",
       "    </tr>\n",
       "    <tr>\n",
       "      <th>32</th>\n",
       "      <td>laurajackson</td>\n",
       "      <td>lang2</td>\n",
       "      <td>country2</td>\n",
       "      <td>2022-11-12</td>\n",
       "      <td>2022-11-12</td>\n",
       "      <td>304.738705</td>\n",
       "      <td>0</td>\n",
       "    </tr>\n",
       "    <tr>\n",
       "      <th>33</th>\n",
       "      <td>laurajackson</td>\n",
       "      <td>lang2</td>\n",
       "      <td>country2</td>\n",
       "      <td>2022-11-12</td>\n",
       "      <td>2022-11-20</td>\n",
       "      <td>101.851107</td>\n",
       "      <td>8</td>\n",
       "    </tr>\n",
       "    <tr>\n",
       "      <th>34</th>\n",
       "      <td>laurajackson</td>\n",
       "      <td>lang2</td>\n",
       "      <td>country2</td>\n",
       "      <td>2022-11-12</td>\n",
       "      <td>2022-12-07</td>\n",
       "      <td>318.288372</td>\n",
       "      <td>25</td>\n",
       "    </tr>\n",
       "    <tr>\n",
       "      <th>35</th>\n",
       "      <td>laurajackson</td>\n",
       "      <td>lang2</td>\n",
       "      <td>country2</td>\n",
       "      <td>2022-11-12</td>\n",
       "      <td>2022-12-11</td>\n",
       "      <td>105.312111</td>\n",
       "      <td>29</td>\n",
       "    </tr>\n",
       "    <tr>\n",
       "      <th>...</th>\n",
       "      <td>...</td>\n",
       "      <td>...</td>\n",
       "      <td>...</td>\n",
       "      <td>...</td>\n",
       "      <td>...</td>\n",
       "      <td>...</td>\n",
       "      <td>...</td>\n",
       "    </tr>\n",
       "    <tr>\n",
       "      <th>8836</th>\n",
       "      <td>benjaminburnett</td>\n",
       "      <td>lang2</td>\n",
       "      <td>country2</td>\n",
       "      <td>2022-09-30</td>\n",
       "      <td>2022-10-18</td>\n",
       "      <td>94.905640</td>\n",
       "      <td>18</td>\n",
       "    </tr>\n",
       "    <tr>\n",
       "      <th>8837</th>\n",
       "      <td>ndaniel</td>\n",
       "      <td>lang2</td>\n",
       "      <td>country2</td>\n",
       "      <td>2022-10-13</td>\n",
       "      <td>2022-12-16</td>\n",
       "      <td>87.334297</td>\n",
       "      <td>64</td>\n",
       "    </tr>\n",
       "    <tr>\n",
       "      <th>8840</th>\n",
       "      <td>sullivanshelly</td>\n",
       "      <td>lang2</td>\n",
       "      <td>country2</td>\n",
       "      <td>2022-08-17</td>\n",
       "      <td>2023-01-01</td>\n",
       "      <td>488.451735</td>\n",
       "      <td>137</td>\n",
       "    </tr>\n",
       "    <tr>\n",
       "      <th>8841</th>\n",
       "      <td>carmenoneal</td>\n",
       "      <td>lang2</td>\n",
       "      <td>country2</td>\n",
       "      <td>2022-09-23</td>\n",
       "      <td>2022-09-26</td>\n",
       "      <td>202.027406</td>\n",
       "      <td>3</td>\n",
       "    </tr>\n",
       "    <tr>\n",
       "      <th>8846</th>\n",
       "      <td>jesse55</td>\n",
       "      <td>lang2</td>\n",
       "      <td>country2</td>\n",
       "      <td>2022-11-26</td>\n",
       "      <td>2023-02-08</td>\n",
       "      <td>122.913243</td>\n",
       "      <td>74</td>\n",
       "    </tr>\n",
       "  </tbody>\n",
       "</table>\n",
       "<p>3241 rows × 7 columns</p>\n",
       "</div>"
      ],
      "text/plain": [
       "             username   lang   country    day_reg     pay_dt     pay_rub  \\\n",
       "27         jennifer05  lang2  country2 2022-09-28 2022-11-24   51.682773   \n",
       "32       laurajackson  lang2  country2 2022-11-12 2022-11-12  304.738705   \n",
       "33       laurajackson  lang2  country2 2022-11-12 2022-11-20  101.851107   \n",
       "34       laurajackson  lang2  country2 2022-11-12 2022-12-07  318.288372   \n",
       "35       laurajackson  lang2  country2 2022-11-12 2022-12-11  105.312111   \n",
       "...               ...    ...       ...        ...        ...         ...   \n",
       "8836  benjaminburnett  lang2  country2 2022-09-30 2022-10-18   94.905640   \n",
       "8837          ndaniel  lang2  country2 2022-10-13 2022-12-16   87.334297   \n",
       "8840   sullivanshelly  lang2  country2 2022-08-17 2023-01-01  488.451735   \n",
       "8841      carmenoneal  lang2  country2 2022-09-23 2022-09-26  202.027406   \n",
       "8846          jesse55  lang2  country2 2022-11-26 2023-02-08  122.913243   \n",
       "\n",
       "      days_diff  \n",
       "27           57  \n",
       "32            0  \n",
       "33            8  \n",
       "34           25  \n",
       "35           29  \n",
       "...         ...  \n",
       "8836         18  \n",
       "8837         64  \n",
       "8840        137  \n",
       "8841          3  \n",
       "8846         74  \n",
       "\n",
       "[3241 rows x 7 columns]"
      ]
     },
     "execution_count": 88,
     "metadata": {},
     "output_type": "execute_result"
    }
   ],
   "source": [
    "lang_ltv2"
   ]
  },
  {
   "cell_type": "code",
   "execution_count": 89,
   "id": "09d2929d",
   "metadata": {},
   "outputs": [
    {
     "name": "stderr",
     "output_type": "stream",
     "text": [
      "C:\\Users\\Professional\\AppData\\Local\\Temp\\ipykernel_4696\\699722246.py:1: FutureWarning: The default value of numeric_only in DataFrameGroupBy.sum is deprecated. In a future version, numeric_only will default to False. Either specify numeric_only or select only columns which should be valid for the function.\n",
      "  ll2=lang_ltv2.groupby(['days_diff']).sum()\n"
     ]
    },
    {
     "data": {
      "text/html": [
       "<div>\n",
       "<style scoped>\n",
       "    .dataframe tbody tr th:only-of-type {\n",
       "        vertical-align: middle;\n",
       "    }\n",
       "\n",
       "    .dataframe tbody tr th {\n",
       "        vertical-align: top;\n",
       "    }\n",
       "\n",
       "    .dataframe thead th {\n",
       "        text-align: right;\n",
       "    }\n",
       "</style>\n",
       "<table border=\"1\" class=\"dataframe\">\n",
       "  <thead>\n",
       "    <tr style=\"text-align: right;\">\n",
       "      <th></th>\n",
       "      <th>pay_rub</th>\n",
       "    </tr>\n",
       "    <tr>\n",
       "      <th>days_diff</th>\n",
       "      <th></th>\n",
       "    </tr>\n",
       "  </thead>\n",
       "  <tbody>\n",
       "    <tr>\n",
       "      <th>0</th>\n",
       "      <td>178063.325978</td>\n",
       "    </tr>\n",
       "    <tr>\n",
       "      <th>1</th>\n",
       "      <td>50642.052218</td>\n",
       "    </tr>\n",
       "    <tr>\n",
       "      <th>2</th>\n",
       "      <td>25688.747905</td>\n",
       "    </tr>\n",
       "    <tr>\n",
       "      <th>3</th>\n",
       "      <td>53031.472048</td>\n",
       "    </tr>\n",
       "    <tr>\n",
       "      <th>4</th>\n",
       "      <td>40395.779885</td>\n",
       "    </tr>\n",
       "    <tr>\n",
       "      <th>...</th>\n",
       "      <td>...</td>\n",
       "    </tr>\n",
       "    <tr>\n",
       "      <th>176</th>\n",
       "      <td>13031.140578</td>\n",
       "    </tr>\n",
       "    <tr>\n",
       "      <th>177</th>\n",
       "      <td>2136.763075</td>\n",
       "    </tr>\n",
       "    <tr>\n",
       "      <th>178</th>\n",
       "      <td>9098.745856</td>\n",
       "    </tr>\n",
       "    <tr>\n",
       "      <th>179</th>\n",
       "      <td>4513.115080</td>\n",
       "    </tr>\n",
       "    <tr>\n",
       "      <th>180</th>\n",
       "      <td>10673.836260</td>\n",
       "    </tr>\n",
       "  </tbody>\n",
       "</table>\n",
       "<p>181 rows × 1 columns</p>\n",
       "</div>"
      ],
      "text/plain": [
       "                 pay_rub\n",
       "days_diff               \n",
       "0          178063.325978\n",
       "1           50642.052218\n",
       "2           25688.747905\n",
       "3           53031.472048\n",
       "4           40395.779885\n",
       "...                  ...\n",
       "176         13031.140578\n",
       "177          2136.763075\n",
       "178          9098.745856\n",
       "179          4513.115080\n",
       "180         10673.836260\n",
       "\n",
       "[181 rows x 1 columns]"
      ]
     },
     "execution_count": 89,
     "metadata": {},
     "output_type": "execute_result"
    }
   ],
   "source": [
    "ll2=lang_ltv2.groupby(['days_diff']).sum()\n",
    "ll2"
   ]
  },
  {
   "cell_type": "code",
   "execution_count": 90,
   "id": "9f8303bd",
   "metadata": {},
   "outputs": [
    {
     "data": {
      "text/html": [
       "<div>\n",
       "<style scoped>\n",
       "    .dataframe tbody tr th:only-of-type {\n",
       "        vertical-align: middle;\n",
       "    }\n",
       "\n",
       "    .dataframe tbody tr th {\n",
       "        vertical-align: top;\n",
       "    }\n",
       "\n",
       "    .dataframe thead th {\n",
       "        text-align: right;\n",
       "    }\n",
       "</style>\n",
       "<table border=\"1\" class=\"dataframe\">\n",
       "  <thead>\n",
       "    <tr style=\"text-align: right;\">\n",
       "      <th></th>\n",
       "      <th>pay_rub</th>\n",
       "      <th>pay_rub_cumsum</th>\n",
       "    </tr>\n",
       "    <tr>\n",
       "      <th>days_diff</th>\n",
       "      <th></th>\n",
       "      <th></th>\n",
       "    </tr>\n",
       "  </thead>\n",
       "  <tbody>\n",
       "    <tr>\n",
       "      <th>0</th>\n",
       "      <td>178063.325978</td>\n",
       "      <td>1.780633e+05</td>\n",
       "    </tr>\n",
       "    <tr>\n",
       "      <th>1</th>\n",
       "      <td>50642.052218</td>\n",
       "      <td>2.287054e+05</td>\n",
       "    </tr>\n",
       "    <tr>\n",
       "      <th>2</th>\n",
       "      <td>25688.747905</td>\n",
       "      <td>2.543941e+05</td>\n",
       "    </tr>\n",
       "    <tr>\n",
       "      <th>3</th>\n",
       "      <td>53031.472048</td>\n",
       "      <td>3.074256e+05</td>\n",
       "    </tr>\n",
       "    <tr>\n",
       "      <th>4</th>\n",
       "      <td>40395.779885</td>\n",
       "      <td>3.478214e+05</td>\n",
       "    </tr>\n",
       "    <tr>\n",
       "      <th>...</th>\n",
       "      <td>...</td>\n",
       "      <td>...</td>\n",
       "    </tr>\n",
       "    <tr>\n",
       "      <th>176</th>\n",
       "      <td>13031.140578</td>\n",
       "      <td>2.539385e+06</td>\n",
       "    </tr>\n",
       "    <tr>\n",
       "      <th>177</th>\n",
       "      <td>2136.763075</td>\n",
       "      <td>2.541522e+06</td>\n",
       "    </tr>\n",
       "    <tr>\n",
       "      <th>178</th>\n",
       "      <td>9098.745856</td>\n",
       "      <td>2.550621e+06</td>\n",
       "    </tr>\n",
       "    <tr>\n",
       "      <th>179</th>\n",
       "      <td>4513.115080</td>\n",
       "      <td>2.555134e+06</td>\n",
       "    </tr>\n",
       "    <tr>\n",
       "      <th>180</th>\n",
       "      <td>10673.836260</td>\n",
       "      <td>2.565808e+06</td>\n",
       "    </tr>\n",
       "  </tbody>\n",
       "</table>\n",
       "<p>181 rows × 2 columns</p>\n",
       "</div>"
      ],
      "text/plain": [
       "                 pay_rub  pay_rub_cumsum\n",
       "days_diff                               \n",
       "0          178063.325978    1.780633e+05\n",
       "1           50642.052218    2.287054e+05\n",
       "2           25688.747905    2.543941e+05\n",
       "3           53031.472048    3.074256e+05\n",
       "4           40395.779885    3.478214e+05\n",
       "...                  ...             ...\n",
       "176         13031.140578    2.539385e+06\n",
       "177          2136.763075    2.541522e+06\n",
       "178          9098.745856    2.550621e+06\n",
       "179          4513.115080    2.555134e+06\n",
       "180         10673.836260    2.565808e+06\n",
       "\n",
       "[181 rows x 2 columns]"
      ]
     },
     "execution_count": 90,
     "metadata": {},
     "output_type": "execute_result"
    }
   ],
   "source": [
    "ll2['pay_rub_cumsum'] = ll2['pay_rub'].cumsum()\n",
    "ll2"
   ]
  },
  {
   "cell_type": "code",
   "execution_count": 91,
   "id": "90dcfe14",
   "metadata": {},
   "outputs": [
    {
     "data": {
      "text/html": [
       "<div>\n",
       "<style scoped>\n",
       "    .dataframe tbody tr th:only-of-type {\n",
       "        vertical-align: middle;\n",
       "    }\n",
       "\n",
       "    .dataframe tbody tr th {\n",
       "        vertical-align: top;\n",
       "    }\n",
       "\n",
       "    .dataframe thead th {\n",
       "        text-align: right;\n",
       "    }\n",
       "</style>\n",
       "<table border=\"1\" class=\"dataframe\">\n",
       "  <thead>\n",
       "    <tr style=\"text-align: right;\">\n",
       "      <th></th>\n",
       "      <th>pay_rub</th>\n",
       "      <th>pay_rub_cumsum</th>\n",
       "      <th>per_user</th>\n",
       "    </tr>\n",
       "    <tr>\n",
       "      <th>days_diff</th>\n",
       "      <th></th>\n",
       "      <th></th>\n",
       "      <th></th>\n",
       "    </tr>\n",
       "  </thead>\n",
       "  <tbody>\n",
       "    <tr>\n",
       "      <th>0</th>\n",
       "      <td>178063.325978</td>\n",
       "      <td>1.780633e+05</td>\n",
       "      <td>53.942237</td>\n",
       "    </tr>\n",
       "    <tr>\n",
       "      <th>1</th>\n",
       "      <td>50642.052218</td>\n",
       "      <td>2.287054e+05</td>\n",
       "      <td>69.283665</td>\n",
       "    </tr>\n",
       "    <tr>\n",
       "      <th>2</th>\n",
       "      <td>25688.747905</td>\n",
       "      <td>2.543941e+05</td>\n",
       "      <td>77.065776</td>\n",
       "    </tr>\n",
       "    <tr>\n",
       "      <th>3</th>\n",
       "      <td>53031.472048</td>\n",
       "      <td>3.074256e+05</td>\n",
       "      <td>93.131051</td>\n",
       "    </tr>\n",
       "    <tr>\n",
       "      <th>4</th>\n",
       "      <td>40395.779885</td>\n",
       "      <td>3.478214e+05</td>\n",
       "      <td>105.368488</td>\n",
       "    </tr>\n",
       "    <tr>\n",
       "      <th>...</th>\n",
       "      <td>...</td>\n",
       "      <td>...</td>\n",
       "      <td>...</td>\n",
       "    </tr>\n",
       "    <tr>\n",
       "      <th>176</th>\n",
       "      <td>13031.140578</td>\n",
       "      <td>2.539385e+06</td>\n",
       "      <td>769.277600</td>\n",
       "    </tr>\n",
       "    <tr>\n",
       "      <th>177</th>\n",
       "      <td>2136.763075</td>\n",
       "      <td>2.541522e+06</td>\n",
       "      <td>769.924908</td>\n",
       "    </tr>\n",
       "    <tr>\n",
       "      <th>178</th>\n",
       "      <td>9098.745856</td>\n",
       "      <td>2.550621e+06</td>\n",
       "      <td>772.681269</td>\n",
       "    </tr>\n",
       "    <tr>\n",
       "      <th>179</th>\n",
       "      <td>4513.115080</td>\n",
       "      <td>2.555134e+06</td>\n",
       "      <td>774.048465</td>\n",
       "    </tr>\n",
       "    <tr>\n",
       "      <th>180</th>\n",
       "      <td>10673.836260</td>\n",
       "      <td>2.565808e+06</td>\n",
       "      <td>777.281981</td>\n",
       "    </tr>\n",
       "  </tbody>\n",
       "</table>\n",
       "<p>181 rows × 3 columns</p>\n",
       "</div>"
      ],
      "text/plain": [
       "                 pay_rub  pay_rub_cumsum    per_user\n",
       "days_diff                                           \n",
       "0          178063.325978    1.780633e+05   53.942237\n",
       "1           50642.052218    2.287054e+05   69.283665\n",
       "2           25688.747905    2.543941e+05   77.065776\n",
       "3           53031.472048    3.074256e+05   93.131051\n",
       "4           40395.779885    3.478214e+05  105.368488\n",
       "...                  ...             ...         ...\n",
       "176         13031.140578    2.539385e+06  769.277600\n",
       "177          2136.763075    2.541522e+06  769.924908\n",
       "178          9098.745856    2.550621e+06  772.681269\n",
       "179          4513.115080    2.555134e+06  774.048465\n",
       "180         10673.836260    2.565808e+06  777.281981\n",
       "\n",
       "[181 rows x 3 columns]"
      ]
     },
     "execution_count": 91,
     "metadata": {},
     "output_type": "execute_result"
    }
   ],
   "source": [
    "ll2['per_user']=ll2['pay_rub'].cumsum()/3301\n",
    "ll2"
   ]
  },
  {
   "cell_type": "code",
   "execution_count": 92,
   "id": "70a79827",
   "metadata": {},
   "outputs": [
    {
     "data": {
      "text/html": [
       "<div>\n",
       "<style scoped>\n",
       "    .dataframe tbody tr th:only-of-type {\n",
       "        vertical-align: middle;\n",
       "    }\n",
       "\n",
       "    .dataframe tbody tr th {\n",
       "        vertical-align: top;\n",
       "    }\n",
       "\n",
       "    .dataframe thead th {\n",
       "        text-align: right;\n",
       "    }\n",
       "</style>\n",
       "<table border=\"1\" class=\"dataframe\">\n",
       "  <thead>\n",
       "    <tr style=\"text-align: right;\">\n",
       "      <th></th>\n",
       "      <th>per_user</th>\n",
       "    </tr>\n",
       "    <tr>\n",
       "      <th>days_diff</th>\n",
       "      <th></th>\n",
       "    </tr>\n",
       "  </thead>\n",
       "  <tbody>\n",
       "    <tr>\n",
       "      <th>0</th>\n",
       "      <td>53.942237</td>\n",
       "    </tr>\n",
       "    <tr>\n",
       "      <th>1</th>\n",
       "      <td>69.283665</td>\n",
       "    </tr>\n",
       "    <tr>\n",
       "      <th>2</th>\n",
       "      <td>77.065776</td>\n",
       "    </tr>\n",
       "    <tr>\n",
       "      <th>3</th>\n",
       "      <td>93.131051</td>\n",
       "    </tr>\n",
       "    <tr>\n",
       "      <th>4</th>\n",
       "      <td>105.368488</td>\n",
       "    </tr>\n",
       "    <tr>\n",
       "      <th>...</th>\n",
       "      <td>...</td>\n",
       "    </tr>\n",
       "    <tr>\n",
       "      <th>176</th>\n",
       "      <td>769.277600</td>\n",
       "    </tr>\n",
       "    <tr>\n",
       "      <th>177</th>\n",
       "      <td>769.924908</td>\n",
       "    </tr>\n",
       "    <tr>\n",
       "      <th>178</th>\n",
       "      <td>772.681269</td>\n",
       "    </tr>\n",
       "    <tr>\n",
       "      <th>179</th>\n",
       "      <td>774.048465</td>\n",
       "    </tr>\n",
       "    <tr>\n",
       "      <th>180</th>\n",
       "      <td>777.281981</td>\n",
       "    </tr>\n",
       "  </tbody>\n",
       "</table>\n",
       "<p>181 rows × 1 columns</p>\n",
       "</div>"
      ],
      "text/plain": [
       "             per_user\n",
       "days_diff            \n",
       "0           53.942237\n",
       "1           69.283665\n",
       "2           77.065776\n",
       "3           93.131051\n",
       "4          105.368488\n",
       "...               ...\n",
       "176        769.277600\n",
       "177        769.924908\n",
       "178        772.681269\n",
       "179        774.048465\n",
       "180        777.281981\n",
       "\n",
       "[181 rows x 1 columns]"
      ]
     },
     "execution_count": 92,
     "metadata": {},
     "output_type": "execute_result"
    }
   ],
   "source": [
    "ll2.drop(['pay_rub', 'pay_rub_cumsum'], axis= 1 , inplace= True ) \n",
    "ll2"
   ]
  },
  {
   "cell_type": "code",
   "execution_count": null,
   "id": "de79a03f",
   "metadata": {},
   "outputs": [],
   "source": []
  },
  {
   "cell_type": "code",
   "execution_count": 93,
   "id": "94d1c848",
   "metadata": {},
   "outputs": [
    {
     "data": {
      "application/javascript": [
       "\n",
       "        if (window._pyforest_update_imports_cell) { window._pyforest_update_imports_cell('import matplotlib.pyplot as plt'); }\n",
       "    "
      ],
      "text/plain": [
       "<IPython.core.display.Javascript object>"
      ]
     },
     "metadata": {},
     "output_type": "display_data"
    },
    {
     "data": {
      "application/javascript": [
       "\n",
       "        if (window._pyforest_update_imports_cell) { window._pyforest_update_imports_cell('import matplotlib.pyplot as plt'); }\n",
       "    "
      ],
      "text/plain": [
       "<IPython.core.display.Javascript object>"
      ]
     },
     "metadata": {},
     "output_type": "display_data"
    },
    {
     "data": {
      "application/javascript": [
       "\n",
       "        if (window._pyforest_update_imports_cell) { window._pyforest_update_imports_cell('import matplotlib.pyplot as plt'); }\n",
       "    "
      ],
      "text/plain": [
       "<IPython.core.display.Javascript object>"
      ]
     },
     "metadata": {},
     "output_type": "display_data"
    },
    {
     "data": {
      "application/javascript": [
       "\n",
       "        if (window._pyforest_update_imports_cell) { window._pyforest_update_imports_cell('import matplotlib.pyplot as plt'); }\n",
       "    "
      ],
      "text/plain": [
       "<IPython.core.display.Javascript object>"
      ]
     },
     "metadata": {},
     "output_type": "display_data"
    },
    {
     "data": {
      "application/javascript": [
       "\n",
       "        if (window._pyforest_update_imports_cell) { window._pyforest_update_imports_cell('import matplotlib.pyplot as plt'); }\n",
       "    "
      ],
      "text/plain": [
       "<IPython.core.display.Javascript object>"
      ]
     },
     "metadata": {},
     "output_type": "display_data"
    },
    {
     "data": {
      "application/javascript": [
       "\n",
       "        if (window._pyforest_update_imports_cell) { window._pyforest_update_imports_cell('import matplotlib.pyplot as plt'); }\n",
       "    "
      ],
      "text/plain": [
       "<IPython.core.display.Javascript object>"
      ]
     },
     "metadata": {},
     "output_type": "display_data"
    },
    {
     "data": {
      "application/javascript": [
       "\n",
       "        if (window._pyforest_update_imports_cell) { window._pyforest_update_imports_cell('import matplotlib.pyplot as plt'); }\n",
       "    "
      ],
      "text/plain": [
       "<IPython.core.display.Javascript object>"
      ]
     },
     "metadata": {},
     "output_type": "display_data"
    },
    {
     "data": {
      "image/png": "[encoded data removed]",
      "text/plain": [
       "<Figure size 640x480 with 1 Axes>"
      ]
     },
     "metadata": {},
     "output_type": "display_data"
    }
   ],
   "source": [
    "plt.plot(ll1)\n",
    "plt.plot(ll2)\n",
    "plt.title(\"180-Day LTV\")\n",
    "plt.xlabel(\"Days\")\n",
    "plt.ylabel(\"Sum per_user\")\n",
    "plt.text(s=(\" LTV 180 for lang1=408,93\".format(ll1.loc[180])),\n",
    "       x=110, y=ll1.loc[100] + .05);\n",
    "plt.text(s=(\" LTV 180 for lang2=777,28\".format(ll2.loc[60])),\n",
    "       x=110, y=ll2.loc[180] + .05);\n"
   ]
  },
  {
   "cell_type": "code",
   "execution_count": 94,
   "id": "69b13e36",
   "metadata": {},
   "outputs": [
    {
     "data": {
      "text/plain": [
       "408.930500417605"
      ]
     },
     "execution_count": 94,
     "metadata": {},
     "output_type": "execute_result"
    }
   ],
   "source": [
    "lang_ltv1['pay_rub'].sum()/l1['username'].nunique()\n"
   ]
  },
  {
   "cell_type": "code",
   "execution_count": 95,
   "id": "8246874a",
   "metadata": {},
   "outputs": [
    {
     "data": {
      "text/plain": [
       "777.2819809343168"
      ]
     },
     "execution_count": 95,
     "metadata": {},
     "output_type": "execute_result"
    }
   ],
   "source": [
    "lang_ltv2['pay_rub'].sum()/l22"
   ]
  },
  {
   "cell_type": "code",
   "execution_count": 96,
   "id": "2674408b",
   "metadata": {},
   "outputs": [
    {
     "data": {
      "text/plain": [
       "1391590.4929211098"
      ]
     },
     "execution_count": 96,
     "metadata": {},
     "output_type": "execute_result"
    }
   ],
   "source": [
    "lang_ltv1['pay_rub'].sum()"
   ]
  },
  {
   "cell_type": "code",
   "execution_count": 97,
   "id": "37d395ec",
   "metadata": {},
   "outputs": [
    {
     "data": {
      "text/plain": [
       "2565807.81906418"
      ]
     },
     "execution_count": 97,
     "metadata": {},
     "output_type": "execute_result"
    }
   ],
   "source": [
    "lang_ltv2['pay_rub'].sum()"
   ]
  },
  {
   "cell_type": "code",
   "execution_count": 98,
   "id": "fe2e452f",
   "metadata": {},
   "outputs": [
    {
     "data": {
      "text/plain": [
       "3403"
      ]
     },
     "execution_count": 98,
     "metadata": {},
     "output_type": "execute_result"
    }
   ],
   "source": [
    "l1['username'].nunique()"
   ]
  },
  {
   "cell_type": "code",
   "execution_count": 99,
   "id": "d279a86c",
   "metadata": {},
   "outputs": [
    {
     "data": {
      "text/plain": [
       "3301"
      ]
     },
     "execution_count": 99,
     "metadata": {},
     "output_type": "execute_result"
    }
   ],
   "source": [
    "l22"
   ]
  },
  {
   "cell_type": "markdown",
   "id": "f987b817",
   "metadata": {},
   "source": [
    "# TASK 5"
   ]
  },
  {
   "cell_type": "code",
   "execution_count": 100,
   "id": "8e56c6c2",
   "metadata": {},
   "outputs": [
    {
     "data": {
      "text/plain": [
       "1.9007679303464688"
      ]
     },
     "execution_count": 100,
     "metadata": {},
     "output_type": "execute_result"
    }
   ],
   "source": [
    "boost=(lang_ltv2['pay_rub'].sum()/l22)/(lang_ltv1['pay_rub'].sum()/l1['username'].nunique())\n",
    "boost"
   ]
  },
  {
   "cell_type": "markdown",
   "id": "bd0af7eb",
   "metadata": {},
   "source": [
    "# TASK 4"
   ]
  },
  {
   "cell_type": "code",
   "execution_count": 101,
   "id": "e7dbeb26",
   "metadata": {},
   "outputs": [],
   "source": [
    "merged_data1 = pd.merge(lang, roubles, on='username', how='inner')"
   ]
  },
  {
   "cell_type": "code",
   "execution_count": 102,
   "id": "c9e55f5a",
   "metadata": {},
   "outputs": [
    {
     "data": {
      "text/plain": [
       "lang\n",
       "lang1    2.298254e+06\n",
       "lang2    5.063668e+06\n",
       "Name: pay_rub, dtype: float64"
      ]
     },
     "execution_count": 102,
     "metadata": {},
     "output_type": "execute_result"
    }
   ],
   "source": [
    "total_payments_by_lang = merged_data1.groupby('lang')['pay_rub'].sum()\n",
    "total_payments_by_lang"
   ]
  },
  {
   "cell_type": "markdown",
   "id": "62be4380",
   "metadata": {},
   "source": [
    "# TASK 6"
   ]
  },
  {
   "cell_type": "code",
   "execution_count": 103,
   "id": "17f2ef0c",
   "metadata": {},
   "outputs": [
    {
     "data": {
      "text/plain": [
       "Timestamp('2023-06-24 00:00:00')"
      ]
     },
     "execution_count": 103,
     "metadata": {},
     "output_type": "execute_result"
    }
   ],
   "source": [
    "country3=installs.loc[(installs['country']=='country3')]\n",
    "country3['day_reg'].max()"
   ]
  },
  {
   "cell_type": "code",
   "execution_count": 104,
   "id": "b2862aa7",
   "metadata": {},
   "outputs": [],
   "source": [
    "country3_f=country3.loc[(country3['day_reg']<='2022-12-27')]"
   ]
  },
  {
   "cell_type": "code",
   "execution_count": 105,
   "id": "73200124",
   "metadata": {},
   "outputs": [
    {
     "data": {
      "text/plain": [
       "2844"
      ]
     },
     "execution_count": 105,
     "metadata": {},
     "output_type": "execute_result"
    }
   ],
   "source": [
    "country3_f['username'].nunique()"
   ]
  },
  {
   "cell_type": "code",
   "execution_count": 106,
   "id": "d877fb50",
   "metadata": {},
   "outputs": [
    {
     "name": "stdout",
     "output_type": "stream",
     "text": [
      "<class 'pandas.core.frame.DataFrame'>\n",
      "Int64Index: 3791 entries, 0 to 3790\n",
      "Data columns (total 6 columns):\n",
      " #   Column    Non-Null Count  Dtype         \n",
      "---  ------    --------------  -----         \n",
      " 0   username  3791 non-null   object        \n",
      " 1   lang      3791 non-null   object        \n",
      " 2   country   3791 non-null   object        \n",
      " 3   day_reg   3791 non-null   datetime64[ns]\n",
      " 4   pay_dt    3791 non-null   object        \n",
      " 5   pay_rub   3791 non-null   float64       \n",
      "dtypes: datetime64[ns](1), float64(1), object(4)\n",
      "memory usage: 207.3+ KB\n"
     ]
    }
   ],
   "source": [
    "ltv3_180= country3_f.merge(roubles, on='username', how='inner')\n",
    "ltv3_180.info()"
   ]
  },
  {
   "cell_type": "code",
   "execution_count": 107,
   "id": "e4ea8c72",
   "metadata": {},
   "outputs": [],
   "source": [
    "ltv3_180['pay_dt'] = pd.to_datetime(ltv3_180['pay_dt'])"
   ]
  },
  {
   "cell_type": "code",
   "execution_count": 108,
   "id": "394fc844",
   "metadata": {},
   "outputs": [
    {
     "data": {
      "text/html": [
       "<div>\n",
       "<style scoped>\n",
       "    .dataframe tbody tr th:only-of-type {\n",
       "        vertical-align: middle;\n",
       "    }\n",
       "\n",
       "    .dataframe tbody tr th {\n",
       "        vertical-align: top;\n",
       "    }\n",
       "\n",
       "    .dataframe thead th {\n",
       "        text-align: right;\n",
       "    }\n",
       "</style>\n",
       "<table border=\"1\" class=\"dataframe\">\n",
       "  <thead>\n",
       "    <tr style=\"text-align: right;\">\n",
       "      <th></th>\n",
       "      <th>username</th>\n",
       "      <th>lang</th>\n",
       "      <th>country</th>\n",
       "      <th>day_reg</th>\n",
       "      <th>pay_dt</th>\n",
       "      <th>pay_rub</th>\n",
       "      <th>diff_days</th>\n",
       "    </tr>\n",
       "  </thead>\n",
       "  <tbody>\n",
       "    <tr>\n",
       "      <th>0</th>\n",
       "      <td>burnselizabeth</td>\n",
       "      <td>lang1</td>\n",
       "      <td>country3</td>\n",
       "      <td>2022-11-22</td>\n",
       "      <td>2022-12-01</td>\n",
       "      <td>30.0</td>\n",
       "      <td>9</td>\n",
       "    </tr>\n",
       "    <tr>\n",
       "      <th>1</th>\n",
       "      <td>burnselizabeth</td>\n",
       "      <td>lang1</td>\n",
       "      <td>country3</td>\n",
       "      <td>2022-11-22</td>\n",
       "      <td>2022-12-05</td>\n",
       "      <td>97.0</td>\n",
       "      <td>13</td>\n",
       "    </tr>\n",
       "    <tr>\n",
       "      <th>2</th>\n",
       "      <td>burnselizabeth</td>\n",
       "      <td>lang1</td>\n",
       "      <td>country3</td>\n",
       "      <td>2022-11-22</td>\n",
       "      <td>2022-12-08</td>\n",
       "      <td>25.0</td>\n",
       "      <td>16</td>\n",
       "    </tr>\n",
       "    <tr>\n",
       "      <th>3</th>\n",
       "      <td>burnselizabeth</td>\n",
       "      <td>lang1</td>\n",
       "      <td>country3</td>\n",
       "      <td>2022-11-22</td>\n",
       "      <td>2023-01-06</td>\n",
       "      <td>97.0</td>\n",
       "      <td>45</td>\n",
       "    </tr>\n",
       "    <tr>\n",
       "      <th>4</th>\n",
       "      <td>burnselizabeth</td>\n",
       "      <td>lang1</td>\n",
       "      <td>country3</td>\n",
       "      <td>2022-11-22</td>\n",
       "      <td>2023-01-27</td>\n",
       "      <td>200.0</td>\n",
       "      <td>66</td>\n",
       "    </tr>\n",
       "    <tr>\n",
       "      <th>...</th>\n",
       "      <td>...</td>\n",
       "      <td>...</td>\n",
       "      <td>...</td>\n",
       "      <td>...</td>\n",
       "      <td>...</td>\n",
       "      <td>...</td>\n",
       "      <td>...</td>\n",
       "    </tr>\n",
       "    <tr>\n",
       "      <th>3786</th>\n",
       "      <td>campbelljulia</td>\n",
       "      <td>lang1</td>\n",
       "      <td>country3</td>\n",
       "      <td>2022-07-22</td>\n",
       "      <td>2023-06-01</td>\n",
       "      <td>530.0</td>\n",
       "      <td>314</td>\n",
       "    </tr>\n",
       "    <tr>\n",
       "      <th>3787</th>\n",
       "      <td>ronnie36</td>\n",
       "      <td>lang1</td>\n",
       "      <td>country3</td>\n",
       "      <td>2022-09-25</td>\n",
       "      <td>2022-09-26</td>\n",
       "      <td>1000.0</td>\n",
       "      <td>1</td>\n",
       "    </tr>\n",
       "    <tr>\n",
       "      <th>3788</th>\n",
       "      <td>gonzalesmichelle</td>\n",
       "      <td>lang1</td>\n",
       "      <td>country3</td>\n",
       "      <td>2022-06-16</td>\n",
       "      <td>2022-06-16</td>\n",
       "      <td>1000.0</td>\n",
       "      <td>0</td>\n",
       "    </tr>\n",
       "    <tr>\n",
       "      <th>3789</th>\n",
       "      <td>smithjeremy</td>\n",
       "      <td>lang1</td>\n",
       "      <td>country3</td>\n",
       "      <td>2022-07-29</td>\n",
       "      <td>2022-07-29</td>\n",
       "      <td>250.0</td>\n",
       "      <td>0</td>\n",
       "    </tr>\n",
       "    <tr>\n",
       "      <th>3790</th>\n",
       "      <td>paulabowen</td>\n",
       "      <td>lang1</td>\n",
       "      <td>country3</td>\n",
       "      <td>2022-05-31</td>\n",
       "      <td>2022-06-04</td>\n",
       "      <td>475.0</td>\n",
       "      <td>4</td>\n",
       "    </tr>\n",
       "  </tbody>\n",
       "</table>\n",
       "<p>3791 rows × 7 columns</p>\n",
       "</div>"
      ],
      "text/plain": [
       "              username   lang   country    day_reg     pay_dt  pay_rub  \\\n",
       "0       burnselizabeth  lang1  country3 2022-11-22 2022-12-01     30.0   \n",
       "1       burnselizabeth  lang1  country3 2022-11-22 2022-12-05     97.0   \n",
       "2       burnselizabeth  lang1  country3 2022-11-22 2022-12-08     25.0   \n",
       "3       burnselizabeth  lang1  country3 2022-11-22 2023-01-06     97.0   \n",
       "4       burnselizabeth  lang1  country3 2022-11-22 2023-01-27    200.0   \n",
       "...                ...    ...       ...        ...        ...      ...   \n",
       "3786     campbelljulia  lang1  country3 2022-07-22 2023-06-01    530.0   \n",
       "3787          ronnie36  lang1  country3 2022-09-25 2022-09-26   1000.0   \n",
       "3788  gonzalesmichelle  lang1  country3 2022-06-16 2022-06-16   1000.0   \n",
       "3789       smithjeremy  lang1  country3 2022-07-29 2022-07-29    250.0   \n",
       "3790        paulabowen  lang1  country3 2022-05-31 2022-06-04    475.0   \n",
       "\n",
       "      diff_days  \n",
       "0             9  \n",
       "1            13  \n",
       "2            16  \n",
       "3            45  \n",
       "4            66  \n",
       "...         ...  \n",
       "3786        314  \n",
       "3787          1  \n",
       "3788          0  \n",
       "3789          0  \n",
       "3790          4  \n",
       "\n",
       "[3791 rows x 7 columns]"
      ]
     },
     "execution_count": 108,
     "metadata": {},
     "output_type": "execute_result"
    }
   ],
   "source": [
    "ltv3_180['diff_days'] = (ltv3_180['pay_dt'] - ltv3_180['day_reg']).dt.days\n",
    "ltv3_180"
   ]
  },
  {
   "cell_type": "code",
   "execution_count": 109,
   "id": "8d50e40c",
   "metadata": {},
   "outputs": [
    {
     "data": {
      "text/html": [
       "<div>\n",
       "<style scoped>\n",
       "    .dataframe tbody tr th:only-of-type {\n",
       "        vertical-align: middle;\n",
       "    }\n",
       "\n",
       "    .dataframe tbody tr th {\n",
       "        vertical-align: top;\n",
       "    }\n",
       "\n",
       "    .dataframe thead th {\n",
       "        text-align: right;\n",
       "    }\n",
       "</style>\n",
       "<table border=\"1\" class=\"dataframe\">\n",
       "  <thead>\n",
       "    <tr style=\"text-align: right;\">\n",
       "      <th></th>\n",
       "      <th>username</th>\n",
       "      <th>lang</th>\n",
       "      <th>country</th>\n",
       "      <th>day_reg</th>\n",
       "      <th>pay_dt</th>\n",
       "      <th>pay_rub</th>\n",
       "      <th>diff_days</th>\n",
       "    </tr>\n",
       "  </thead>\n",
       "  <tbody>\n",
       "    <tr>\n",
       "      <th>0</th>\n",
       "      <td>burnselizabeth</td>\n",
       "      <td>lang1</td>\n",
       "      <td>country3</td>\n",
       "      <td>2022-11-22</td>\n",
       "      <td>2022-12-01</td>\n",
       "      <td>30.0</td>\n",
       "      <td>9</td>\n",
       "    </tr>\n",
       "    <tr>\n",
       "      <th>1</th>\n",
       "      <td>burnselizabeth</td>\n",
       "      <td>lang1</td>\n",
       "      <td>country3</td>\n",
       "      <td>2022-11-22</td>\n",
       "      <td>2022-12-05</td>\n",
       "      <td>97.0</td>\n",
       "      <td>13</td>\n",
       "    </tr>\n",
       "    <tr>\n",
       "      <th>2</th>\n",
       "      <td>burnselizabeth</td>\n",
       "      <td>lang1</td>\n",
       "      <td>country3</td>\n",
       "      <td>2022-11-22</td>\n",
       "      <td>2022-12-08</td>\n",
       "      <td>25.0</td>\n",
       "      <td>16</td>\n",
       "    </tr>\n",
       "    <tr>\n",
       "      <th>3</th>\n",
       "      <td>burnselizabeth</td>\n",
       "      <td>lang1</td>\n",
       "      <td>country3</td>\n",
       "      <td>2022-11-22</td>\n",
       "      <td>2023-01-06</td>\n",
       "      <td>97.0</td>\n",
       "      <td>45</td>\n",
       "    </tr>\n",
       "    <tr>\n",
       "      <th>4</th>\n",
       "      <td>burnselizabeth</td>\n",
       "      <td>lang1</td>\n",
       "      <td>country3</td>\n",
       "      <td>2022-11-22</td>\n",
       "      <td>2023-01-27</td>\n",
       "      <td>200.0</td>\n",
       "      <td>66</td>\n",
       "    </tr>\n",
       "    <tr>\n",
       "      <th>...</th>\n",
       "      <td>...</td>\n",
       "      <td>...</td>\n",
       "      <td>...</td>\n",
       "      <td>...</td>\n",
       "      <td>...</td>\n",
       "      <td>...</td>\n",
       "      <td>...</td>\n",
       "    </tr>\n",
       "    <tr>\n",
       "      <th>3785</th>\n",
       "      <td>spencerpaul</td>\n",
       "      <td>lang1</td>\n",
       "      <td>country3</td>\n",
       "      <td>2022-09-15</td>\n",
       "      <td>2022-10-21</td>\n",
       "      <td>550.0</td>\n",
       "      <td>36</td>\n",
       "    </tr>\n",
       "    <tr>\n",
       "      <th>3787</th>\n",
       "      <td>ronnie36</td>\n",
       "      <td>lang1</td>\n",
       "      <td>country3</td>\n",
       "      <td>2022-09-25</td>\n",
       "      <td>2022-09-26</td>\n",
       "      <td>1000.0</td>\n",
       "      <td>1</td>\n",
       "    </tr>\n",
       "    <tr>\n",
       "      <th>3788</th>\n",
       "      <td>gonzalesmichelle</td>\n",
       "      <td>lang1</td>\n",
       "      <td>country3</td>\n",
       "      <td>2022-06-16</td>\n",
       "      <td>2022-06-16</td>\n",
       "      <td>1000.0</td>\n",
       "      <td>0</td>\n",
       "    </tr>\n",
       "    <tr>\n",
       "      <th>3789</th>\n",
       "      <td>smithjeremy</td>\n",
       "      <td>lang1</td>\n",
       "      <td>country3</td>\n",
       "      <td>2022-07-29</td>\n",
       "      <td>2022-07-29</td>\n",
       "      <td>250.0</td>\n",
       "      <td>0</td>\n",
       "    </tr>\n",
       "    <tr>\n",
       "      <th>3790</th>\n",
       "      <td>paulabowen</td>\n",
       "      <td>lang1</td>\n",
       "      <td>country3</td>\n",
       "      <td>2022-05-31</td>\n",
       "      <td>2022-06-04</td>\n",
       "      <td>475.0</td>\n",
       "      <td>4</td>\n",
       "    </tr>\n",
       "  </tbody>\n",
       "</table>\n",
       "<p>2682 rows × 7 columns</p>\n",
       "</div>"
      ],
      "text/plain": [
       "              username   lang   country    day_reg     pay_dt  pay_rub  \\\n",
       "0       burnselizabeth  lang1  country3 2022-11-22 2022-12-01     30.0   \n",
       "1       burnselizabeth  lang1  country3 2022-11-22 2022-12-05     97.0   \n",
       "2       burnselizabeth  lang1  country3 2022-11-22 2022-12-08     25.0   \n",
       "3       burnselizabeth  lang1  country3 2022-11-22 2023-01-06     97.0   \n",
       "4       burnselizabeth  lang1  country3 2022-11-22 2023-01-27    200.0   \n",
       "...                ...    ...       ...        ...        ...      ...   \n",
       "3785       spencerpaul  lang1  country3 2022-09-15 2022-10-21    550.0   \n",
       "3787          ronnie36  lang1  country3 2022-09-25 2022-09-26   1000.0   \n",
       "3788  gonzalesmichelle  lang1  country3 2022-06-16 2022-06-16   1000.0   \n",
       "3789       smithjeremy  lang1  country3 2022-07-29 2022-07-29    250.0   \n",
       "3790        paulabowen  lang1  country3 2022-05-31 2022-06-04    475.0   \n",
       "\n",
       "      diff_days  \n",
       "0             9  \n",
       "1            13  \n",
       "2            16  \n",
       "3            45  \n",
       "4            66  \n",
       "...         ...  \n",
       "3785         36  \n",
       "3787          1  \n",
       "3788          0  \n",
       "3789          0  \n",
       "3790          4  \n",
       "\n",
       "[2682 rows x 7 columns]"
      ]
     },
     "execution_count": 109,
     "metadata": {},
     "output_type": "execute_result"
    }
   ],
   "source": [
    "ltv3_180 = ltv3_180.loc[(ltv3_180['diff_days']<=180)]\n",
    "ltv3_180"
   ]
  },
  {
   "cell_type": "code",
   "execution_count": 110,
   "id": "fd6a5bfd",
   "metadata": {},
   "outputs": [
    {
     "data": {
      "text/html": [
       "<div>\n",
       "<style scoped>\n",
       "    .dataframe tbody tr th:only-of-type {\n",
       "        vertical-align: middle;\n",
       "    }\n",
       "\n",
       "    .dataframe tbody tr th {\n",
       "        vertical-align: top;\n",
       "    }\n",
       "\n",
       "    .dataframe thead th {\n",
       "        text-align: right;\n",
       "    }\n",
       "</style>\n",
       "<table border=\"1\" class=\"dataframe\">\n",
       "  <thead>\n",
       "    <tr style=\"text-align: right;\">\n",
       "      <th></th>\n",
       "      <th>username</th>\n",
       "      <th>lang</th>\n",
       "      <th>country</th>\n",
       "      <th>day_reg</th>\n",
       "      <th>pay_dt</th>\n",
       "      <th>pay_rub</th>\n",
       "    </tr>\n",
       "    <tr>\n",
       "      <th>diff_days</th>\n",
       "      <th></th>\n",
       "      <th></th>\n",
       "      <th></th>\n",
       "      <th></th>\n",
       "      <th></th>\n",
       "      <th></th>\n",
       "    </tr>\n",
       "  </thead>\n",
       "  <tbody>\n",
       "    <tr>\n",
       "      <th>0</th>\n",
       "      <td>96</td>\n",
       "      <td>96</td>\n",
       "      <td>96</td>\n",
       "      <td>96</td>\n",
       "      <td>96</td>\n",
       "      <td>96</td>\n",
       "    </tr>\n",
       "    <tr>\n",
       "      <th>1</th>\n",
       "      <td>74</td>\n",
       "      <td>74</td>\n",
       "      <td>74</td>\n",
       "      <td>74</td>\n",
       "      <td>74</td>\n",
       "      <td>74</td>\n",
       "    </tr>\n",
       "    <tr>\n",
       "      <th>2</th>\n",
       "      <td>47</td>\n",
       "      <td>47</td>\n",
       "      <td>47</td>\n",
       "      <td>47</td>\n",
       "      <td>47</td>\n",
       "      <td>47</td>\n",
       "    </tr>\n",
       "    <tr>\n",
       "      <th>3</th>\n",
       "      <td>55</td>\n",
       "      <td>55</td>\n",
       "      <td>55</td>\n",
       "      <td>55</td>\n",
       "      <td>55</td>\n",
       "      <td>55</td>\n",
       "    </tr>\n",
       "    <tr>\n",
       "      <th>4</th>\n",
       "      <td>30</td>\n",
       "      <td>30</td>\n",
       "      <td>30</td>\n",
       "      <td>30</td>\n",
       "      <td>30</td>\n",
       "      <td>30</td>\n",
       "    </tr>\n",
       "    <tr>\n",
       "      <th>...</th>\n",
       "      <td>...</td>\n",
       "      <td>...</td>\n",
       "      <td>...</td>\n",
       "      <td>...</td>\n",
       "      <td>...</td>\n",
       "      <td>...</td>\n",
       "    </tr>\n",
       "    <tr>\n",
       "      <th>176</th>\n",
       "      <td>8</td>\n",
       "      <td>8</td>\n",
       "      <td>8</td>\n",
       "      <td>8</td>\n",
       "      <td>8</td>\n",
       "      <td>8</td>\n",
       "    </tr>\n",
       "    <tr>\n",
       "      <th>177</th>\n",
       "      <td>5</td>\n",
       "      <td>5</td>\n",
       "      <td>5</td>\n",
       "      <td>5</td>\n",
       "      <td>5</td>\n",
       "      <td>5</td>\n",
       "    </tr>\n",
       "    <tr>\n",
       "      <th>178</th>\n",
       "      <td>7</td>\n",
       "      <td>7</td>\n",
       "      <td>7</td>\n",
       "      <td>7</td>\n",
       "      <td>7</td>\n",
       "      <td>7</td>\n",
       "    </tr>\n",
       "    <tr>\n",
       "      <th>179</th>\n",
       "      <td>12</td>\n",
       "      <td>12</td>\n",
       "      <td>12</td>\n",
       "      <td>12</td>\n",
       "      <td>12</td>\n",
       "      <td>12</td>\n",
       "    </tr>\n",
       "    <tr>\n",
       "      <th>180</th>\n",
       "      <td>15</td>\n",
       "      <td>15</td>\n",
       "      <td>15</td>\n",
       "      <td>15</td>\n",
       "      <td>15</td>\n",
       "      <td>15</td>\n",
       "    </tr>\n",
       "  </tbody>\n",
       "</table>\n",
       "<p>181 rows × 6 columns</p>\n",
       "</div>"
      ],
      "text/plain": [
       "           username  lang  country  day_reg  pay_dt  pay_rub\n",
       "diff_days                                                   \n",
       "0                96    96       96       96      96       96\n",
       "1                74    74       74       74      74       74\n",
       "2                47    47       47       47      47       47\n",
       "3                55    55       55       55      55       55\n",
       "4                30    30       30       30      30       30\n",
       "...             ...   ...      ...      ...     ...      ...\n",
       "176               8     8        8        8       8        8\n",
       "177               5     5        5        5       5        5\n",
       "178               7     7        7        7       7        7\n",
       "179              12    12       12       12      12       12\n",
       "180              15    15       15       15      15       15\n",
       "\n",
       "[181 rows x 6 columns]"
      ]
     },
     "execution_count": 110,
     "metadata": {},
     "output_type": "execute_result"
    }
   ],
   "source": [
    "ltv3_180.groupby(['diff_days']).count()"
   ]
  },
  {
   "cell_type": "markdown",
   "id": "40613609",
   "metadata": {},
   "source": [
    "# TASK 6 ОТВЕТ"
   ]
  },
  {
   "cell_type": "code",
   "execution_count": 111,
   "id": "98324bdc",
   "metadata": {},
   "outputs": [
    {
     "data": {
      "text/plain": [
       "378.1580344585091"
      ]
     },
     "execution_count": 111,
     "metadata": {},
     "output_type": "execute_result"
    }
   ],
   "source": [
    "base_LTV= ltv3_180['pay_rub'].sum()/country3_f['username'].nunique()\n",
    "base_LTV"
   ]
  },
  {
   "cell_type": "markdown",
   "id": "113113dd",
   "metadata": {},
   "source": [
    "# TASK 7"
   ]
  },
  {
   "cell_type": "code",
   "execution_count": 112,
   "id": "0557cc72",
   "metadata": {},
   "outputs": [],
   "source": [
    "boost=1.9"
   ]
  },
  {
   "cell_type": "code",
   "execution_count": 113,
   "id": "d3183a82",
   "metadata": {},
   "outputs": [
    {
     "data": {
      "text/plain": [
       "718.5"
      ]
     },
     "execution_count": 113,
     "metadata": {},
     "output_type": "execute_result"
    }
   ],
   "source": [
    "assumption_ltv=round(base_LTV*boost,2)\n",
    "assumption_ltv"
   ]
  },
  {
   "cell_type": "code",
   "execution_count": 114,
   "id": "8c31fcdd",
   "metadata": {},
   "outputs": [],
   "source": [
    "estimated_costs=2400000"
   ]
  },
  {
   "cell_type": "code",
   "execution_count": 115,
   "id": "18cb7cdd",
   "metadata": {},
   "outputs": [
    {
     "data": {
      "text/plain": [
       "3340"
      ]
     },
     "execution_count": 115,
     "metadata": {},
     "output_type": "execute_result"
    }
   ],
   "source": [
    "necessary_users= round(estimated_costs/assumption_ltv)\n",
    "necessary_users"
   ]
  },
  {
   "cell_type": "markdown",
   "id": "db0e34e1",
   "metadata": {},
   "source": [
    "# ДОПОЛНИТЕЛЬНОЕ ЗАДАНИЕ"
   ]
  },
  {
   "cell_type": "code",
   "execution_count": 116,
   "id": "ebb22404",
   "metadata": {},
   "outputs": [],
   "source": [
    "data=merged_data_filtered"
   ]
  },
  {
   "cell_type": "code",
   "execution_count": 117,
   "id": "c1c97e9c",
   "metadata": {},
   "outputs": [
    {
     "name": "stdout",
     "output_type": "stream",
     "text": [
      "<class 'pandas.core.frame.DataFrame'>\n",
      "Int64Index: 6363 entries, 0 to 8848\n",
      "Data columns (total 7 columns):\n",
      " #   Column     Non-Null Count  Dtype         \n",
      "---  ------     --------------  -----         \n",
      " 0   username   6363 non-null   object        \n",
      " 1   lang       6363 non-null   object        \n",
      " 2   country    6363 non-null   object        \n",
      " 3   day_reg    6363 non-null   datetime64[ns]\n",
      " 4   pay_dt     6363 non-null   datetime64[ns]\n",
      " 5   pay_rub    6363 non-null   float64       \n",
      " 6   days_diff  6363 non-null   int64         \n",
      "dtypes: datetime64[ns](2), float64(1), int64(1), object(3)\n",
      "memory usage: 397.7+ KB\n"
     ]
    }
   ],
   "source": [
    "data.info()"
   ]
  },
  {
   "cell_type": "code",
   "execution_count": 118,
   "id": "bae5a2fb",
   "metadata": {},
   "outputs": [
    {
     "data": {
      "text/html": [
       "<div>\n",
       "<style scoped>\n",
       "    .dataframe tbody tr th:only-of-type {\n",
       "        vertical-align: middle;\n",
       "    }\n",
       "\n",
       "    .dataframe tbody tr th {\n",
       "        vertical-align: top;\n",
       "    }\n",
       "\n",
       "    .dataframe thead th {\n",
       "        text-align: right;\n",
       "    }\n",
       "</style>\n",
       "<table border=\"1\" class=\"dataframe\">\n",
       "  <thead>\n",
       "    <tr style=\"text-align: right;\">\n",
       "      <th></th>\n",
       "      <th>username</th>\n",
       "      <th>lang</th>\n",
       "      <th>country</th>\n",
       "      <th>day_reg</th>\n",
       "      <th>pay_dt</th>\n",
       "      <th>pay_rub</th>\n",
       "      <th>days_diff</th>\n",
       "    </tr>\n",
       "  </thead>\n",
       "  <tbody>\n",
       "    <tr>\n",
       "      <th>0</th>\n",
       "      <td>richarddavid</td>\n",
       "      <td>lang1</td>\n",
       "      <td>country2</td>\n",
       "      <td>2022-03-26</td>\n",
       "      <td>2022-03-26</td>\n",
       "      <td>168.106481</td>\n",
       "      <td>0</td>\n",
       "    </tr>\n",
       "    <tr>\n",
       "      <th>1</th>\n",
       "      <td>richarddavid</td>\n",
       "      <td>lang1</td>\n",
       "      <td>country2</td>\n",
       "      <td>2022-03-26</td>\n",
       "      <td>2022-03-27</td>\n",
       "      <td>167.762099</td>\n",
       "      <td>1</td>\n",
       "    </tr>\n",
       "    <tr>\n",
       "      <th>2</th>\n",
       "      <td>richarddavid</td>\n",
       "      <td>lang1</td>\n",
       "      <td>country2</td>\n",
       "      <td>2022-03-26</td>\n",
       "      <td>2022-03-27</td>\n",
       "      <td>15.516344</td>\n",
       "      <td>1</td>\n",
       "    </tr>\n",
       "    <tr>\n",
       "      <th>15</th>\n",
       "      <td>erica34</td>\n",
       "      <td>lang1</td>\n",
       "      <td>country2</td>\n",
       "      <td>2022-06-11</td>\n",
       "      <td>2022-06-29</td>\n",
       "      <td>627.544999</td>\n",
       "      <td>18</td>\n",
       "    </tr>\n",
       "    <tr>\n",
       "      <th>16</th>\n",
       "      <td>erica34</td>\n",
       "      <td>lang1</td>\n",
       "      <td>country2</td>\n",
       "      <td>2022-06-11</td>\n",
       "      <td>2022-06-29</td>\n",
       "      <td>125.506881</td>\n",
       "      <td>18</td>\n",
       "    </tr>\n",
       "    <tr>\n",
       "      <th>...</th>\n",
       "      <td>...</td>\n",
       "      <td>...</td>\n",
       "      <td>...</td>\n",
       "      <td>...</td>\n",
       "      <td>...</td>\n",
       "      <td>...</td>\n",
       "      <td>...</td>\n",
       "    </tr>\n",
       "    <tr>\n",
       "      <th>8843</th>\n",
       "      <td>belldakota</td>\n",
       "      <td>lang1</td>\n",
       "      <td>country2</td>\n",
       "      <td>2022-05-10</td>\n",
       "      <td>2022-05-11</td>\n",
       "      <td>589.888901</td>\n",
       "      <td>1</td>\n",
       "    </tr>\n",
       "    <tr>\n",
       "      <th>8844</th>\n",
       "      <td>belldakota</td>\n",
       "      <td>lang1</td>\n",
       "      <td>country2</td>\n",
       "      <td>2022-05-10</td>\n",
       "      <td>2022-05-11</td>\n",
       "      <td>2949.444503</td>\n",
       "      <td>1</td>\n",
       "    </tr>\n",
       "    <tr>\n",
       "      <th>8845</th>\n",
       "      <td>belldakota</td>\n",
       "      <td>lang1</td>\n",
       "      <td>country2</td>\n",
       "      <td>2022-05-10</td>\n",
       "      <td>2022-05-11</td>\n",
       "      <td>589.888901</td>\n",
       "      <td>1</td>\n",
       "    </tr>\n",
       "    <tr>\n",
       "      <th>8846</th>\n",
       "      <td>jesse55</td>\n",
       "      <td>lang2</td>\n",
       "      <td>country2</td>\n",
       "      <td>2022-11-26</td>\n",
       "      <td>2023-02-08</td>\n",
       "      <td>122.913243</td>\n",
       "      <td>74</td>\n",
       "    </tr>\n",
       "    <tr>\n",
       "      <th>8848</th>\n",
       "      <td>kathleenhoffman</td>\n",
       "      <td>lang1</td>\n",
       "      <td>country2</td>\n",
       "      <td>2022-07-20</td>\n",
       "      <td>2022-07-23</td>\n",
       "      <td>486.928400</td>\n",
       "      <td>3</td>\n",
       "    </tr>\n",
       "  </tbody>\n",
       "</table>\n",
       "<p>6363 rows × 7 columns</p>\n",
       "</div>"
      ],
      "text/plain": [
       "             username   lang   country    day_reg     pay_dt      pay_rub  \\\n",
       "0        richarddavid  lang1  country2 2022-03-26 2022-03-26   168.106481   \n",
       "1        richarddavid  lang1  country2 2022-03-26 2022-03-27   167.762099   \n",
       "2        richarddavid  lang1  country2 2022-03-26 2022-03-27    15.516344   \n",
       "15            erica34  lang1  country2 2022-06-11 2022-06-29   627.544999   \n",
       "16            erica34  lang1  country2 2022-06-11 2022-06-29   125.506881   \n",
       "...               ...    ...       ...        ...        ...          ...   \n",
       "8843       belldakota  lang1  country2 2022-05-10 2022-05-11   589.888901   \n",
       "8844       belldakota  lang1  country2 2022-05-10 2022-05-11  2949.444503   \n",
       "8845       belldakota  lang1  country2 2022-05-10 2022-05-11   589.888901   \n",
       "8846          jesse55  lang2  country2 2022-11-26 2023-02-08   122.913243   \n",
       "8848  kathleenhoffman  lang1  country2 2022-07-20 2022-07-23   486.928400   \n",
       "\n",
       "      days_diff  \n",
       "0             0  \n",
       "1             1  \n",
       "2             1  \n",
       "15           18  \n",
       "16           18  \n",
       "...         ...  \n",
       "8843          1  \n",
       "8844          1  \n",
       "8845          1  \n",
       "8846         74  \n",
       "8848          3  \n",
       "\n",
       "[6363 rows x 7 columns]"
      ]
     },
     "execution_count": 118,
     "metadata": {},
     "output_type": "execute_result"
    }
   ],
   "source": [
    "data"
   ]
  },
  {
   "cell_type": "code",
   "execution_count": null,
   "id": "c09e6cd8",
   "metadata": {},
   "outputs": [],
   "source": []
  },
  {
   "cell_type": "code",
   "execution_count": 119,
   "id": "a5f01ffa",
   "metadata": {},
   "outputs": [
    {
     "name": "stderr",
     "output_type": "stream",
     "text": [
      "C:\\Users\\Professional\\AppData\\Local\\Temp\\ipykernel_4696\\2712598024.py:1: SettingWithCopyWarning: \n",
      "A value is trying to be set on a copy of a slice from a DataFrame\n",
      "\n",
      "See the caveats in the documentation: https://pandas.pydata.org/pandas-docs/stable/user_guide/indexing.html#returning-a-view-versus-a-copy\n",
      "  data.drop(['country', 'day_reg', 'pay_dt'], axis= 1 , inplace= True )\n"
     ]
    }
   ],
   "source": [
    "data.drop(['country', 'day_reg', 'pay_dt'], axis= 1 , inplace= True ) "
   ]
  },
  {
   "cell_type": "code",
   "execution_count": 120,
   "id": "194fa8c6",
   "metadata": {},
   "outputs": [
    {
     "data": {
      "text/html": [
       "<div>\n",
       "<style scoped>\n",
       "    .dataframe tbody tr th:only-of-type {\n",
       "        vertical-align: middle;\n",
       "    }\n",
       "\n",
       "    .dataframe tbody tr th {\n",
       "        vertical-align: top;\n",
       "    }\n",
       "\n",
       "    .dataframe thead th {\n",
       "        text-align: right;\n",
       "    }\n",
       "</style>\n",
       "<table border=\"1\" class=\"dataframe\">\n",
       "  <thead>\n",
       "    <tr style=\"text-align: right;\">\n",
       "      <th></th>\n",
       "      <th>username</th>\n",
       "      <th>lang</th>\n",
       "      <th>pay_rub</th>\n",
       "      <th>days_diff</th>\n",
       "    </tr>\n",
       "  </thead>\n",
       "  <tbody>\n",
       "    <tr>\n",
       "      <th>0</th>\n",
       "      <td>richarddavid</td>\n",
       "      <td>lang1</td>\n",
       "      <td>168.106481</td>\n",
       "      <td>0</td>\n",
       "    </tr>\n",
       "    <tr>\n",
       "      <th>1</th>\n",
       "      <td>richarddavid</td>\n",
       "      <td>lang1</td>\n",
       "      <td>167.762099</td>\n",
       "      <td>1</td>\n",
       "    </tr>\n",
       "    <tr>\n",
       "      <th>2</th>\n",
       "      <td>richarddavid</td>\n",
       "      <td>lang1</td>\n",
       "      <td>15.516344</td>\n",
       "      <td>1</td>\n",
       "    </tr>\n",
       "    <tr>\n",
       "      <th>15</th>\n",
       "      <td>erica34</td>\n",
       "      <td>lang1</td>\n",
       "      <td>627.544999</td>\n",
       "      <td>18</td>\n",
       "    </tr>\n",
       "    <tr>\n",
       "      <th>16</th>\n",
       "      <td>erica34</td>\n",
       "      <td>lang1</td>\n",
       "      <td>125.506881</td>\n",
       "      <td>18</td>\n",
       "    </tr>\n",
       "    <tr>\n",
       "      <th>...</th>\n",
       "      <td>...</td>\n",
       "      <td>...</td>\n",
       "      <td>...</td>\n",
       "      <td>...</td>\n",
       "    </tr>\n",
       "    <tr>\n",
       "      <th>8843</th>\n",
       "      <td>belldakota</td>\n",
       "      <td>lang1</td>\n",
       "      <td>589.888901</td>\n",
       "      <td>1</td>\n",
       "    </tr>\n",
       "    <tr>\n",
       "      <th>8844</th>\n",
       "      <td>belldakota</td>\n",
       "      <td>lang1</td>\n",
       "      <td>2949.444503</td>\n",
       "      <td>1</td>\n",
       "    </tr>\n",
       "    <tr>\n",
       "      <th>8845</th>\n",
       "      <td>belldakota</td>\n",
       "      <td>lang1</td>\n",
       "      <td>589.888901</td>\n",
       "      <td>1</td>\n",
       "    </tr>\n",
       "    <tr>\n",
       "      <th>8846</th>\n",
       "      <td>jesse55</td>\n",
       "      <td>lang2</td>\n",
       "      <td>122.913243</td>\n",
       "      <td>74</td>\n",
       "    </tr>\n",
       "    <tr>\n",
       "      <th>8848</th>\n",
       "      <td>kathleenhoffman</td>\n",
       "      <td>lang1</td>\n",
       "      <td>486.928400</td>\n",
       "      <td>3</td>\n",
       "    </tr>\n",
       "  </tbody>\n",
       "</table>\n",
       "<p>6363 rows × 4 columns</p>\n",
       "</div>"
      ],
      "text/plain": [
       "             username   lang      pay_rub  days_diff\n",
       "0        richarddavid  lang1   168.106481          0\n",
       "1        richarddavid  lang1   167.762099          1\n",
       "2        richarddavid  lang1    15.516344          1\n",
       "15            erica34  lang1   627.544999         18\n",
       "16            erica34  lang1   125.506881         18\n",
       "...               ...    ...          ...        ...\n",
       "8843       belldakota  lang1   589.888901          1\n",
       "8844       belldakota  lang1  2949.444503          1\n",
       "8845       belldakota  lang1   589.888901          1\n",
       "8846          jesse55  lang2   122.913243         74\n",
       "8848  kathleenhoffman  lang1   486.928400          3\n",
       "\n",
       "[6363 rows x 4 columns]"
      ]
     },
     "execution_count": 120,
     "metadata": {},
     "output_type": "execute_result"
    }
   ],
   "source": [
    "data"
   ]
  },
  {
   "cell_type": "code",
   "execution_count": 121,
   "id": "164d27c4",
   "metadata": {},
   "outputs": [],
   "source": [
    "data = data.groupby(['lang', 'username'])['pay_rub'].sum().reset_index(name='ltv180')"
   ]
  },
  {
   "cell_type": "code",
   "execution_count": 122,
   "id": "ed4e60b4",
   "metadata": {},
   "outputs": [
    {
     "data": {
      "text/html": [
       "<div>\n",
       "<style scoped>\n",
       "    .dataframe tbody tr th:only-of-type {\n",
       "        vertical-align: middle;\n",
       "    }\n",
       "\n",
       "    .dataframe tbody tr th {\n",
       "        vertical-align: top;\n",
       "    }\n",
       "\n",
       "    .dataframe thead th {\n",
       "        text-align: right;\n",
       "    }\n",
       "</style>\n",
       "<table border=\"1\" class=\"dataframe\">\n",
       "  <thead>\n",
       "    <tr style=\"text-align: right;\">\n",
       "      <th></th>\n",
       "      <th>lang</th>\n",
       "      <th>username</th>\n",
       "      <th>ltv180</th>\n",
       "    </tr>\n",
       "  </thead>\n",
       "  <tbody>\n",
       "    <tr>\n",
       "      <th>0</th>\n",
       "      <td>lang1</td>\n",
       "      <td>aaronbishop</td>\n",
       "      <td>34738.442870</td>\n",
       "    </tr>\n",
       "    <tr>\n",
       "      <th>1</th>\n",
       "      <td>lang1</td>\n",
       "      <td>acevedoshawn</td>\n",
       "      <td>262.011896</td>\n",
       "    </tr>\n",
       "    <tr>\n",
       "      <th>2</th>\n",
       "      <td>lang1</td>\n",
       "      <td>adamgibson</td>\n",
       "      <td>4897.878183</td>\n",
       "    </tr>\n",
       "    <tr>\n",
       "      <th>3</th>\n",
       "      <td>lang1</td>\n",
       "      <td>afrancis</td>\n",
       "      <td>70.721026</td>\n",
       "    </tr>\n",
       "    <tr>\n",
       "      <th>4</th>\n",
       "      <td>lang1</td>\n",
       "      <td>aguirresherry</td>\n",
       "      <td>325.520423</td>\n",
       "    </tr>\n",
       "    <tr>\n",
       "      <th>...</th>\n",
       "      <td>...</td>\n",
       "      <td>...</td>\n",
       "      <td>...</td>\n",
       "    </tr>\n",
       "    <tr>\n",
       "      <th>1352</th>\n",
       "      <td>lang2</td>\n",
       "      <td>zhammond</td>\n",
       "      <td>302.028543</td>\n",
       "    </tr>\n",
       "    <tr>\n",
       "      <th>1353</th>\n",
       "      <td>lang2</td>\n",
       "      <td>zimmermanjulie</td>\n",
       "      <td>571.739795</td>\n",
       "    </tr>\n",
       "    <tr>\n",
       "      <th>1354</th>\n",
       "      <td>lang2</td>\n",
       "      <td>zstewart</td>\n",
       "      <td>875.208355</td>\n",
       "    </tr>\n",
       "    <tr>\n",
       "      <th>1355</th>\n",
       "      <td>lang2</td>\n",
       "      <td>ztyler</td>\n",
       "      <td>102.569230</td>\n",
       "    </tr>\n",
       "    <tr>\n",
       "      <th>1356</th>\n",
       "      <td>lang2</td>\n",
       "      <td>zvazquez</td>\n",
       "      <td>4751.054726</td>\n",
       "    </tr>\n",
       "  </tbody>\n",
       "</table>\n",
       "<p>1357 rows × 3 columns</p>\n",
       "</div>"
      ],
      "text/plain": [
       "       lang        username        ltv180\n",
       "0     lang1     aaronbishop  34738.442870\n",
       "1     lang1    acevedoshawn    262.011896\n",
       "2     lang1      adamgibson   4897.878183\n",
       "3     lang1        afrancis     70.721026\n",
       "4     lang1   aguirresherry    325.520423\n",
       "...     ...             ...           ...\n",
       "1352  lang2        zhammond    302.028543\n",
       "1353  lang2  zimmermanjulie    571.739795\n",
       "1354  lang2        zstewart    875.208355\n",
       "1355  lang2          ztyler    102.569230\n",
       "1356  lang2        zvazquez   4751.054726\n",
       "\n",
       "[1357 rows x 3 columns]"
      ]
     },
     "execution_count": 122,
     "metadata": {},
     "output_type": "execute_result"
    }
   ],
   "source": [
    "data"
   ]
  },
  {
   "cell_type": "code",
   "execution_count": null,
   "id": "3c41e926",
   "metadata": {},
   "outputs": [],
   "source": []
  },
  {
   "cell_type": "code",
   "execution_count": 123,
   "id": "cc65d109",
   "metadata": {},
   "outputs": [
    {
     "data": {
      "application/javascript": [
       "\n",
       "        if (window._pyforest_update_imports_cell) { window._pyforest_update_imports_cell('import matplotlib.pyplot as plt'); }\n",
       "    "
      ],
      "text/plain": [
       "<IPython.core.display.Javascript object>"
      ]
     },
     "metadata": {},
     "output_type": "display_data"
    },
    {
     "data": {
      "application/javascript": [
       "\n",
       "        if (window._pyforest_update_imports_cell) { window._pyforest_update_imports_cell('import matplotlib.pyplot as plt'); }\n",
       "    "
      ],
      "text/plain": [
       "<IPython.core.display.Javascript object>"
      ]
     },
     "metadata": {},
     "output_type": "display_data"
    },
    {
     "data": {
      "application/javascript": [
       "\n",
       "        if (window._pyforest_update_imports_cell) { window._pyforest_update_imports_cell('import matplotlib.pyplot as plt'); }\n",
       "    "
      ],
      "text/plain": [
       "<IPython.core.display.Javascript object>"
      ]
     },
     "metadata": {},
     "output_type": "display_data"
    },
    {
     "data": {
      "image/png": "[encoded data removed]",
      "text/plain": [
       "<Figure size 640x480 with 1 Axes>"
      ]
     },
     "metadata": {},
     "output_type": "display_data"
    }
   ],
   "source": [
    "plt.boxplot(data['ltv180'])\n",
    "plt.title('ltv180')\n",
    "plt.show()"
   ]
  },
  {
   "cell_type": "code",
   "execution_count": 124,
   "id": "91c65bed",
   "metadata": {},
   "outputs": [
    {
     "data": {
      "application/javascript": [
       "\n",
       "        if (window._pyforest_update_imports_cell) { window._pyforest_update_imports_cell('import numpy as np\\nimport matplotlib.pyplot as plt'); }\n",
       "    "
      ],
      "text/plain": [
       "<IPython.core.display.Javascript object>"
      ]
     },
     "metadata": {},
     "output_type": "display_data"
    }
   ],
   "source": [
    "q3, q1 = np.percentile(data['ltv180'], [75, 25])\n",
    "iqr = q3 - q1"
   ]
  },
  {
   "cell_type": "code",
   "execution_count": 125,
   "id": "d108cfaf",
   "metadata": {},
   "outputs": [
    {
     "data": {
      "application/javascript": [
       "\n",
       "        if (window._pyforest_update_imports_cell) { window._pyforest_update_imports_cell('import numpy as np\\nimport matplotlib.pyplot as plt'); }\n",
       "    "
      ],
      "text/plain": [
       "<IPython.core.display.Javascript object>"
      ]
     },
     "metadata": {},
     "output_type": "display_data"
    },
    {
     "data": {
      "application/javascript": [
       "\n",
       "        if (window._pyforest_update_imports_cell) { window._pyforest_update_imports_cell('import numpy as np\\nimport matplotlib.pyplot as plt'); }\n",
       "    "
      ],
      "text/plain": [
       "<IPython.core.display.Javascript object>"
      ]
     },
     "metadata": {},
     "output_type": "display_data"
    }
   ],
   "source": [
    "#Находим квартили\n",
    "q1 = np.percentile(data['ltv180'], 25)  # Вычисление 25-процентного квантиля\n",
    "q3 = np.percentile(data['ltv180'], 75)  # Вычисление 75-процентного квантиля\n",
    "iqr=q3-q1\n",
    "# Определяем границы для очистки от выбросов\n",
    "lower_bound = q1 - 1.5 * iqr\n",
    "upper_bound = q3 + 1.5 * iqr"
   ]
  },
  {
   "cell_type": "code",
   "execution_count": 126,
   "id": "3e08f414",
   "metadata": {},
   "outputs": [
    {
     "name": "stdout",
     "output_type": "stream",
     "text": [
      "<class 'pandas.core.frame.DataFrame'>\n",
      "Int64Index: 1160 entries, 1 to 1355\n",
      "Data columns (total 3 columns):\n",
      " #   Column    Non-Null Count  Dtype  \n",
      "---  ------    --------------  -----  \n",
      " 0   lang      1160 non-null   object \n",
      " 1   username  1160 non-null   object \n",
      " 2   ltv180    1160 non-null   float64\n",
      "dtypes: float64(1), object(2)\n",
      "memory usage: 36.2+ KB\n"
     ]
    }
   ],
   "source": [
    "data1 = data[(data['ltv180'] >= lower_bound) & (data['ltv180'] <= upper_bound)]\n",
    "data1.info()"
   ]
  },
  {
   "cell_type": "code",
   "execution_count": 127,
   "id": "628f4046",
   "metadata": {},
   "outputs": [
    {
     "data": {
      "application/javascript": [
       "\n",
       "        if (window._pyforest_update_imports_cell) { window._pyforest_update_imports_cell('import numpy as np\\nimport matplotlib.pyplot as plt'); }\n",
       "    "
      ],
      "text/plain": [
       "<IPython.core.display.Javascript object>"
      ]
     },
     "metadata": {},
     "output_type": "display_data"
    },
    {
     "data": {
      "application/javascript": [
       "\n",
       "        if (window._pyforest_update_imports_cell) { window._pyforest_update_imports_cell('import numpy as np\\nimport matplotlib.pyplot as plt'); }\n",
       "    "
      ],
      "text/plain": [
       "<IPython.core.display.Javascript object>"
      ]
     },
     "metadata": {},
     "output_type": "display_data"
    },
    {
     "data": {
      "application/javascript": [
       "\n",
       "        if (window._pyforest_update_imports_cell) { window._pyforest_update_imports_cell('import numpy as np\\nimport matplotlib.pyplot as plt'); }\n",
       "    "
      ],
      "text/plain": [
       "<IPython.core.display.Javascript object>"
      ]
     },
     "metadata": {},
     "output_type": "display_data"
    },
    {
     "data": {
      "image/png": "[encoded data removed]",
      "text/plain": [
       "<Figure size 640x480 with 1 Axes>"
      ]
     },
     "metadata": {},
     "output_type": "display_data"
    }
   ],
   "source": [
    "# строим новый боксплот\n",
    "plt.boxplot(data1['ltv180'])\n",
    "plt.title('ltv180')\n",
    "plt.show()"
   ]
  },
  {
   "cell_type": "code",
   "execution_count": 128,
   "id": "5a12c9f9",
   "metadata": {},
   "outputs": [
    {
     "name": "stdout",
     "output_type": "stream",
     "text": [
      "      lang       username      ltv180\n",
      "1    lang1   acevedoshawn  262.011896\n",
      "3    lang1       afrancis   70.721026\n",
      "4    lang1  aguirresherry  325.520423\n",
      "5    lang1    aimeepalmer   21.859098\n",
      "6    lang1       ajimenez   75.755670\n",
      "..     ...            ...         ...\n",
      "684  lang1        zcarter  213.444530\n",
      "685  lang1        zjoseph  240.363824\n",
      "687  lang1   zoehenderson   68.749654\n",
      "688  lang1       zroberts  874.866808\n",
      "689  lang1     zwhitehead   17.695117\n",
      "\n",
      "[612 rows x 3 columns]\n",
      "      lang       username      ltv180\n",
      "1    lang1   acevedoshawn  262.011896\n",
      "3    lang1       afrancis   70.721026\n",
      "4    lang1  aguirresherry  325.520423\n",
      "5    lang1    aimeepalmer   21.859098\n",
      "6    lang1       ajimenez   75.755670\n",
      "..     ...            ...         ...\n",
      "684  lang1        zcarter  213.444530\n",
      "685  lang1        zjoseph  240.363824\n",
      "687  lang1   zoehenderson   68.749654\n",
      "688  lang1       zroberts  874.866808\n",
      "689  lang1     zwhitehead   17.695117\n",
      "\n",
      "[612 rows x 3 columns]\n"
     ]
    }
   ],
   "source": [
    "# делим датасет на 2 по языкам\n",
    "bootstrap_lang1 = data1[data1 ['lang'] == 'lang1']\n",
    "bootstrap_lang2 = data1 [data1['lang'] == 'lang2']\n",
    "print(bootstrap_lang1)\n",
    "print(bootstrap_lang1)"
   ]
  },
  {
   "cell_type": "code",
   "execution_count": 129,
   "id": "c2116bc3",
   "metadata": {},
   "outputs": [
    {
     "data": {
      "application/javascript": [
       "\n",
       "        if (window._pyforest_update_imports_cell) { window._pyforest_update_imports_cell('import numpy as np\\nimport matplotlib.pyplot as plt'); }\n",
       "    "
      ],
      "text/plain": [
       "<IPython.core.display.Javascript object>"
      ]
     },
     "metadata": {},
     "output_type": "display_data"
    },
    {
     "data": {
      "application/javascript": [
       "\n",
       "        if (window._pyforest_update_imports_cell) { window._pyforest_update_imports_cell('import numpy as np\\nimport matplotlib.pyplot as plt'); }\n",
       "    "
      ],
      "text/plain": [
       "<IPython.core.display.Javascript object>"
      ]
     },
     "metadata": {},
     "output_type": "display_data"
    },
    {
     "data": {
      "application/javascript": [
       "\n",
       "        if (window._pyforest_update_imports_cell) { window._pyforest_update_imports_cell('import numpy as np\\nimport matplotlib.pyplot as plt'); }\n",
       "    "
      ],
      "text/plain": [
       "<IPython.core.display.Javascript object>"
      ]
     },
     "metadata": {},
     "output_type": "display_data"
    },
    {
     "data": {
      "application/javascript": [
       "\n",
       "        if (window._pyforest_update_imports_cell) { window._pyforest_update_imports_cell('import numpy as np\\nimport matplotlib.pyplot as plt'); }\n",
       "    "
      ],
      "text/plain": [
       "<IPython.core.display.Javascript object>"
      ]
     },
     "metadata": {},
     "output_type": "display_data"
    },
    {
     "data": {
      "application/javascript": [
       "\n",
       "        if (window._pyforest_update_imports_cell) { window._pyforest_update_imports_cell('import numpy as np\\nimport matplotlib.pyplot as plt'); }\n",
       "    "
      ],
      "text/plain": [
       "<IPython.core.display.Javascript object>"
      ]
     },
     "metadata": {},
     "output_type": "display_data"
    },
    {
     "data": {
      "application/javascript": [
       "\n",
       "        if (window._pyforest_update_imports_cell) { window._pyforest_update_imports_cell('import numpy as np\\nimport matplotlib.pyplot as plt'); }\n",
       "    "
      ],
      "text/plain": [
       "<IPython.core.display.Javascript object>"
      ]
     },
     "metadata": {},
     "output_type": "display_data"
    },
    {
     "data": {
      "image/png": "[encoded data removed]",
      "text/plain": [
       "<Figure size 640x480 with 1 Axes>"
      ]
     },
     "metadata": {},
     "output_type": "display_data"
    }
   ],
   "source": [
    "# строим гистограмму плотности распределения значений ltv180\n",
    "plt.subplot()\n",
    "plt.hist(bootstrap_lang1['ltv180'], bins = 20, alpha=0.3, label='lang1')\n",
    "plt.hist(bootstrap_lang2['ltv180'], bins = 20, alpha=0.3, label='lang2')\n",
    "plt.title('LTV180', fontsize=10)\n",
    "plt.legend(fontsize=7)\n",
    "plt.show()"
   ]
  },
  {
   "cell_type": "code",
   "execution_count": 130,
   "id": "597f622f",
   "metadata": {},
   "outputs": [
    {
     "data": {
      "text/html": [
       "<div>\n",
       "<style scoped>\n",
       "    .dataframe tbody tr th:only-of-type {\n",
       "        vertical-align: middle;\n",
       "    }\n",
       "\n",
       "    .dataframe tbody tr th {\n",
       "        vertical-align: top;\n",
       "    }\n",
       "\n",
       "    .dataframe thead th {\n",
       "        text-align: right;\n",
       "    }\n",
       "</style>\n",
       "<table border=\"1\" class=\"dataframe\">\n",
       "  <thead>\n",
       "    <tr style=\"text-align: right;\">\n",
       "      <th>lang</th>\n",
       "      <th>lang1</th>\n",
       "      <th>lang2</th>\n",
       "    </tr>\n",
       "  </thead>\n",
       "  <tbody>\n",
       "    <tr>\n",
       "      <th>ltv180</th>\n",
       "      <td>631.903559</td>\n",
       "      <td>963.978707</td>\n",
       "    </tr>\n",
       "    <tr>\n",
       "      <th>ltv180</th>\n",
       "      <td>614.884127</td>\n",
       "      <td>881.060398</td>\n",
       "    </tr>\n",
       "    <tr>\n",
       "      <th>ltv180</th>\n",
       "      <td>659.260528</td>\n",
       "      <td>879.380983</td>\n",
       "    </tr>\n",
       "    <tr>\n",
       "      <th>ltv180</th>\n",
       "      <td>650.868808</td>\n",
       "      <td>950.009131</td>\n",
       "    </tr>\n",
       "    <tr>\n",
       "      <th>ltv180</th>\n",
       "      <td>657.008049</td>\n",
       "      <td>940.732576</td>\n",
       "    </tr>\n",
       "    <tr>\n",
       "      <th>...</th>\n",
       "      <td>...</td>\n",
       "      <td>...</td>\n",
       "    </tr>\n",
       "    <tr>\n",
       "      <th>ltv180</th>\n",
       "      <td>675.807650</td>\n",
       "      <td>983.717917</td>\n",
       "    </tr>\n",
       "    <tr>\n",
       "      <th>ltv180</th>\n",
       "      <td>662.523807</td>\n",
       "      <td>957.481032</td>\n",
       "    </tr>\n",
       "    <tr>\n",
       "      <th>ltv180</th>\n",
       "      <td>646.168663</td>\n",
       "      <td>942.293676</td>\n",
       "    </tr>\n",
       "    <tr>\n",
       "      <th>ltv180</th>\n",
       "      <td>688.579500</td>\n",
       "      <td>890.326061</td>\n",
       "    </tr>\n",
       "    <tr>\n",
       "      <th>ltv180</th>\n",
       "      <td>676.380596</td>\n",
       "      <td>897.186219</td>\n",
       "    </tr>\n",
       "  </tbody>\n",
       "</table>\n",
       "<p>1000 rows × 2 columns</p>\n",
       "</div>"
      ],
      "text/plain": [
       "lang         lang1       lang2\n",
       "ltv180  631.903559  963.978707\n",
       "ltv180  614.884127  881.060398\n",
       "ltv180  659.260528  879.380983\n",
       "ltv180  650.868808  950.009131\n",
       "ltv180  657.008049  940.732576\n",
       "...            ...         ...\n",
       "ltv180  675.807650  983.717917\n",
       "ltv180  662.523807  957.481032\n",
       "ltv180  646.168663  942.293676\n",
       "ltv180  688.579500  890.326061\n",
       "ltv180  676.380596  897.186219\n",
       "\n",
       "[1000 rows x 2 columns]"
      ]
     },
     "execution_count": 130,
     "metadata": {},
     "output_type": "execute_result"
    }
   ],
   "source": [
    "# создаем датасет из выборочных средних\n",
    "res = []\n",
    "for i in range(1000):\n",
    "    ddf = data1.sample(frac = 1, replace = True)\n",
    "    res.append(ddf.groupby('lang')['ltv180'].mean())\n",
    "new_df = pd.DataFrame(res)\n",
    "new_df"
   ]
  },
  {
   "cell_type": "code",
   "execution_count": 131,
   "id": "be6e7f38",
   "metadata": {},
   "outputs": [
    {
     "name": "stdout",
     "output_type": "stream",
     "text": [
      "581.040742321289 719.9131563323944\n"
     ]
    }
   ],
   "source": [
    "# вычисляем среднее и среднеквадратичное отклонение для каждой группы в новом датасете\n",
    "lang1_mean = new_df.lang1.mean()\n",
    "lang2_mean = new_df.lang2.mean()\n",
    "lang1_std = new_df.lang1.std(ddof=1)\n",
    "lang2_std = new_df.lang2.std(ddof=1)\n",
    "\n",
    "# вычисляем 95% доверительный интервал для каждой группы в новом датасете\n",
    "import scipy.stats as st\n",
    "x_lang1, y_lang1 = st.norm.interval(0.95, loc=lang1_mean, scale=lang1_std)\n",
    "x_lang2, y_lang2 = st.norm.interval(0.95, loc=lang2_mean, scale=lang2_std)\n",
    "print(x_lang1, y_lang1)"
   ]
  },
  {
   "cell_type": "code",
   "execution_count": 155,
   "id": "4a6ca4c3",
   "metadata": {},
   "outputs": [
    {
     "data": {
      "application/javascript": [
       "\n",
       "        if (window._pyforest_update_imports_cell) { window._pyforest_update_imports_cell('import numpy as np\\nimport matplotlib.pyplot as plt'); }\n",
       "    "
      ],
      "text/plain": [
       "<IPython.core.display.Javascript object>"
      ]
     },
     "metadata": {},
     "output_type": "display_data"
    },
    {
     "data": {
      "application/javascript": [
       "\n",
       "        if (window._pyforest_update_imports_cell) { window._pyforest_update_imports_cell('import numpy as np\\nimport matplotlib.pyplot as plt'); }\n",
       "    "
      ],
      "text/plain": [
       "<IPython.core.display.Javascript object>"
      ]
     },
     "metadata": {},
     "output_type": "display_data"
    },
    {
     "data": {
      "application/javascript": [
       "\n",
       "        if (window._pyforest_update_imports_cell) { window._pyforest_update_imports_cell('import numpy as np\\nimport matplotlib.pyplot as plt'); }\n",
       "    "
      ],
      "text/plain": [
       "<IPython.core.display.Javascript object>"
      ]
     },
     "metadata": {},
     "output_type": "display_data"
    },
    {
     "data": {
      "application/javascript": [
       "\n",
       "        if (window._pyforest_update_imports_cell) { window._pyforest_update_imports_cell('import numpy as np\\nimport matplotlib.pyplot as plt'); }\n",
       "    "
      ],
      "text/plain": [
       "<IPython.core.display.Javascript object>"
      ]
     },
     "metadata": {},
     "output_type": "display_data"
    },
    {
     "data": {
      "application/javascript": [
       "\n",
       "        if (window._pyforest_update_imports_cell) { window._pyforest_update_imports_cell('import numpy as np\\nimport matplotlib.pyplot as plt'); }\n",
       "    "
      ],
      "text/plain": [
       "<IPython.core.display.Javascript object>"
      ]
     },
     "metadata": {},
     "output_type": "display_data"
    },
    {
     "data": {
      "application/javascript": [
       "\n",
       "        if (window._pyforest_update_imports_cell) { window._pyforest_update_imports_cell('import numpy as np\\nimport matplotlib.pyplot as plt'); }\n",
       "    "
      ],
      "text/plain": [
       "<IPython.core.display.Javascript object>"
      ]
     },
     "metadata": {},
     "output_type": "display_data"
    },
    {
     "data": {
      "application/javascript": [
       "\n",
       "        if (window._pyforest_update_imports_cell) { window._pyforest_update_imports_cell('import numpy as np\\nimport matplotlib.pyplot as plt'); }\n",
       "    "
      ],
      "text/plain": [
       "<IPython.core.display.Javascript object>"
      ]
     },
     "metadata": {},
     "output_type": "display_data"
    },
    {
     "data": {
      "application/javascript": [
       "\n",
       "        if (window._pyforest_update_imports_cell) { window._pyforest_update_imports_cell('import numpy as np\\nimport matplotlib.pyplot as plt'); }\n",
       "    "
      ],
      "text/plain": [
       "<IPython.core.display.Javascript object>"
      ]
     },
     "metadata": {},
     "output_type": "display_data"
    },
    {
     "data": {
      "application/javascript": [
       "\n",
       "        if (window._pyforest_update_imports_cell) { window._pyforest_update_imports_cell('import numpy as np\\nimport matplotlib.pyplot as plt'); }\n",
       "    "
      ],
      "text/plain": [
       "<IPython.core.display.Javascript object>"
      ]
     },
     "metadata": {},
     "output_type": "display_data"
    },
    {
     "data": {
      "application/javascript": [
       "\n",
       "        if (window._pyforest_update_imports_cell) { window._pyforest_update_imports_cell('import numpy as np\\nimport matplotlib.pyplot as plt'); }\n",
       "    "
      ],
      "text/plain": [
       "<IPython.core.display.Javascript object>"
      ]
     },
     "metadata": {},
     "output_type": "display_data"
    },
    {
     "data": {
      "application/javascript": [
       "\n",
       "        if (window._pyforest_update_imports_cell) { window._pyforest_update_imports_cell('import numpy as np\\nimport matplotlib.pyplot as plt'); }\n",
       "    "
      ],
      "text/plain": [
       "<IPython.core.display.Javascript object>"
      ]
     },
     "metadata": {},
     "output_type": "display_data"
    },
    {
     "data": {
      "image/png": "[encoded data removed]",
      "text/plain": [
       "<Figure size 640x480 with 1 Axes>"
      ]
     },
     "metadata": {},
     "output_type": "display_data"
    }
   ],
   "source": [
    "# строим график распределения средних, на котором отображены обе группы, их средние и доверительные интервалы\n",
    "new_df['lang1'].plot.kde(label='Lang 1')\n",
    "new_df['lang2'].plot.kde(label='Lang 2')\n",
    "\n",
    "plt.axvline(lang1_mean, color='blue', linestyle='--', label='Lang 1 mean')\n",
    "plt.axvline(lang2_mean, color='orange', linestyle='--', label='Lang 2 mean')\n",
    "plt.axvline(x_lang1, color='blue', linestyle=':', label='Lang 1 95%')\n",
    "plt.axvline(y_lang1, color='blue', linestyle=':', label='')\n",
    "plt.axvline(x_lang2, color='orange', linestyle=':', label='Lang 2 95%')\n",
    "plt.axvline(y_lang2, color='orange', linestyle=':', label='')\n",
    "plt.legend(fontsize=7)\n",
    "plt.title('График плотности распределения LTV по языкам')\n",
    "plt.ylabel('Density')\n",
    "plt.xlabel('LTV')\n",
    "plt.show()"
   ]
  },
  {
   "cell_type": "code",
   "execution_count": null,
   "id": "43f83d94",
   "metadata": {},
   "outputs": [],
   "source": []
  }
 ],
 "metadata": {
  "kernelspec": {
   "display_name": "Python 3 (ipykernel)",
   "language": "python",
   "name": "python3"
  },
  "language_info": {
   "codemirror_mode": {
    "name": "ipython",
    "version": 3
   },
   "file_extension": ".py",
   "mimetype": "text/x-python",
   "name": "python",
   "nbconvert_exporter": "python",
   "pygments_lexer": "ipython3",
   "version": "3.9.13"
  }
 },
 "nbformat": 4,
 "nbformat_minor": 5
}
